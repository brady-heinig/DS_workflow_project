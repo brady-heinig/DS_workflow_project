{
 "cells": [
  {
   "cell_type": "code",
   "execution_count": null,
   "metadata": {},
   "outputs": [],
   "source": [
    "#Who is the best basketball player of all time? I will be looking at diving into\n",
    "#the analytics of the Goat debate, to decide if Michael Jordan or Lebron James is the \n",
    "#greatest basketball player ever. I will be analyzing what factors into that distinction, including\n",
    "#advanced stats, longevity, winning metrics, and team analytics.\n",
    "#I used the NBA_api to pull the data"
   ]
  },
  {
   "cell_type": "code",
   "execution_count": 61,
   "metadata": {},
   "outputs": [],
   "source": [
    "from nba_api.stats.static import players\n",
    "from nba_api.stats.library.parameters import SeasonAll\n",
    "from nba_api.stats.endpoints import playergamelog\n",
    "import pandas as pd \n",
    "import plotly.express as px\n",
    "import plotly\n",
    "\n"
   ]
  },
  {
   "cell_type": "code",
   "execution_count": 63,
   "metadata": {},
   "outputs": [],
   "source": [
    "#Get players from dictionary that I pulled from the API.\n",
    "player_dict = players.get_players()\n",
    "\n",
    "#Get Lebron's player ID\n",
    "lebron = [player for player in player_dict if player['full_name'] == 'LeBron James'][0]\n",
    "lebron_id = lebron['id']\n",
    "\n",
    "#Get Jordan's Player ID\n",
    "mj = [player for player in player_dict if player['full_name'] == 'Michael Jordan'][0]\n",
    "mj_id = mj['id']\n",
    "\n",
    "#Get gamelogs for each player and combine them into 1 dataframe\n",
    "lebron_gamelog = playergamelog.PlayerGameLog(player_id=lebron_id, season = SeasonAll.all)\n",
    "lebron_gamelog_df = lebron_gamelog.get_data_frames()\n",
    "\n",
    "mj_gamelog = playergamelog.PlayerGameLog(player_id=mj_id, season = SeasonAll.all)\n",
    "mj_gamelog_df = mj_gamelog.get_data_frames()\n",
    "\n",
    "combined_df = pd.concat([mj_gamelog_df[0], lebron_gamelog_df[0]],  ignore_index=False)"
   ]
  },
  {
   "cell_type": "code",
   "execution_count": 64,
   "metadata": {},
   "outputs": [],
   "source": [
    "#Write a csv file of the Combined dataframe\n",
    "combined_df.to_csv('goat_data.csv', index=False)"
   ]
  },
  {
   "cell_type": "code",
   "execution_count": 65,
   "metadata": {},
   "outputs": [],
   "source": [
    "#Turn the player dictionary into a dataframe\n",
    "player_dict = pd.DataFrame(player_dict)\n",
    "player_dict = player_dict[['id','full_name']]\n"
   ]
  },
  {
   "cell_type": "code",
   "execution_count": 66,
   "metadata": {},
   "outputs": [
    {
     "data": {
      "text/html": [
       "<div>\n",
       "<style scoped>\n",
       "    .dataframe tbody tr th:only-of-type {\n",
       "        vertical-align: middle;\n",
       "    }\n",
       "\n",
       "    .dataframe tbody tr th {\n",
       "        vertical-align: top;\n",
       "    }\n",
       "\n",
       "    .dataframe thead th {\n",
       "        text-align: right;\n",
       "    }\n",
       "</style>\n",
       "<table border=\"1\" class=\"dataframe\">\n",
       "  <thead>\n",
       "    <tr style=\"text-align: right;\">\n",
       "      <th></th>\n",
       "      <th>SEASON_ID</th>\n",
       "      <th>REB</th>\n",
       "      <th>PTS</th>\n",
       "      <th>Games_Played</th>\n",
       "      <th>id</th>\n",
       "      <th>PPG</th>\n",
       "      <th>full_name</th>\n",
       "      <th>Season</th>\n",
       "    </tr>\n",
       "  </thead>\n",
       "  <tbody>\n",
       "    <tr>\n",
       "      <th>0</th>\n",
       "      <td>21984</td>\n",
       "      <td>534</td>\n",
       "      <td>2313</td>\n",
       "      <td>82</td>\n",
       "      <td>893</td>\n",
       "      <td>28.207317</td>\n",
       "      <td>Michael Jordan</td>\n",
       "      <td>15</td>\n",
       "    </tr>\n",
       "    <tr>\n",
       "      <th>1</th>\n",
       "      <td>21985</td>\n",
       "      <td>64</td>\n",
       "      <td>408</td>\n",
       "      <td>18</td>\n",
       "      <td>893</td>\n",
       "      <td>22.666667</td>\n",
       "      <td>Michael Jordan</td>\n",
       "      <td>14</td>\n",
       "    </tr>\n",
       "    <tr>\n",
       "      <th>2</th>\n",
       "      <td>21986</td>\n",
       "      <td>430</td>\n",
       "      <td>3041</td>\n",
       "      <td>82</td>\n",
       "      <td>893</td>\n",
       "      <td>37.085366</td>\n",
       "      <td>Michael Jordan</td>\n",
       "      <td>13</td>\n",
       "    </tr>\n",
       "    <tr>\n",
       "      <th>3</th>\n",
       "      <td>21987</td>\n",
       "      <td>449</td>\n",
       "      <td>2868</td>\n",
       "      <td>82</td>\n",
       "      <td>893</td>\n",
       "      <td>34.975610</td>\n",
       "      <td>Michael Jordan</td>\n",
       "      <td>12</td>\n",
       "    </tr>\n",
       "    <tr>\n",
       "      <th>4</th>\n",
       "      <td>21988</td>\n",
       "      <td>652</td>\n",
       "      <td>2633</td>\n",
       "      <td>81</td>\n",
       "      <td>893</td>\n",
       "      <td>32.506173</td>\n",
       "      <td>Michael Jordan</td>\n",
       "      <td>11</td>\n",
       "    </tr>\n",
       "    <tr>\n",
       "      <th>5</th>\n",
       "      <td>21989</td>\n",
       "      <td>565</td>\n",
       "      <td>2753</td>\n",
       "      <td>82</td>\n",
       "      <td>893</td>\n",
       "      <td>33.573171</td>\n",
       "      <td>Michael Jordan</td>\n",
       "      <td>10</td>\n",
       "    </tr>\n",
       "    <tr>\n",
       "      <th>6</th>\n",
       "      <td>21990</td>\n",
       "      <td>492</td>\n",
       "      <td>2580</td>\n",
       "      <td>82</td>\n",
       "      <td>893</td>\n",
       "      <td>31.463415</td>\n",
       "      <td>Michael Jordan</td>\n",
       "      <td>9</td>\n",
       "    </tr>\n",
       "    <tr>\n",
       "      <th>7</th>\n",
       "      <td>21991</td>\n",
       "      <td>511</td>\n",
       "      <td>2404</td>\n",
       "      <td>80</td>\n",
       "      <td>893</td>\n",
       "      <td>30.050000</td>\n",
       "      <td>Michael Jordan</td>\n",
       "      <td>8</td>\n",
       "    </tr>\n",
       "    <tr>\n",
       "      <th>8</th>\n",
       "      <td>21992</td>\n",
       "      <td>522</td>\n",
       "      <td>2541</td>\n",
       "      <td>78</td>\n",
       "      <td>893</td>\n",
       "      <td>32.576923</td>\n",
       "      <td>Michael Jordan</td>\n",
       "      <td>7</td>\n",
       "    </tr>\n",
       "    <tr>\n",
       "      <th>9</th>\n",
       "      <td>21994</td>\n",
       "      <td>117</td>\n",
       "      <td>457</td>\n",
       "      <td>17</td>\n",
       "      <td>893</td>\n",
       "      <td>26.882353</td>\n",
       "      <td>Michael Jordan</td>\n",
       "      <td>6</td>\n",
       "    </tr>\n",
       "    <tr>\n",
       "      <th>10</th>\n",
       "      <td>21995</td>\n",
       "      <td>543</td>\n",
       "      <td>2491</td>\n",
       "      <td>82</td>\n",
       "      <td>893</td>\n",
       "      <td>30.378049</td>\n",
       "      <td>Michael Jordan</td>\n",
       "      <td>5</td>\n",
       "    </tr>\n",
       "    <tr>\n",
       "      <th>11</th>\n",
       "      <td>21996</td>\n",
       "      <td>482</td>\n",
       "      <td>2431</td>\n",
       "      <td>82</td>\n",
       "      <td>893</td>\n",
       "      <td>29.646341</td>\n",
       "      <td>Michael Jordan</td>\n",
       "      <td>4</td>\n",
       "    </tr>\n",
       "    <tr>\n",
       "      <th>12</th>\n",
       "      <td>21997</td>\n",
       "      <td>475</td>\n",
       "      <td>2357</td>\n",
       "      <td>82</td>\n",
       "      <td>893</td>\n",
       "      <td>28.743902</td>\n",
       "      <td>Michael Jordan</td>\n",
       "      <td>3</td>\n",
       "    </tr>\n",
       "    <tr>\n",
       "      <th>13</th>\n",
       "      <td>22001</td>\n",
       "      <td>339</td>\n",
       "      <td>1375</td>\n",
       "      <td>60</td>\n",
       "      <td>893</td>\n",
       "      <td>22.916667</td>\n",
       "      <td>Michael Jordan</td>\n",
       "      <td>2</td>\n",
       "    </tr>\n",
       "    <tr>\n",
       "      <th>14</th>\n",
       "      <td>22002</td>\n",
       "      <td>497</td>\n",
       "      <td>1640</td>\n",
       "      <td>82</td>\n",
       "      <td>893</td>\n",
       "      <td>20.000000</td>\n",
       "      <td>Michael Jordan</td>\n",
       "      <td>1</td>\n",
       "    </tr>\n",
       "    <tr>\n",
       "      <th>15</th>\n",
       "      <td>22003</td>\n",
       "      <td>432</td>\n",
       "      <td>1654</td>\n",
       "      <td>79</td>\n",
       "      <td>2544</td>\n",
       "      <td>20.936709</td>\n",
       "      <td>LeBron James</td>\n",
       "      <td>21</td>\n",
       "    </tr>\n",
       "    <tr>\n",
       "      <th>16</th>\n",
       "      <td>22004</td>\n",
       "      <td>588</td>\n",
       "      <td>2175</td>\n",
       "      <td>80</td>\n",
       "      <td>2544</td>\n",
       "      <td>27.187500</td>\n",
       "      <td>LeBron James</td>\n",
       "      <td>20</td>\n",
       "    </tr>\n",
       "    <tr>\n",
       "      <th>17</th>\n",
       "      <td>22005</td>\n",
       "      <td>556</td>\n",
       "      <td>2478</td>\n",
       "      <td>79</td>\n",
       "      <td>2544</td>\n",
       "      <td>31.367089</td>\n",
       "      <td>LeBron James</td>\n",
       "      <td>19</td>\n",
       "    </tr>\n",
       "    <tr>\n",
       "      <th>18</th>\n",
       "      <td>22006</td>\n",
       "      <td>526</td>\n",
       "      <td>2132</td>\n",
       "      <td>78</td>\n",
       "      <td>2544</td>\n",
       "      <td>27.333333</td>\n",
       "      <td>LeBron James</td>\n",
       "      <td>18</td>\n",
       "    </tr>\n",
       "    <tr>\n",
       "      <th>19</th>\n",
       "      <td>22007</td>\n",
       "      <td>592</td>\n",
       "      <td>2250</td>\n",
       "      <td>75</td>\n",
       "      <td>2544</td>\n",
       "      <td>30.000000</td>\n",
       "      <td>LeBron James</td>\n",
       "      <td>17</td>\n",
       "    </tr>\n",
       "    <tr>\n",
       "      <th>20</th>\n",
       "      <td>22008</td>\n",
       "      <td>613</td>\n",
       "      <td>2304</td>\n",
       "      <td>81</td>\n",
       "      <td>2544</td>\n",
       "      <td>28.444444</td>\n",
       "      <td>LeBron James</td>\n",
       "      <td>16</td>\n",
       "    </tr>\n",
       "    <tr>\n",
       "      <th>21</th>\n",
       "      <td>22009</td>\n",
       "      <td>554</td>\n",
       "      <td>2258</td>\n",
       "      <td>76</td>\n",
       "      <td>2544</td>\n",
       "      <td>29.710526</td>\n",
       "      <td>LeBron James</td>\n",
       "      <td>15</td>\n",
       "    </tr>\n",
       "    <tr>\n",
       "      <th>22</th>\n",
       "      <td>22010</td>\n",
       "      <td>590</td>\n",
       "      <td>2111</td>\n",
       "      <td>79</td>\n",
       "      <td>2544</td>\n",
       "      <td>26.721519</td>\n",
       "      <td>LeBron James</td>\n",
       "      <td>14</td>\n",
       "    </tr>\n",
       "    <tr>\n",
       "      <th>23</th>\n",
       "      <td>22011</td>\n",
       "      <td>492</td>\n",
       "      <td>1683</td>\n",
       "      <td>62</td>\n",
       "      <td>2544</td>\n",
       "      <td>27.145161</td>\n",
       "      <td>LeBron James</td>\n",
       "      <td>13</td>\n",
       "    </tr>\n",
       "    <tr>\n",
       "      <th>24</th>\n",
       "      <td>22012</td>\n",
       "      <td>610</td>\n",
       "      <td>2036</td>\n",
       "      <td>76</td>\n",
       "      <td>2544</td>\n",
       "      <td>26.789474</td>\n",
       "      <td>LeBron James</td>\n",
       "      <td>12</td>\n",
       "    </tr>\n",
       "    <tr>\n",
       "      <th>25</th>\n",
       "      <td>22013</td>\n",
       "      <td>533</td>\n",
       "      <td>2089</td>\n",
       "      <td>77</td>\n",
       "      <td>2544</td>\n",
       "      <td>27.129870</td>\n",
       "      <td>LeBron James</td>\n",
       "      <td>11</td>\n",
       "    </tr>\n",
       "    <tr>\n",
       "      <th>26</th>\n",
       "      <td>22014</td>\n",
       "      <td>416</td>\n",
       "      <td>1743</td>\n",
       "      <td>69</td>\n",
       "      <td>2544</td>\n",
       "      <td>25.260870</td>\n",
       "      <td>LeBron James</td>\n",
       "      <td>10</td>\n",
       "    </tr>\n",
       "    <tr>\n",
       "      <th>27</th>\n",
       "      <td>22015</td>\n",
       "      <td>565</td>\n",
       "      <td>1920</td>\n",
       "      <td>76</td>\n",
       "      <td>2544</td>\n",
       "      <td>25.263158</td>\n",
       "      <td>LeBron James</td>\n",
       "      <td>9</td>\n",
       "    </tr>\n",
       "    <tr>\n",
       "      <th>28</th>\n",
       "      <td>22016</td>\n",
       "      <td>639</td>\n",
       "      <td>1954</td>\n",
       "      <td>74</td>\n",
       "      <td>2544</td>\n",
       "      <td>26.405405</td>\n",
       "      <td>LeBron James</td>\n",
       "      <td>8</td>\n",
       "    </tr>\n",
       "    <tr>\n",
       "      <th>29</th>\n",
       "      <td>22017</td>\n",
       "      <td>709</td>\n",
       "      <td>2251</td>\n",
       "      <td>82</td>\n",
       "      <td>2544</td>\n",
       "      <td>27.451220</td>\n",
       "      <td>LeBron James</td>\n",
       "      <td>7</td>\n",
       "    </tr>\n",
       "    <tr>\n",
       "      <th>30</th>\n",
       "      <td>22018</td>\n",
       "      <td>465</td>\n",
       "      <td>1505</td>\n",
       "      <td>55</td>\n",
       "      <td>2544</td>\n",
       "      <td>27.363636</td>\n",
       "      <td>LeBron James</td>\n",
       "      <td>6</td>\n",
       "    </tr>\n",
       "    <tr>\n",
       "      <th>31</th>\n",
       "      <td>22019</td>\n",
       "      <td>525</td>\n",
       "      <td>1698</td>\n",
       "      <td>67</td>\n",
       "      <td>2544</td>\n",
       "      <td>25.343284</td>\n",
       "      <td>LeBron James</td>\n",
       "      <td>5</td>\n",
       "    </tr>\n",
       "    <tr>\n",
       "      <th>32</th>\n",
       "      <td>22020</td>\n",
       "      <td>346</td>\n",
       "      <td>1126</td>\n",
       "      <td>45</td>\n",
       "      <td>2544</td>\n",
       "      <td>25.022222</td>\n",
       "      <td>LeBron James</td>\n",
       "      <td>4</td>\n",
       "    </tr>\n",
       "    <tr>\n",
       "      <th>33</th>\n",
       "      <td>22021</td>\n",
       "      <td>459</td>\n",
       "      <td>1695</td>\n",
       "      <td>56</td>\n",
       "      <td>2544</td>\n",
       "      <td>30.267857</td>\n",
       "      <td>LeBron James</td>\n",
       "      <td>3</td>\n",
       "    </tr>\n",
       "    <tr>\n",
       "      <th>34</th>\n",
       "      <td>22022</td>\n",
       "      <td>457</td>\n",
       "      <td>1590</td>\n",
       "      <td>55</td>\n",
       "      <td>2544</td>\n",
       "      <td>28.909091</td>\n",
       "      <td>LeBron James</td>\n",
       "      <td>2</td>\n",
       "    </tr>\n",
       "    <tr>\n",
       "      <th>35</th>\n",
       "      <td>22023</td>\n",
       "      <td>95</td>\n",
       "      <td>271</td>\n",
       "      <td>11</td>\n",
       "      <td>2544</td>\n",
       "      <td>24.636364</td>\n",
       "      <td>LeBron James</td>\n",
       "      <td>1</td>\n",
       "    </tr>\n",
       "  </tbody>\n",
       "</table>\n",
       "</div>"
      ],
      "text/plain": [
       "   SEASON_ID  REB   PTS  Games_Played    id        PPG       full_name  Season\n",
       "0      21984  534  2313            82   893  28.207317  Michael Jordan      15\n",
       "1      21985   64   408            18   893  22.666667  Michael Jordan      14\n",
       "2      21986  430  3041            82   893  37.085366  Michael Jordan      13\n",
       "3      21987  449  2868            82   893  34.975610  Michael Jordan      12\n",
       "4      21988  652  2633            81   893  32.506173  Michael Jordan      11\n",
       "5      21989  565  2753            82   893  33.573171  Michael Jordan      10\n",
       "6      21990  492  2580            82   893  31.463415  Michael Jordan       9\n",
       "7      21991  511  2404            80   893  30.050000  Michael Jordan       8\n",
       "8      21992  522  2541            78   893  32.576923  Michael Jordan       7\n",
       "9      21994  117   457            17   893  26.882353  Michael Jordan       6\n",
       "10     21995  543  2491            82   893  30.378049  Michael Jordan       5\n",
       "11     21996  482  2431            82   893  29.646341  Michael Jordan       4\n",
       "12     21997  475  2357            82   893  28.743902  Michael Jordan       3\n",
       "13     22001  339  1375            60   893  22.916667  Michael Jordan       2\n",
       "14     22002  497  1640            82   893  20.000000  Michael Jordan       1\n",
       "15     22003  432  1654            79  2544  20.936709    LeBron James      21\n",
       "16     22004  588  2175            80  2544  27.187500    LeBron James      20\n",
       "17     22005  556  2478            79  2544  31.367089    LeBron James      19\n",
       "18     22006  526  2132            78  2544  27.333333    LeBron James      18\n",
       "19     22007  592  2250            75  2544  30.000000    LeBron James      17\n",
       "20     22008  613  2304            81  2544  28.444444    LeBron James      16\n",
       "21     22009  554  2258            76  2544  29.710526    LeBron James      15\n",
       "22     22010  590  2111            79  2544  26.721519    LeBron James      14\n",
       "23     22011  492  1683            62  2544  27.145161    LeBron James      13\n",
       "24     22012  610  2036            76  2544  26.789474    LeBron James      12\n",
       "25     22013  533  2089            77  2544  27.129870    LeBron James      11\n",
       "26     22014  416  1743            69  2544  25.260870    LeBron James      10\n",
       "27     22015  565  1920            76  2544  25.263158    LeBron James       9\n",
       "28     22016  639  1954            74  2544  26.405405    LeBron James       8\n",
       "29     22017  709  2251            82  2544  27.451220    LeBron James       7\n",
       "30     22018  465  1505            55  2544  27.363636    LeBron James       6\n",
       "31     22019  525  1698            67  2544  25.343284    LeBron James       5\n",
       "32     22020  346  1126            45  2544  25.022222    LeBron James       4\n",
       "33     22021  459  1695            56  2544  30.267857    LeBron James       3\n",
       "34     22022  457  1590            55  2544  28.909091    LeBron James       2\n",
       "35     22023   95   271            11  2544  24.636364    LeBron James       1"
      ]
     },
     "execution_count": 66,
     "metadata": {},
     "output_type": "execute_result"
    }
   ],
   "source": [
    "#Create a Dataframe of each game agregated by player and season, and create a new column called PPG\n",
    "result_df = combined_df.groupby(['SEASON_ID', 'Player_ID']).agg({'REB': 'sum', 'PTS': 'sum','Game_ID': 'count'}).reset_index()\n",
    "result_df['Games_Played'] = result_df['Game_ID']\n",
    "result_df = result_df.drop('Game_ID', axis=1)\n",
    "result_df['id'] = result_df['Player_ID']\n",
    "result_df = result_df.drop('Player_ID', axis=1)\n",
    "result_df['PPG'] = result_df['PTS']/result_df['Games_Played']\n",
    "result_df = pd.merge(result_df, player_dict, on='id', how='left')\n",
    "result_df['Season'] = result_df.groupby('full_name')['SEASON_ID'].rank(ascending=False).astype(int)\n",
    "result_df\n"
   ]
  },
  {
   "cell_type": "code",
   "execution_count": 60,
   "metadata": {},
   "outputs": [
    {
     "data": {
      "application/vnd.plotly.v1+json": {
       "config": {
        "plotlyServerURL": "https://plot.ly"
       },
       "data": [
        {
         "customdata": [
          [
           "Michael Jordan"
          ],
          [
           "Michael Jordan"
          ],
          [
           "Michael Jordan"
          ],
          [
           "Michael Jordan"
          ],
          [
           "Michael Jordan"
          ],
          [
           "Michael Jordan"
          ],
          [
           "Michael Jordan"
          ],
          [
           "Michael Jordan"
          ],
          [
           "Michael Jordan"
          ],
          [
           "Michael Jordan"
          ],
          [
           "Michael Jordan"
          ],
          [
           "Michael Jordan"
          ],
          [
           "Michael Jordan"
          ],
          [
           "Michael Jordan"
          ],
          [
           "Michael Jordan"
          ]
         ],
         "hovertemplate": "Name=%{customdata[0]}<br>Season=%{x}<br>Points Per Game=%{y}<extra></extra>",
         "legendgroup": "Michael Jordan",
         "line": {
          "color": "#636efa",
          "dash": "solid"
         },
         "marker": {
          "symbol": "circle"
         },
         "mode": "lines",
         "name": "Michael Jordan",
         "orientation": "v",
         "showlegend": true,
         "type": "scatter",
         "x": [
          15,
          14,
          13,
          12,
          11,
          10,
          9,
          8,
          7,
          6,
          5,
          4,
          3,
          2,
          1
         ],
         "xaxis": "x",
         "y": [
          28.20731707317073,
          22.666666666666668,
          37.08536585365854,
          34.97560975609756,
          32.50617283950617,
          33.573170731707314,
          31.463414634146343,
          30.05,
          32.57692307692308,
          26.88235294117647,
          30.378048780487806,
          29.646341463414632,
          28.74390243902439,
          22.916666666666668,
          20
         ],
         "yaxis": "y"
        },
        {
         "customdata": [
          [
           "LeBron James"
          ],
          [
           "LeBron James"
          ],
          [
           "LeBron James"
          ],
          [
           "LeBron James"
          ],
          [
           "LeBron James"
          ],
          [
           "LeBron James"
          ],
          [
           "LeBron James"
          ],
          [
           "LeBron James"
          ],
          [
           "LeBron James"
          ],
          [
           "LeBron James"
          ],
          [
           "LeBron James"
          ],
          [
           "LeBron James"
          ],
          [
           "LeBron James"
          ],
          [
           "LeBron James"
          ],
          [
           "LeBron James"
          ],
          [
           "LeBron James"
          ],
          [
           "LeBron James"
          ],
          [
           "LeBron James"
          ],
          [
           "LeBron James"
          ],
          [
           "LeBron James"
          ],
          [
           "LeBron James"
          ]
         ],
         "hovertemplate": "Name=%{customdata[0]}<br>Season=%{x}<br>Points Per Game=%{y}<extra></extra>",
         "legendgroup": "LeBron James",
         "line": {
          "color": "#EF553B",
          "dash": "solid"
         },
         "marker": {
          "symbol": "circle"
         },
         "mode": "lines",
         "name": "LeBron James",
         "orientation": "v",
         "showlegend": true,
         "type": "scatter",
         "x": [
          21,
          20,
          19,
          18,
          17,
          16,
          15,
          14,
          13,
          12,
          11,
          10,
          9,
          8,
          7,
          6,
          5,
          4,
          3,
          2,
          1
         ],
         "xaxis": "x",
         "y": [
          20.936708860759495,
          27.1875,
          31.367088607594937,
          27.333333333333332,
          30,
          28.444444444444443,
          29.710526315789473,
          26.72151898734177,
          27.14516129032258,
          26.789473684210527,
          27.12987012987013,
          25.26086956521739,
          25.263157894736842,
          26.405405405405407,
          27.451219512195124,
          27.363636363636363,
          25.34328358208955,
          25.022222222222222,
          30.267857142857142,
          28.90909090909091,
          24.636363636363637
         ],
         "yaxis": "y"
        }
       ],
       "layout": {
        "legend": {
         "title": {
          "text": "Name"
         },
         "tracegroupgap": 0
        },
        "template": {
         "data": {
          "bar": [
           {
            "error_x": {
             "color": "#2a3f5f"
            },
            "error_y": {
             "color": "#2a3f5f"
            },
            "marker": {
             "line": {
              "color": "#E5ECF6",
              "width": 0.5
             },
             "pattern": {
              "fillmode": "overlay",
              "size": 10,
              "solidity": 0.2
             }
            },
            "type": "bar"
           }
          ],
          "barpolar": [
           {
            "marker": {
             "line": {
              "color": "#E5ECF6",
              "width": 0.5
             },
             "pattern": {
              "fillmode": "overlay",
              "size": 10,
              "solidity": 0.2
             }
            },
            "type": "barpolar"
           }
          ],
          "carpet": [
           {
            "aaxis": {
             "endlinecolor": "#2a3f5f",
             "gridcolor": "white",
             "linecolor": "white",
             "minorgridcolor": "white",
             "startlinecolor": "#2a3f5f"
            },
            "baxis": {
             "endlinecolor": "#2a3f5f",
             "gridcolor": "white",
             "linecolor": "white",
             "minorgridcolor": "white",
             "startlinecolor": "#2a3f5f"
            },
            "type": "carpet"
           }
          ],
          "choropleth": [
           {
            "colorbar": {
             "outlinewidth": 0,
             "ticks": ""
            },
            "type": "choropleth"
           }
          ],
          "contour": [
           {
            "colorbar": {
             "outlinewidth": 0,
             "ticks": ""
            },
            "colorscale": [
             [
              0,
              "#0d0887"
             ],
             [
              0.1111111111111111,
              "#46039f"
             ],
             [
              0.2222222222222222,
              "#7201a8"
             ],
             [
              0.3333333333333333,
              "#9c179e"
             ],
             [
              0.4444444444444444,
              "#bd3786"
             ],
             [
              0.5555555555555556,
              "#d8576b"
             ],
             [
              0.6666666666666666,
              "#ed7953"
             ],
             [
              0.7777777777777778,
              "#fb9f3a"
             ],
             [
              0.8888888888888888,
              "#fdca26"
             ],
             [
              1,
              "#f0f921"
             ]
            ],
            "type": "contour"
           }
          ],
          "contourcarpet": [
           {
            "colorbar": {
             "outlinewidth": 0,
             "ticks": ""
            },
            "type": "contourcarpet"
           }
          ],
          "heatmap": [
           {
            "colorbar": {
             "outlinewidth": 0,
             "ticks": ""
            },
            "colorscale": [
             [
              0,
              "#0d0887"
             ],
             [
              0.1111111111111111,
              "#46039f"
             ],
             [
              0.2222222222222222,
              "#7201a8"
             ],
             [
              0.3333333333333333,
              "#9c179e"
             ],
             [
              0.4444444444444444,
              "#bd3786"
             ],
             [
              0.5555555555555556,
              "#d8576b"
             ],
             [
              0.6666666666666666,
              "#ed7953"
             ],
             [
              0.7777777777777778,
              "#fb9f3a"
             ],
             [
              0.8888888888888888,
              "#fdca26"
             ],
             [
              1,
              "#f0f921"
             ]
            ],
            "type": "heatmap"
           }
          ],
          "heatmapgl": [
           {
            "colorbar": {
             "outlinewidth": 0,
             "ticks": ""
            },
            "colorscale": [
             [
              0,
              "#0d0887"
             ],
             [
              0.1111111111111111,
              "#46039f"
             ],
             [
              0.2222222222222222,
              "#7201a8"
             ],
             [
              0.3333333333333333,
              "#9c179e"
             ],
             [
              0.4444444444444444,
              "#bd3786"
             ],
             [
              0.5555555555555556,
              "#d8576b"
             ],
             [
              0.6666666666666666,
              "#ed7953"
             ],
             [
              0.7777777777777778,
              "#fb9f3a"
             ],
             [
              0.8888888888888888,
              "#fdca26"
             ],
             [
              1,
              "#f0f921"
             ]
            ],
            "type": "heatmapgl"
           }
          ],
          "histogram": [
           {
            "marker": {
             "pattern": {
              "fillmode": "overlay",
              "size": 10,
              "solidity": 0.2
             }
            },
            "type": "histogram"
           }
          ],
          "histogram2d": [
           {
            "colorbar": {
             "outlinewidth": 0,
             "ticks": ""
            },
            "colorscale": [
             [
              0,
              "#0d0887"
             ],
             [
              0.1111111111111111,
              "#46039f"
             ],
             [
              0.2222222222222222,
              "#7201a8"
             ],
             [
              0.3333333333333333,
              "#9c179e"
             ],
             [
              0.4444444444444444,
              "#bd3786"
             ],
             [
              0.5555555555555556,
              "#d8576b"
             ],
             [
              0.6666666666666666,
              "#ed7953"
             ],
             [
              0.7777777777777778,
              "#fb9f3a"
             ],
             [
              0.8888888888888888,
              "#fdca26"
             ],
             [
              1,
              "#f0f921"
             ]
            ],
            "type": "histogram2d"
           }
          ],
          "histogram2dcontour": [
           {
            "colorbar": {
             "outlinewidth": 0,
             "ticks": ""
            },
            "colorscale": [
             [
              0,
              "#0d0887"
             ],
             [
              0.1111111111111111,
              "#46039f"
             ],
             [
              0.2222222222222222,
              "#7201a8"
             ],
             [
              0.3333333333333333,
              "#9c179e"
             ],
             [
              0.4444444444444444,
              "#bd3786"
             ],
             [
              0.5555555555555556,
              "#d8576b"
             ],
             [
              0.6666666666666666,
              "#ed7953"
             ],
             [
              0.7777777777777778,
              "#fb9f3a"
             ],
             [
              0.8888888888888888,
              "#fdca26"
             ],
             [
              1,
              "#f0f921"
             ]
            ],
            "type": "histogram2dcontour"
           }
          ],
          "mesh3d": [
           {
            "colorbar": {
             "outlinewidth": 0,
             "ticks": ""
            },
            "type": "mesh3d"
           }
          ],
          "parcoords": [
           {
            "line": {
             "colorbar": {
              "outlinewidth": 0,
              "ticks": ""
             }
            },
            "type": "parcoords"
           }
          ],
          "pie": [
           {
            "automargin": true,
            "type": "pie"
           }
          ],
          "scatter": [
           {
            "fillpattern": {
             "fillmode": "overlay",
             "size": 10,
             "solidity": 0.2
            },
            "type": "scatter"
           }
          ],
          "scatter3d": [
           {
            "line": {
             "colorbar": {
              "outlinewidth": 0,
              "ticks": ""
             }
            },
            "marker": {
             "colorbar": {
              "outlinewidth": 0,
              "ticks": ""
             }
            },
            "type": "scatter3d"
           }
          ],
          "scattercarpet": [
           {
            "marker": {
             "colorbar": {
              "outlinewidth": 0,
              "ticks": ""
             }
            },
            "type": "scattercarpet"
           }
          ],
          "scattergeo": [
           {
            "marker": {
             "colorbar": {
              "outlinewidth": 0,
              "ticks": ""
             }
            },
            "type": "scattergeo"
           }
          ],
          "scattergl": [
           {
            "marker": {
             "colorbar": {
              "outlinewidth": 0,
              "ticks": ""
             }
            },
            "type": "scattergl"
           }
          ],
          "scattermapbox": [
           {
            "marker": {
             "colorbar": {
              "outlinewidth": 0,
              "ticks": ""
             }
            },
            "type": "scattermapbox"
           }
          ],
          "scatterpolar": [
           {
            "marker": {
             "colorbar": {
              "outlinewidth": 0,
              "ticks": ""
             }
            },
            "type": "scatterpolar"
           }
          ],
          "scatterpolargl": [
           {
            "marker": {
             "colorbar": {
              "outlinewidth": 0,
              "ticks": ""
             }
            },
            "type": "scatterpolargl"
           }
          ],
          "scatterternary": [
           {
            "marker": {
             "colorbar": {
              "outlinewidth": 0,
              "ticks": ""
             }
            },
            "type": "scatterternary"
           }
          ],
          "surface": [
           {
            "colorbar": {
             "outlinewidth": 0,
             "ticks": ""
            },
            "colorscale": [
             [
              0,
              "#0d0887"
             ],
             [
              0.1111111111111111,
              "#46039f"
             ],
             [
              0.2222222222222222,
              "#7201a8"
             ],
             [
              0.3333333333333333,
              "#9c179e"
             ],
             [
              0.4444444444444444,
              "#bd3786"
             ],
             [
              0.5555555555555556,
              "#d8576b"
             ],
             [
              0.6666666666666666,
              "#ed7953"
             ],
             [
              0.7777777777777778,
              "#fb9f3a"
             ],
             [
              0.8888888888888888,
              "#fdca26"
             ],
             [
              1,
              "#f0f921"
             ]
            ],
            "type": "surface"
           }
          ],
          "table": [
           {
            "cells": {
             "fill": {
              "color": "#EBF0F8"
             },
             "line": {
              "color": "white"
             }
            },
            "header": {
             "fill": {
              "color": "#C8D4E3"
             },
             "line": {
              "color": "white"
             }
            },
            "type": "table"
           }
          ]
         },
         "layout": {
          "annotationdefaults": {
           "arrowcolor": "#2a3f5f",
           "arrowhead": 0,
           "arrowwidth": 1
          },
          "autotypenumbers": "strict",
          "coloraxis": {
           "colorbar": {
            "outlinewidth": 0,
            "ticks": ""
           }
          },
          "colorscale": {
           "diverging": [
            [
             0,
             "#8e0152"
            ],
            [
             0.1,
             "#c51b7d"
            ],
            [
             0.2,
             "#de77ae"
            ],
            [
             0.3,
             "#f1b6da"
            ],
            [
             0.4,
             "#fde0ef"
            ],
            [
             0.5,
             "#f7f7f7"
            ],
            [
             0.6,
             "#e6f5d0"
            ],
            [
             0.7,
             "#b8e186"
            ],
            [
             0.8,
             "#7fbc41"
            ],
            [
             0.9,
             "#4d9221"
            ],
            [
             1,
             "#276419"
            ]
           ],
           "sequential": [
            [
             0,
             "#0d0887"
            ],
            [
             0.1111111111111111,
             "#46039f"
            ],
            [
             0.2222222222222222,
             "#7201a8"
            ],
            [
             0.3333333333333333,
             "#9c179e"
            ],
            [
             0.4444444444444444,
             "#bd3786"
            ],
            [
             0.5555555555555556,
             "#d8576b"
            ],
            [
             0.6666666666666666,
             "#ed7953"
            ],
            [
             0.7777777777777778,
             "#fb9f3a"
            ],
            [
             0.8888888888888888,
             "#fdca26"
            ],
            [
             1,
             "#f0f921"
            ]
           ],
           "sequentialminus": [
            [
             0,
             "#0d0887"
            ],
            [
             0.1111111111111111,
             "#46039f"
            ],
            [
             0.2222222222222222,
             "#7201a8"
            ],
            [
             0.3333333333333333,
             "#9c179e"
            ],
            [
             0.4444444444444444,
             "#bd3786"
            ],
            [
             0.5555555555555556,
             "#d8576b"
            ],
            [
             0.6666666666666666,
             "#ed7953"
            ],
            [
             0.7777777777777778,
             "#fb9f3a"
            ],
            [
             0.8888888888888888,
             "#fdca26"
            ],
            [
             1,
             "#f0f921"
            ]
           ]
          },
          "colorway": [
           "#636efa",
           "#EF553B",
           "#00cc96",
           "#ab63fa",
           "#FFA15A",
           "#19d3f3",
           "#FF6692",
           "#B6E880",
           "#FF97FF",
           "#FECB52"
          ],
          "font": {
           "color": "#2a3f5f"
          },
          "geo": {
           "bgcolor": "white",
           "lakecolor": "white",
           "landcolor": "#E5ECF6",
           "showlakes": true,
           "showland": true,
           "subunitcolor": "white"
          },
          "hoverlabel": {
           "align": "left"
          },
          "hovermode": "closest",
          "mapbox": {
           "style": "light"
          },
          "paper_bgcolor": "white",
          "plot_bgcolor": "#E5ECF6",
          "polar": {
           "angularaxis": {
            "gridcolor": "white",
            "linecolor": "white",
            "ticks": ""
           },
           "bgcolor": "#E5ECF6",
           "radialaxis": {
            "gridcolor": "white",
            "linecolor": "white",
            "ticks": ""
           }
          },
          "scene": {
           "xaxis": {
            "backgroundcolor": "#E5ECF6",
            "gridcolor": "white",
            "gridwidth": 2,
            "linecolor": "white",
            "showbackground": true,
            "ticks": "",
            "zerolinecolor": "white"
           },
           "yaxis": {
            "backgroundcolor": "#E5ECF6",
            "gridcolor": "white",
            "gridwidth": 2,
            "linecolor": "white",
            "showbackground": true,
            "ticks": "",
            "zerolinecolor": "white"
           },
           "zaxis": {
            "backgroundcolor": "#E5ECF6",
            "gridcolor": "white",
            "gridwidth": 2,
            "linecolor": "white",
            "showbackground": true,
            "ticks": "",
            "zerolinecolor": "white"
           }
          },
          "shapedefaults": {
           "line": {
            "color": "#2a3f5f"
           }
          },
          "ternary": {
           "aaxis": {
            "gridcolor": "white",
            "linecolor": "white",
            "ticks": ""
           },
           "baxis": {
            "gridcolor": "white",
            "linecolor": "white",
            "ticks": ""
           },
           "bgcolor": "#E5ECF6",
           "caxis": {
            "gridcolor": "white",
            "linecolor": "white",
            "ticks": ""
           }
          },
          "title": {
           "x": 0.05
          },
          "xaxis": {
           "automargin": true,
           "gridcolor": "white",
           "linecolor": "white",
           "ticks": "",
           "title": {
            "standoff": 15
           },
           "zerolinecolor": "white",
           "zerolinewidth": 2
          },
          "yaxis": {
           "automargin": true,
           "gridcolor": "white",
           "linecolor": "white",
           "ticks": "",
           "title": {
            "standoff": 15
           },
           "zerolinecolor": "white",
           "zerolinewidth": 2
          }
         }
        },
        "title": {
         "text": "PPG for Each Season of Career"
        },
        "xaxis": {
         "anchor": "y",
         "domain": [
          0,
          1
         ],
         "title": {
          "text": "Season"
         }
        },
        "yaxis": {
         "anchor": "x",
         "domain": [
          0,
          1
         ],
         "title": {
          "text": "Points Per Game"
         }
        }
       }
      }
     },
     "metadata": {},
     "output_type": "display_data"
    },
    {
     "data": {
      "text/plain": [
       "'ppg_plot.html'"
      ]
     },
     "execution_count": 60,
     "metadata": {},
     "output_type": "execute_result"
    }
   ],
   "source": [
    "#Create a Plot showing the trend in Points per game for each season of the player's career\n",
    "fig = px.line(result_df, x='Season', y='PPG', color='full_name', title='PPG for Each Season of Career',\n",
    "                 labels={'PPG': 'Points Per Game', 'Season': 'Season', 'full_name':'Name'},\n",
    "                 hover_data=['full_name'])\n",
    "\n",
    "fig.show()\n",
    "plotly.offline.plot(fig, filename='ppg_plot.html')\n"
   ]
  }
 ],
 "metadata": {
  "kernelspec": {
   "display_name": "stat386",
   "language": "python",
   "name": "python3"
  },
  "language_info": {
   "codemirror_mode": {
    "name": "ipython",
    "version": 3
   },
   "file_extension": ".py",
   "mimetype": "text/x-python",
   "name": "python",
   "nbconvert_exporter": "python",
   "pygments_lexer": "ipython3",
   "version": "3.10.12"
  },
  "orig_nbformat": 4
 },
 "nbformat": 4,
 "nbformat_minor": 2
}
