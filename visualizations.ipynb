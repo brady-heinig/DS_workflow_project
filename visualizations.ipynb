{
 "cells": [
  {
   "cell_type": "code",
   "execution_count": 1,
   "metadata": {},
   "outputs": [],
   "source": [
    "import pandas as pd\n",
    "import plotly.express as px\n",
    "import plotly.graph_objects as go\n",
    "import seaborn as sns\n",
    "import matplotlib.pyplot as plt\n",
    "sns.set_theme(style=\"whitegrid\")\n",
    "import plotly.io as pio\n",
    "\n"
   ]
  },
  {
   "cell_type": "code",
   "execution_count": null,
   "metadata": {},
   "outputs": [],
   "source": [
    "#Streamlit plots I want to do\n",
    "#Season by season for each stat\n",
    "#Career Stats against each team"
   ]
  },
  {
   "cell_type": "code",
   "execution_count": 2,
   "metadata": {},
   "outputs": [],
   "source": [
    "df = pd.read_csv('goat.csv')"
   ]
  },
  {
   "cell_type": "code",
   "execution_count": 10,
   "metadata": {},
   "outputs": [
    {
     "name": "stdout",
     "output_type": "stream",
     "text": [
      "Column Names: ['Player', 'Season', 'Team', 'Location', 'Opp Team', 'Date', 'Result', 'Mins Played', 'Field Goal', 'Field Goal Att', 'Field Goal %', '3 Point Field Goal', '3 Point Field Goal Att', '3 Point Field Goal %', 'Free Throw', 'Free Throw Att', 'Free Throw %', 'Rebounds', 'Assists', 'Steals', 'Blocks', 'Turnovers', 'Points', 'Usage %', 'True Shooting %', 'Effective Fg %', 'Total Rebound %', 'Assist %', 'Offensive Rating', 'Defensive Rating', 'Game Score', 'Playoffs', 'Championship Season']\n"
     ]
    }
   ],
   "source": [
    "column_names = df.columns.tolist()\n",
    "\n",
    "# Display the list of column names\n",
    "print(\"Column Names:\", column_names)"
   ]
  },
  {
   "cell_type": "code",
   "execution_count": 130,
   "metadata": {},
   "outputs": [
    {
     "data": {
      "application/vnd.plotly.v1+json": {
       "config": {
        "plotlyServerURL": "https://plot.ly"
       },
       "data": [
        {
         "customdata": [
          [
           "Michael Jordan"
          ],
          [
           "Michael Jordan"
          ],
          [
           "Michael Jordan"
          ],
          [
           "Michael Jordan"
          ],
          [
           "Michael Jordan"
          ],
          [
           "Michael Jordan"
          ],
          [
           "Michael Jordan"
          ],
          [
           "Michael Jordan"
          ],
          [
           "Michael Jordan"
          ],
          [
           "Michael Jordan"
          ],
          [
           "Michael Jordan"
          ],
          [
           "Michael Jordan"
          ],
          [
           "Michael Jordan"
          ],
          [
           "Michael Jordan"
          ],
          [
           "Michael Jordan"
          ]
         ],
         "hovertemplate": "Player Name=%{customdata[0]}<br>Season=%{x}<br>Points Per Game=%{y}<extra></extra>",
         "legendgroup": "Michael Jordan",
         "line": {
          "color": "Indigo",
          "dash": "solid"
         },
         "marker": {
          "symbol": "circle"
         },
         "mode": "lines",
         "name": "Michael Jordan",
         "orientation": "v",
         "showlegend": true,
         "type": "scatter",
         "x": [
          1,
          2,
          3,
          4,
          5,
          6,
          7,
          8,
          9,
          10,
          11,
          12,
          13,
          14,
          15
         ],
         "xaxis": "x",
         "y": [
          28.20731707317073,
          22.666666666666668,
          37.08536585365854,
          34.97560975609756,
          32.50617283950617,
          33.573170731707314,
          31.463414634146343,
          30.05,
          32.57692307692308,
          26.88235294117647,
          30.378048780487806,
          29.646341463414632,
          28.74390243902439,
          18.58108108108108,
          20
         ],
         "yaxis": "y"
        },
        {
         "customdata": [
          [
           "Lebron James"
          ],
          [
           "Lebron James"
          ],
          [
           "Lebron James"
          ],
          [
           "Lebron James"
          ],
          [
           "Lebron James"
          ],
          [
           "Lebron James"
          ],
          [
           "Lebron James"
          ],
          [
           "Lebron James"
          ],
          [
           "Lebron James"
          ],
          [
           "Lebron James"
          ],
          [
           "Lebron James"
          ],
          [
           "Lebron James"
          ],
          [
           "Lebron James"
          ],
          [
           "Lebron James"
          ],
          [
           "Lebron James"
          ],
          [
           "Lebron James"
          ],
          [
           "Lebron James"
          ],
          [
           "Lebron James"
          ],
          [
           "Lebron James"
          ],
          [
           "Lebron James"
          ],
          [
           "Lebron James"
          ]
         ],
         "hovertemplate": "Player Name=%{customdata[0]}<br>Season=%{x}<br>Points Per Game=%{y}<extra></extra>",
         "legendgroup": "Lebron James",
         "line": {
          "color": "LimeGreen",
          "dash": "solid"
         },
         "marker": {
          "symbol": "circle"
         },
         "mode": "lines",
         "name": "Lebron James",
         "orientation": "v",
         "showlegend": true,
         "type": "scatter",
         "x": [
          1,
          2,
          3,
          4,
          5,
          6,
          7,
          8,
          9,
          10,
          11,
          12,
          13,
          14,
          15,
          16,
          17,
          18,
          19,
          20,
          21
         ],
         "xaxis": "x",
         "y": [
          20.170731707317074,
          26.524390243902438,
          30.21951219512195,
          26,
          27.4390243902439,
          28.097560975609756,
          27.536585365853657,
          25.74390243902439,
          25.5,
          24.829268292682926,
          25.475609756097562,
          21.25609756097561,
          23.414634146341463,
          23.829268292682926,
          27.451219512195124,
          18.353658536585368,
          23.91549295774648,
          15.63888888888889,
          20.670731707317074,
          19.390243902439025,
          23.869565217391305
         ],
         "yaxis": "y"
        }
       ],
       "layout": {
        "legend": {
         "title": {
          "text": "Player Name"
         },
         "tracegroupgap": 0
        },
        "margin": {
         "t": 60
        },
        "template": {
         "data": {
          "bar": [
           {
            "error_x": {
             "color": "#2a3f5f"
            },
            "error_y": {
             "color": "#2a3f5f"
            },
            "marker": {
             "line": {
              "color": "#E5ECF6",
              "width": 0.5
             },
             "pattern": {
              "fillmode": "overlay",
              "size": 10,
              "solidity": 0.2
             }
            },
            "type": "bar"
           }
          ],
          "barpolar": [
           {
            "marker": {
             "line": {
              "color": "#E5ECF6",
              "width": 0.5
             },
             "pattern": {
              "fillmode": "overlay",
              "size": 10,
              "solidity": 0.2
             }
            },
            "type": "barpolar"
           }
          ],
          "carpet": [
           {
            "aaxis": {
             "endlinecolor": "#2a3f5f",
             "gridcolor": "white",
             "linecolor": "white",
             "minorgridcolor": "white",
             "startlinecolor": "#2a3f5f"
            },
            "baxis": {
             "endlinecolor": "#2a3f5f",
             "gridcolor": "white",
             "linecolor": "white",
             "minorgridcolor": "white",
             "startlinecolor": "#2a3f5f"
            },
            "type": "carpet"
           }
          ],
          "choropleth": [
           {
            "colorbar": {
             "outlinewidth": 0,
             "ticks": ""
            },
            "type": "choropleth"
           }
          ],
          "contour": [
           {
            "colorbar": {
             "outlinewidth": 0,
             "ticks": ""
            },
            "colorscale": [
             [
              0,
              "#0d0887"
             ],
             [
              0.1111111111111111,
              "#46039f"
             ],
             [
              0.2222222222222222,
              "#7201a8"
             ],
             [
              0.3333333333333333,
              "#9c179e"
             ],
             [
              0.4444444444444444,
              "#bd3786"
             ],
             [
              0.5555555555555556,
              "#d8576b"
             ],
             [
              0.6666666666666666,
              "#ed7953"
             ],
             [
              0.7777777777777778,
              "#fb9f3a"
             ],
             [
              0.8888888888888888,
              "#fdca26"
             ],
             [
              1,
              "#f0f921"
             ]
            ],
            "type": "contour"
           }
          ],
          "contourcarpet": [
           {
            "colorbar": {
             "outlinewidth": 0,
             "ticks": ""
            },
            "type": "contourcarpet"
           }
          ],
          "heatmap": [
           {
            "colorbar": {
             "outlinewidth": 0,
             "ticks": ""
            },
            "colorscale": [
             [
              0,
              "#0d0887"
             ],
             [
              0.1111111111111111,
              "#46039f"
             ],
             [
              0.2222222222222222,
              "#7201a8"
             ],
             [
              0.3333333333333333,
              "#9c179e"
             ],
             [
              0.4444444444444444,
              "#bd3786"
             ],
             [
              0.5555555555555556,
              "#d8576b"
             ],
             [
              0.6666666666666666,
              "#ed7953"
             ],
             [
              0.7777777777777778,
              "#fb9f3a"
             ],
             [
              0.8888888888888888,
              "#fdca26"
             ],
             [
              1,
              "#f0f921"
             ]
            ],
            "type": "heatmap"
           }
          ],
          "heatmapgl": [
           {
            "colorbar": {
             "outlinewidth": 0,
             "ticks": ""
            },
            "colorscale": [
             [
              0,
              "#0d0887"
             ],
             [
              0.1111111111111111,
              "#46039f"
             ],
             [
              0.2222222222222222,
              "#7201a8"
             ],
             [
              0.3333333333333333,
              "#9c179e"
             ],
             [
              0.4444444444444444,
              "#bd3786"
             ],
             [
              0.5555555555555556,
              "#d8576b"
             ],
             [
              0.6666666666666666,
              "#ed7953"
             ],
             [
              0.7777777777777778,
              "#fb9f3a"
             ],
             [
              0.8888888888888888,
              "#fdca26"
             ],
             [
              1,
              "#f0f921"
             ]
            ],
            "type": "heatmapgl"
           }
          ],
          "histogram": [
           {
            "marker": {
             "pattern": {
              "fillmode": "overlay",
              "size": 10,
              "solidity": 0.2
             }
            },
            "type": "histogram"
           }
          ],
          "histogram2d": [
           {
            "colorbar": {
             "outlinewidth": 0,
             "ticks": ""
            },
            "colorscale": [
             [
              0,
              "#0d0887"
             ],
             [
              0.1111111111111111,
              "#46039f"
             ],
             [
              0.2222222222222222,
              "#7201a8"
             ],
             [
              0.3333333333333333,
              "#9c179e"
             ],
             [
              0.4444444444444444,
              "#bd3786"
             ],
             [
              0.5555555555555556,
              "#d8576b"
             ],
             [
              0.6666666666666666,
              "#ed7953"
             ],
             [
              0.7777777777777778,
              "#fb9f3a"
             ],
             [
              0.8888888888888888,
              "#fdca26"
             ],
             [
              1,
              "#f0f921"
             ]
            ],
            "type": "histogram2d"
           }
          ],
          "histogram2dcontour": [
           {
            "colorbar": {
             "outlinewidth": 0,
             "ticks": ""
            },
            "colorscale": [
             [
              0,
              "#0d0887"
             ],
             [
              0.1111111111111111,
              "#46039f"
             ],
             [
              0.2222222222222222,
              "#7201a8"
             ],
             [
              0.3333333333333333,
              "#9c179e"
             ],
             [
              0.4444444444444444,
              "#bd3786"
             ],
             [
              0.5555555555555556,
              "#d8576b"
             ],
             [
              0.6666666666666666,
              "#ed7953"
             ],
             [
              0.7777777777777778,
              "#fb9f3a"
             ],
             [
              0.8888888888888888,
              "#fdca26"
             ],
             [
              1,
              "#f0f921"
             ]
            ],
            "type": "histogram2dcontour"
           }
          ],
          "mesh3d": [
           {
            "colorbar": {
             "outlinewidth": 0,
             "ticks": ""
            },
            "type": "mesh3d"
           }
          ],
          "parcoords": [
           {
            "line": {
             "colorbar": {
              "outlinewidth": 0,
              "ticks": ""
             }
            },
            "type": "parcoords"
           }
          ],
          "pie": [
           {
            "automargin": true,
            "type": "pie"
           }
          ],
          "scatter": [
           {
            "fillpattern": {
             "fillmode": "overlay",
             "size": 10,
             "solidity": 0.2
            },
            "type": "scatter"
           }
          ],
          "scatter3d": [
           {
            "line": {
             "colorbar": {
              "outlinewidth": 0,
              "ticks": ""
             }
            },
            "marker": {
             "colorbar": {
              "outlinewidth": 0,
              "ticks": ""
             }
            },
            "type": "scatter3d"
           }
          ],
          "scattercarpet": [
           {
            "marker": {
             "colorbar": {
              "outlinewidth": 0,
              "ticks": ""
             }
            },
            "type": "scattercarpet"
           }
          ],
          "scattergeo": [
           {
            "marker": {
             "colorbar": {
              "outlinewidth": 0,
              "ticks": ""
             }
            },
            "type": "scattergeo"
           }
          ],
          "scattergl": [
           {
            "marker": {
             "colorbar": {
              "outlinewidth": 0,
              "ticks": ""
             }
            },
            "type": "scattergl"
           }
          ],
          "scattermapbox": [
           {
            "marker": {
             "colorbar": {
              "outlinewidth": 0,
              "ticks": ""
             }
            },
            "type": "scattermapbox"
           }
          ],
          "scatterpolar": [
           {
            "marker": {
             "colorbar": {
              "outlinewidth": 0,
              "ticks": ""
             }
            },
            "type": "scatterpolar"
           }
          ],
          "scatterpolargl": [
           {
            "marker": {
             "colorbar": {
              "outlinewidth": 0,
              "ticks": ""
             }
            },
            "type": "scatterpolargl"
           }
          ],
          "scatterternary": [
           {
            "marker": {
             "colorbar": {
              "outlinewidth": 0,
              "ticks": ""
             }
            },
            "type": "scatterternary"
           }
          ],
          "surface": [
           {
            "colorbar": {
             "outlinewidth": 0,
             "ticks": ""
            },
            "colorscale": [
             [
              0,
              "#0d0887"
             ],
             [
              0.1111111111111111,
              "#46039f"
             ],
             [
              0.2222222222222222,
              "#7201a8"
             ],
             [
              0.3333333333333333,
              "#9c179e"
             ],
             [
              0.4444444444444444,
              "#bd3786"
             ],
             [
              0.5555555555555556,
              "#d8576b"
             ],
             [
              0.6666666666666666,
              "#ed7953"
             ],
             [
              0.7777777777777778,
              "#fb9f3a"
             ],
             [
              0.8888888888888888,
              "#fdca26"
             ],
             [
              1,
              "#f0f921"
             ]
            ],
            "type": "surface"
           }
          ],
          "table": [
           {
            "cells": {
             "fill": {
              "color": "#EBF0F8"
             },
             "line": {
              "color": "white"
             }
            },
            "header": {
             "fill": {
              "color": "#C8D4E3"
             },
             "line": {
              "color": "white"
             }
            },
            "type": "table"
           }
          ]
         },
         "layout": {
          "annotationdefaults": {
           "arrowcolor": "#2a3f5f",
           "arrowhead": 0,
           "arrowwidth": 1
          },
          "autotypenumbers": "strict",
          "coloraxis": {
           "colorbar": {
            "outlinewidth": 0,
            "ticks": ""
           }
          },
          "colorscale": {
           "diverging": [
            [
             0,
             "#8e0152"
            ],
            [
             0.1,
             "#c51b7d"
            ],
            [
             0.2,
             "#de77ae"
            ],
            [
             0.3,
             "#f1b6da"
            ],
            [
             0.4,
             "#fde0ef"
            ],
            [
             0.5,
             "#f7f7f7"
            ],
            [
             0.6,
             "#e6f5d0"
            ],
            [
             0.7,
             "#b8e186"
            ],
            [
             0.8,
             "#7fbc41"
            ],
            [
             0.9,
             "#4d9221"
            ],
            [
             1,
             "#276419"
            ]
           ],
           "sequential": [
            [
             0,
             "#0d0887"
            ],
            [
             0.1111111111111111,
             "#46039f"
            ],
            [
             0.2222222222222222,
             "#7201a8"
            ],
            [
             0.3333333333333333,
             "#9c179e"
            ],
            [
             0.4444444444444444,
             "#bd3786"
            ],
            [
             0.5555555555555556,
             "#d8576b"
            ],
            [
             0.6666666666666666,
             "#ed7953"
            ],
            [
             0.7777777777777778,
             "#fb9f3a"
            ],
            [
             0.8888888888888888,
             "#fdca26"
            ],
            [
             1,
             "#f0f921"
            ]
           ],
           "sequentialminus": [
            [
             0,
             "#0d0887"
            ],
            [
             0.1111111111111111,
             "#46039f"
            ],
            [
             0.2222222222222222,
             "#7201a8"
            ],
            [
             0.3333333333333333,
             "#9c179e"
            ],
            [
             0.4444444444444444,
             "#bd3786"
            ],
            [
             0.5555555555555556,
             "#d8576b"
            ],
            [
             0.6666666666666666,
             "#ed7953"
            ],
            [
             0.7777777777777778,
             "#fb9f3a"
            ],
            [
             0.8888888888888888,
             "#fdca26"
            ],
            [
             1,
             "#f0f921"
            ]
           ]
          },
          "colorway": [
           "#636efa",
           "#EF553B",
           "#00cc96",
           "#ab63fa",
           "#FFA15A",
           "#19d3f3",
           "#FF6692",
           "#B6E880",
           "#FF97FF",
           "#FECB52"
          ],
          "font": {
           "color": "#2a3f5f"
          },
          "geo": {
           "bgcolor": "white",
           "lakecolor": "white",
           "landcolor": "#E5ECF6",
           "showlakes": true,
           "showland": true,
           "subunitcolor": "white"
          },
          "hoverlabel": {
           "align": "left"
          },
          "hovermode": "closest",
          "mapbox": {
           "style": "light"
          },
          "paper_bgcolor": "white",
          "plot_bgcolor": "#E5ECF6",
          "polar": {
           "angularaxis": {
            "gridcolor": "white",
            "linecolor": "white",
            "ticks": ""
           },
           "bgcolor": "#E5ECF6",
           "radialaxis": {
            "gridcolor": "white",
            "linecolor": "white",
            "ticks": ""
           }
          },
          "scene": {
           "xaxis": {
            "backgroundcolor": "#E5ECF6",
            "gridcolor": "white",
            "gridwidth": 2,
            "linecolor": "white",
            "showbackground": true,
            "ticks": "",
            "zerolinecolor": "white"
           },
           "yaxis": {
            "backgroundcolor": "#E5ECF6",
            "gridcolor": "white",
            "gridwidth": 2,
            "linecolor": "white",
            "showbackground": true,
            "ticks": "",
            "zerolinecolor": "white"
           },
           "zaxis": {
            "backgroundcolor": "#E5ECF6",
            "gridcolor": "white",
            "gridwidth": 2,
            "linecolor": "white",
            "showbackground": true,
            "ticks": "",
            "zerolinecolor": "white"
           }
          },
          "shapedefaults": {
           "line": {
            "color": "#2a3f5f"
           }
          },
          "ternary": {
           "aaxis": {
            "gridcolor": "white",
            "linecolor": "white",
            "ticks": ""
           },
           "baxis": {
            "gridcolor": "white",
            "linecolor": "white",
            "ticks": ""
           },
           "bgcolor": "#E5ECF6",
           "caxis": {
            "gridcolor": "white",
            "linecolor": "white",
            "ticks": ""
           }
          },
          "title": {
           "x": 0.05
          },
          "xaxis": {
           "automargin": true,
           "gridcolor": "white",
           "linecolor": "white",
           "ticks": "",
           "title": {
            "standoff": 15
           },
           "zerolinecolor": "white",
           "zerolinewidth": 2
          },
          "yaxis": {
           "automargin": true,
           "gridcolor": "white",
           "linecolor": "white",
           "ticks": "",
           "title": {
            "standoff": 15
           },
           "zerolinecolor": "white",
           "zerolinewidth": 2
          }
         }
        },
        "title": {
         "text": "PPG for Each Season of Career",
         "x": 0.5
        },
        "xaxis": {
         "anchor": "y",
         "domain": [
          0,
          1
         ],
         "title": {
          "text": "Season"
         }
        },
        "yaxis": {
         "anchor": "x",
         "domain": [
          0,
          1
         ],
         "title": {
          "text": "Points Per Game"
         }
        }
       }
      }
     },
     "metadata": {},
     "output_type": "display_data"
    }
   ],
   "source": [
    "result_df = df[df['Playoffs'] == False]\n",
    "result_df = result_df.groupby(['Season', 'Player']).agg({'Points': 'sum','Date': 'count'}).reset_index()\n",
    "result_df['Games_Played'] = result_df['Date']\n",
    "result_df = result_df.drop('Date', axis=1)\n",
    "result_df['PPG'] = result_df['Points']/result_df['Games_Played']\n",
    "result_df['Season'] = result_df.groupby('Player')['Season'].rank(ascending=True).astype(int)\n",
    "#Create a Plot showing the trend in Points per game for each season of the player's career\n",
    "fig = px.line(result_df, x='Season', y='PPG', color='Player', color_discrete_sequence=[\"Indigo\", \"LimeGreen\"],\n",
    "                 labels={'PPG': 'Points Per Game', 'Season': 'Season', 'Player':'Player Name'},\n",
    "                 hover_data=['Player'])\n",
    "fig.update_layout(title_text='PPG for Each Season of Career', title_x=0.5)\n",
    "fig.show()\n",
    "pio.write_image(fig, 'ppg.png')"
   ]
  },
  {
   "cell_type": "code",
   "execution_count": 131,
   "metadata": {},
   "outputs": [
    {
     "data": {
      "application/vnd.plotly.v1+json": {
       "config": {
        "plotlyServerURL": "https://plot.ly"
       },
       "data": [
        {
         "customdata": [
          [
           "Lebron James",
           "2017-11-03",
           "WAS",
           "W"
          ],
          [
           "Lebron James",
           "2014-03-03",
           "CHA",
           "W"
          ],
          [
           "Lebron James",
           "2011-02-03",
           "ORL",
           "W"
          ],
          [
           "Lebron James",
           "2008-01-15",
           "MEM",
           "W"
          ],
          [
           "Lebron James",
           "2009-12-30",
           "ATL",
           "W"
          ],
          [
           "Lebron James",
           "2009-05-20",
           "ORL",
           "L"
          ],
          [
           "Lebron James",
           "2023-01-16",
           "HOU",
           "W"
          ],
          [
           "Lebron James",
           "2018-11-14",
           "POR",
           "W"
          ],
          [
           "Lebron James",
           "2013-02-26",
           "SAC",
           "W"
          ],
          [
           "Lebron James",
           "2022-03-05",
           "GSW",
           "W"
          ],
          [
           "Lebron James",
           "2008-03-05",
           "NYK",
           "W"
          ],
          [
           "Lebron James",
           "2006-04-01",
           "MIA",
           "W"
          ],
          [
           "Lebron James",
           "2009-05-09",
           "ATL",
           "W"
          ],
          [
           "Lebron James",
           "2009-03-13",
           "SAC",
           "W"
          ],
          [
           "Lebron James",
           "2005-03-20",
           "TOR",
           "L"
          ],
          [
           "Lebron James",
           "2005-12-10",
           "MIL",
           "L"
          ],
          [
           "Lebron James",
           "2009-02-04",
           "NYK",
           "W"
          ],
          [
           "Lebron James",
           "2022-03-11",
           "WAS",
           "W"
          ],
          [
           "Lebron James",
           "2023-01-24",
           "LAC",
           "L"
          ],
          [
           "Lebron James",
           "2016-06-16",
           "GSW",
           "W"
          ]
         ],
         "hovertemplate": "Player=%{customdata[0]}<br>Game Score=%{x}<br>Usage %=%{y}<br>Date=%{customdata[1]}<br>Opp Team=%{customdata[2]}<br>Result=%{customdata[3]}<extra></extra>",
         "legendgroup": "Lebron James",
         "marker": {
          "color": "LimeGreen",
          "symbol": "circle"
         },
         "mode": "markers",
         "name": "Lebron James",
         "orientation": "v",
         "showlegend": true,
         "type": "scatter",
         "x": [
          53.2,
          48.8,
          46.7,
          45,
          44.7,
          44.7,
          44.5,
          44.3,
          44.2,
          44.1,
          44,
          43.8,
          43.8,
          43.4,
          42.9,
          42.9,
          42.9,
          42.5,
          42.5,
          42.5
         ],
         "xaxis": "x",
         "y": [
          42.5,
          47.5,
          40.8,
          36.6,
          36.8,
          42.2,
          38.6,
          33.6,
          29.8,
          44,
          39.9,
          34.8,
          39.5,
          39.7,
          46.6,
          42.5,
          48.2,
          40.2,
          41.2,
          35.1
         ],
         "yaxis": "y"
        },
        {
         "customdata": [
          [
           "Michael Jordan",
           "1990-03-28",
           "CLE",
           "W"
          ],
          [
           "Michael Jordan",
           "1988-04-03",
           "DET",
           "W"
          ],
          [
           "Michael Jordan",
           "1987-02-26",
           "NJN",
           "W"
          ],
          [
           "Michael Jordan",
           "1989-11-03",
           "CLE",
           "W"
          ],
          [
           "Michael Jordan",
           "1992-04-29",
           "MIA",
           "W"
          ],
          [
           "Michael Jordan",
           "1987-04-12",
           "IND",
           "W"
          ],
          [
           "Michael Jordan",
           "1992-12-23",
           "WSB",
           "W"
          ],
          [
           "Michael Jordan",
           "1989-01-21",
           "PHO",
           "L"
          ],
          [
           "Michael Jordan",
           "1987-04-16",
           "ATL",
           "L"
          ],
          [
           "Michael Jordan",
           "1996-03-07",
           "DET",
           "W"
          ],
          [
           "Michael Jordan",
           "1987-03-04",
           "DET",
           "W"
          ],
          [
           "Michael Jordan",
           "1986-04-20",
           "BOS",
           "L"
          ],
          [
           "Michael Jordan",
           "1988-03-18",
           "BOS",
           "W"
          ],
          [
           "Michael Jordan",
           "1989-01-15",
           "BOS",
           "W"
          ],
          [
           "Michael Jordan",
           "1988-11-16",
           "PHI",
           "L"
          ],
          [
           "Michael Jordan",
           "1987-03-24",
           "PHI",
           "W"
          ],
          [
           "Michael Jordan",
           "1989-04-13",
           "IND",
           "L"
          ],
          [
           "Michael Jordan",
           "1988-01-22",
           "PHO",
           "W"
          ],
          [
           "Michael Jordan",
           "1987-12-17",
           "CLE",
           "W"
          ],
          [
           "Michael Jordan",
           "1993-01-16",
           "ORL",
           "L"
          ]
         ],
         "hovertemplate": "Player=%{customdata[0]}<br>Game Score=%{x}<br>Usage %=%{y}<br>Date=%{customdata[1]}<br>Opp Team=%{customdata[2]}<br>Result=%{customdata[3]}<extra></extra>",
         "legendgroup": "Michael Jordan",
         "marker": {
          "color": "Indigo",
          "symbol": "circle"
         },
         "mode": "markers",
         "name": "Michael Jordan",
         "orientation": "v",
         "showlegend": true,
         "type": "scatter",
         "x": [
          64.6,
          54.7,
          51.2,
          51.2,
          49.8,
          49.7,
          48.6,
          47.9,
          47.8,
          47.7,
          47.6,
          47.2,
          46.9,
          46.7,
          46.5,
          46,
          45.8,
          45.6,
          45.3,
          44.8
         ],
         "xaxis": "x",
         "y": [
          42.6,
          38.3,
          42.2,
          35,
          40.5,
          39.6,
          43.8,
          38.3,
          56,
          41.8,
          47.4,
          44.5,
          37.3,
          38.2,
          36.1,
          47.3,
          37,
          36.5,
          43.5,
          48.5
         ],
         "yaxis": "y"
        }
       ],
       "layout": {
        "legend": {
         "title": {
          "text": "Player"
         },
         "tracegroupgap": 0
        },
        "margin": {
         "t": 60
        },
        "template": {
         "data": {
          "bar": [
           {
            "error_x": {
             "color": "#2a3f5f"
            },
            "error_y": {
             "color": "#2a3f5f"
            },
            "marker": {
             "line": {
              "color": "#E5ECF6",
              "width": 0.5
             },
             "pattern": {
              "fillmode": "overlay",
              "size": 10,
              "solidity": 0.2
             }
            },
            "type": "bar"
           }
          ],
          "barpolar": [
           {
            "marker": {
             "line": {
              "color": "#E5ECF6",
              "width": 0.5
             },
             "pattern": {
              "fillmode": "overlay",
              "size": 10,
              "solidity": 0.2
             }
            },
            "type": "barpolar"
           }
          ],
          "carpet": [
           {
            "aaxis": {
             "endlinecolor": "#2a3f5f",
             "gridcolor": "white",
             "linecolor": "white",
             "minorgridcolor": "white",
             "startlinecolor": "#2a3f5f"
            },
            "baxis": {
             "endlinecolor": "#2a3f5f",
             "gridcolor": "white",
             "linecolor": "white",
             "minorgridcolor": "white",
             "startlinecolor": "#2a3f5f"
            },
            "type": "carpet"
           }
          ],
          "choropleth": [
           {
            "colorbar": {
             "outlinewidth": 0,
             "ticks": ""
            },
            "type": "choropleth"
           }
          ],
          "contour": [
           {
            "colorbar": {
             "outlinewidth": 0,
             "ticks": ""
            },
            "colorscale": [
             [
              0,
              "#0d0887"
             ],
             [
              0.1111111111111111,
              "#46039f"
             ],
             [
              0.2222222222222222,
              "#7201a8"
             ],
             [
              0.3333333333333333,
              "#9c179e"
             ],
             [
              0.4444444444444444,
              "#bd3786"
             ],
             [
              0.5555555555555556,
              "#d8576b"
             ],
             [
              0.6666666666666666,
              "#ed7953"
             ],
             [
              0.7777777777777778,
              "#fb9f3a"
             ],
             [
              0.8888888888888888,
              "#fdca26"
             ],
             [
              1,
              "#f0f921"
             ]
            ],
            "type": "contour"
           }
          ],
          "contourcarpet": [
           {
            "colorbar": {
             "outlinewidth": 0,
             "ticks": ""
            },
            "type": "contourcarpet"
           }
          ],
          "heatmap": [
           {
            "colorbar": {
             "outlinewidth": 0,
             "ticks": ""
            },
            "colorscale": [
             [
              0,
              "#0d0887"
             ],
             [
              0.1111111111111111,
              "#46039f"
             ],
             [
              0.2222222222222222,
              "#7201a8"
             ],
             [
              0.3333333333333333,
              "#9c179e"
             ],
             [
              0.4444444444444444,
              "#bd3786"
             ],
             [
              0.5555555555555556,
              "#d8576b"
             ],
             [
              0.6666666666666666,
              "#ed7953"
             ],
             [
              0.7777777777777778,
              "#fb9f3a"
             ],
             [
              0.8888888888888888,
              "#fdca26"
             ],
             [
              1,
              "#f0f921"
             ]
            ],
            "type": "heatmap"
           }
          ],
          "heatmapgl": [
           {
            "colorbar": {
             "outlinewidth": 0,
             "ticks": ""
            },
            "colorscale": [
             [
              0,
              "#0d0887"
             ],
             [
              0.1111111111111111,
              "#46039f"
             ],
             [
              0.2222222222222222,
              "#7201a8"
             ],
             [
              0.3333333333333333,
              "#9c179e"
             ],
             [
              0.4444444444444444,
              "#bd3786"
             ],
             [
              0.5555555555555556,
              "#d8576b"
             ],
             [
              0.6666666666666666,
              "#ed7953"
             ],
             [
              0.7777777777777778,
              "#fb9f3a"
             ],
             [
              0.8888888888888888,
              "#fdca26"
             ],
             [
              1,
              "#f0f921"
             ]
            ],
            "type": "heatmapgl"
           }
          ],
          "histogram": [
           {
            "marker": {
             "pattern": {
              "fillmode": "overlay",
              "size": 10,
              "solidity": 0.2
             }
            },
            "type": "histogram"
           }
          ],
          "histogram2d": [
           {
            "colorbar": {
             "outlinewidth": 0,
             "ticks": ""
            },
            "colorscale": [
             [
              0,
              "#0d0887"
             ],
             [
              0.1111111111111111,
              "#46039f"
             ],
             [
              0.2222222222222222,
              "#7201a8"
             ],
             [
              0.3333333333333333,
              "#9c179e"
             ],
             [
              0.4444444444444444,
              "#bd3786"
             ],
             [
              0.5555555555555556,
              "#d8576b"
             ],
             [
              0.6666666666666666,
              "#ed7953"
             ],
             [
              0.7777777777777778,
              "#fb9f3a"
             ],
             [
              0.8888888888888888,
              "#fdca26"
             ],
             [
              1,
              "#f0f921"
             ]
            ],
            "type": "histogram2d"
           }
          ],
          "histogram2dcontour": [
           {
            "colorbar": {
             "outlinewidth": 0,
             "ticks": ""
            },
            "colorscale": [
             [
              0,
              "#0d0887"
             ],
             [
              0.1111111111111111,
              "#46039f"
             ],
             [
              0.2222222222222222,
              "#7201a8"
             ],
             [
              0.3333333333333333,
              "#9c179e"
             ],
             [
              0.4444444444444444,
              "#bd3786"
             ],
             [
              0.5555555555555556,
              "#d8576b"
             ],
             [
              0.6666666666666666,
              "#ed7953"
             ],
             [
              0.7777777777777778,
              "#fb9f3a"
             ],
             [
              0.8888888888888888,
              "#fdca26"
             ],
             [
              1,
              "#f0f921"
             ]
            ],
            "type": "histogram2dcontour"
           }
          ],
          "mesh3d": [
           {
            "colorbar": {
             "outlinewidth": 0,
             "ticks": ""
            },
            "type": "mesh3d"
           }
          ],
          "parcoords": [
           {
            "line": {
             "colorbar": {
              "outlinewidth": 0,
              "ticks": ""
             }
            },
            "type": "parcoords"
           }
          ],
          "pie": [
           {
            "automargin": true,
            "type": "pie"
           }
          ],
          "scatter": [
           {
            "fillpattern": {
             "fillmode": "overlay",
             "size": 10,
             "solidity": 0.2
            },
            "type": "scatter"
           }
          ],
          "scatter3d": [
           {
            "line": {
             "colorbar": {
              "outlinewidth": 0,
              "ticks": ""
             }
            },
            "marker": {
             "colorbar": {
              "outlinewidth": 0,
              "ticks": ""
             }
            },
            "type": "scatter3d"
           }
          ],
          "scattercarpet": [
           {
            "marker": {
             "colorbar": {
              "outlinewidth": 0,
              "ticks": ""
             }
            },
            "type": "scattercarpet"
           }
          ],
          "scattergeo": [
           {
            "marker": {
             "colorbar": {
              "outlinewidth": 0,
              "ticks": ""
             }
            },
            "type": "scattergeo"
           }
          ],
          "scattergl": [
           {
            "marker": {
             "colorbar": {
              "outlinewidth": 0,
              "ticks": ""
             }
            },
            "type": "scattergl"
           }
          ],
          "scattermapbox": [
           {
            "marker": {
             "colorbar": {
              "outlinewidth": 0,
              "ticks": ""
             }
            },
            "type": "scattermapbox"
           }
          ],
          "scatterpolar": [
           {
            "marker": {
             "colorbar": {
              "outlinewidth": 0,
              "ticks": ""
             }
            },
            "type": "scatterpolar"
           }
          ],
          "scatterpolargl": [
           {
            "marker": {
             "colorbar": {
              "outlinewidth": 0,
              "ticks": ""
             }
            },
            "type": "scatterpolargl"
           }
          ],
          "scatterternary": [
           {
            "marker": {
             "colorbar": {
              "outlinewidth": 0,
              "ticks": ""
             }
            },
            "type": "scatterternary"
           }
          ],
          "surface": [
           {
            "colorbar": {
             "outlinewidth": 0,
             "ticks": ""
            },
            "colorscale": [
             [
              0,
              "#0d0887"
             ],
             [
              0.1111111111111111,
              "#46039f"
             ],
             [
              0.2222222222222222,
              "#7201a8"
             ],
             [
              0.3333333333333333,
              "#9c179e"
             ],
             [
              0.4444444444444444,
              "#bd3786"
             ],
             [
              0.5555555555555556,
              "#d8576b"
             ],
             [
              0.6666666666666666,
              "#ed7953"
             ],
             [
              0.7777777777777778,
              "#fb9f3a"
             ],
             [
              0.8888888888888888,
              "#fdca26"
             ],
             [
              1,
              "#f0f921"
             ]
            ],
            "type": "surface"
           }
          ],
          "table": [
           {
            "cells": {
             "fill": {
              "color": "#EBF0F8"
             },
             "line": {
              "color": "white"
             }
            },
            "header": {
             "fill": {
              "color": "#C8D4E3"
             },
             "line": {
              "color": "white"
             }
            },
            "type": "table"
           }
          ]
         },
         "layout": {
          "annotationdefaults": {
           "arrowcolor": "#2a3f5f",
           "arrowhead": 0,
           "arrowwidth": 1
          },
          "autotypenumbers": "strict",
          "coloraxis": {
           "colorbar": {
            "outlinewidth": 0,
            "ticks": ""
           }
          },
          "colorscale": {
           "diverging": [
            [
             0,
             "#8e0152"
            ],
            [
             0.1,
             "#c51b7d"
            ],
            [
             0.2,
             "#de77ae"
            ],
            [
             0.3,
             "#f1b6da"
            ],
            [
             0.4,
             "#fde0ef"
            ],
            [
             0.5,
             "#f7f7f7"
            ],
            [
             0.6,
             "#e6f5d0"
            ],
            [
             0.7,
             "#b8e186"
            ],
            [
             0.8,
             "#7fbc41"
            ],
            [
             0.9,
             "#4d9221"
            ],
            [
             1,
             "#276419"
            ]
           ],
           "sequential": [
            [
             0,
             "#0d0887"
            ],
            [
             0.1111111111111111,
             "#46039f"
            ],
            [
             0.2222222222222222,
             "#7201a8"
            ],
            [
             0.3333333333333333,
             "#9c179e"
            ],
            [
             0.4444444444444444,
             "#bd3786"
            ],
            [
             0.5555555555555556,
             "#d8576b"
            ],
            [
             0.6666666666666666,
             "#ed7953"
            ],
            [
             0.7777777777777778,
             "#fb9f3a"
            ],
            [
             0.8888888888888888,
             "#fdca26"
            ],
            [
             1,
             "#f0f921"
            ]
           ],
           "sequentialminus": [
            [
             0,
             "#0d0887"
            ],
            [
             0.1111111111111111,
             "#46039f"
            ],
            [
             0.2222222222222222,
             "#7201a8"
            ],
            [
             0.3333333333333333,
             "#9c179e"
            ],
            [
             0.4444444444444444,
             "#bd3786"
            ],
            [
             0.5555555555555556,
             "#d8576b"
            ],
            [
             0.6666666666666666,
             "#ed7953"
            ],
            [
             0.7777777777777778,
             "#fb9f3a"
            ],
            [
             0.8888888888888888,
             "#fdca26"
            ],
            [
             1,
             "#f0f921"
            ]
           ]
          },
          "colorway": [
           "#636efa",
           "#EF553B",
           "#00cc96",
           "#ab63fa",
           "#FFA15A",
           "#19d3f3",
           "#FF6692",
           "#B6E880",
           "#FF97FF",
           "#FECB52"
          ],
          "font": {
           "color": "#2a3f5f"
          },
          "geo": {
           "bgcolor": "white",
           "lakecolor": "white",
           "landcolor": "#E5ECF6",
           "showlakes": true,
           "showland": true,
           "subunitcolor": "white"
          },
          "hoverlabel": {
           "align": "left"
          },
          "hovermode": "closest",
          "mapbox": {
           "style": "light"
          },
          "paper_bgcolor": "white",
          "plot_bgcolor": "#E5ECF6",
          "polar": {
           "angularaxis": {
            "gridcolor": "white",
            "linecolor": "white",
            "ticks": ""
           },
           "bgcolor": "#E5ECF6",
           "radialaxis": {
            "gridcolor": "white",
            "linecolor": "white",
            "ticks": ""
           }
          },
          "scene": {
           "xaxis": {
            "backgroundcolor": "#E5ECF6",
            "gridcolor": "white",
            "gridwidth": 2,
            "linecolor": "white",
            "showbackground": true,
            "ticks": "",
            "zerolinecolor": "white"
           },
           "yaxis": {
            "backgroundcolor": "#E5ECF6",
            "gridcolor": "white",
            "gridwidth": 2,
            "linecolor": "white",
            "showbackground": true,
            "ticks": "",
            "zerolinecolor": "white"
           },
           "zaxis": {
            "backgroundcolor": "#E5ECF6",
            "gridcolor": "white",
            "gridwidth": 2,
            "linecolor": "white",
            "showbackground": true,
            "ticks": "",
            "zerolinecolor": "white"
           }
          },
          "shapedefaults": {
           "line": {
            "color": "#2a3f5f"
           }
          },
          "ternary": {
           "aaxis": {
            "gridcolor": "white",
            "linecolor": "white",
            "ticks": ""
           },
           "baxis": {
            "gridcolor": "white",
            "linecolor": "white",
            "ticks": ""
           },
           "bgcolor": "#E5ECF6",
           "caxis": {
            "gridcolor": "white",
            "linecolor": "white",
            "ticks": ""
           }
          },
          "title": {
           "x": 0.05
          },
          "xaxis": {
           "automargin": true,
           "gridcolor": "white",
           "linecolor": "white",
           "ticks": "",
           "title": {
            "standoff": 15
           },
           "zerolinecolor": "white",
           "zerolinewidth": 2
          },
          "yaxis": {
           "automargin": true,
           "gridcolor": "white",
           "linecolor": "white",
           "ticks": "",
           "title": {
            "standoff": 15
           },
           "zerolinecolor": "white",
           "zerolinewidth": 2
          }
         }
        },
        "title": {
         "text": "Top 20 Career Game Scores vs Usage Rates",
         "x": 0.5
        },
        "xaxis": {
         "anchor": "y",
         "domain": [
          0,
          1
         ],
         "title": {
          "text": "Game Score"
         }
        },
        "yaxis": {
         "anchor": "x",
         "domain": [
          0,
          1
         ],
         "title": {
          "text": "Usage %"
         }
        }
       }
      }
     },
     "metadata": {},
     "output_type": "display_data"
    }
   ],
   "source": [
    "result_df= df.sort_values(by=['Player', 'Game Score'], ascending=[True, False])\n",
    "result_df = result_df.groupby('Player').head(20)\n",
    "fig = px.scatter(result_df, x=\"Game Score\", y=\"Usage %\", color=\"Player\",\n",
    "                  hover_data=['Player','Date','Opp Team', 'Result'], color_discrete_sequence=[\"LimeGreen\", \"Indigo\"])\n",
    "fig.update_layout(title_text='Top 20 Career Game Scores vs Usage Rates', title_x=0.5)\n",
    "fig.show()\n",
    "pio.write_image(fig, 'top20.png')"
   ]
  },
  {
   "cell_type": "code",
   "execution_count": 132,
   "metadata": {},
   "outputs": [
    {
     "data": {
      "application/vnd.plotly.v1+json": {
       "config": {
        "plotlyServerURL": "https://plot.ly"
       },
       "data": [
        {
         "alignmentgroup": "True",
         "bingroup": "x",
         "histfunc": "sum",
         "hovertemplate": "Playoffs=False<br>Player=%{x}<br>sum of Game Score=%{y}<extra></extra>",
         "legendgroup": "False",
         "marker": {
          "color": "Indigo",
          "pattern": {
           "shape": ""
          }
         },
         "name": "False",
         "offsetgroup": "False",
         "orientation": "v",
         "showlegend": true,
         "type": "histogram",
         "x": [
          "Lebron James",
          "Michael Jordan"
         ],
         "xaxis": "x",
         "y": [
          19.730381303813036,
          23.141252302025784
         ],
         "yaxis": "y"
        },
        {
         "alignmentgroup": "True",
         "bingroup": "x",
         "histfunc": "sum",
         "hovertemplate": "Playoffs=True<br>Player=%{x}<br>sum of Game Score=%{y}<extra></extra>",
         "legendgroup": "True",
         "marker": {
          "color": "LimeGreen",
          "pattern": {
           "shape": ""
          }
         },
         "name": "True",
         "offsetgroup": "True",
         "orientation": "v",
         "showlegend": true,
         "type": "histogram",
         "x": [
          "Lebron James",
          "Michael Jordan"
         ],
         "xaxis": "x",
         "y": [
          23.398936170212767,
          25.141340782122906
         ],
         "yaxis": "y"
        }
       ],
       "layout": {
        "barmode": "group",
        "height": 400,
        "legend": {
         "title": {
          "text": "Playoffs"
         },
         "tracegroupgap": 0
        },
        "margin": {
         "t": 60
        },
        "template": {
         "data": {
          "bar": [
           {
            "error_x": {
             "color": "#2a3f5f"
            },
            "error_y": {
             "color": "#2a3f5f"
            },
            "marker": {
             "line": {
              "color": "#E5ECF6",
              "width": 0.5
             },
             "pattern": {
              "fillmode": "overlay",
              "size": 10,
              "solidity": 0.2
             }
            },
            "type": "bar"
           }
          ],
          "barpolar": [
           {
            "marker": {
             "line": {
              "color": "#E5ECF6",
              "width": 0.5
             },
             "pattern": {
              "fillmode": "overlay",
              "size": 10,
              "solidity": 0.2
             }
            },
            "type": "barpolar"
           }
          ],
          "carpet": [
           {
            "aaxis": {
             "endlinecolor": "#2a3f5f",
             "gridcolor": "white",
             "linecolor": "white",
             "minorgridcolor": "white",
             "startlinecolor": "#2a3f5f"
            },
            "baxis": {
             "endlinecolor": "#2a3f5f",
             "gridcolor": "white",
             "linecolor": "white",
             "minorgridcolor": "white",
             "startlinecolor": "#2a3f5f"
            },
            "type": "carpet"
           }
          ],
          "choropleth": [
           {
            "colorbar": {
             "outlinewidth": 0,
             "ticks": ""
            },
            "type": "choropleth"
           }
          ],
          "contour": [
           {
            "colorbar": {
             "outlinewidth": 0,
             "ticks": ""
            },
            "colorscale": [
             [
              0,
              "#0d0887"
             ],
             [
              0.1111111111111111,
              "#46039f"
             ],
             [
              0.2222222222222222,
              "#7201a8"
             ],
             [
              0.3333333333333333,
              "#9c179e"
             ],
             [
              0.4444444444444444,
              "#bd3786"
             ],
             [
              0.5555555555555556,
              "#d8576b"
             ],
             [
              0.6666666666666666,
              "#ed7953"
             ],
             [
              0.7777777777777778,
              "#fb9f3a"
             ],
             [
              0.8888888888888888,
              "#fdca26"
             ],
             [
              1,
              "#f0f921"
             ]
            ],
            "type": "contour"
           }
          ],
          "contourcarpet": [
           {
            "colorbar": {
             "outlinewidth": 0,
             "ticks": ""
            },
            "type": "contourcarpet"
           }
          ],
          "heatmap": [
           {
            "colorbar": {
             "outlinewidth": 0,
             "ticks": ""
            },
            "colorscale": [
             [
              0,
              "#0d0887"
             ],
             [
              0.1111111111111111,
              "#46039f"
             ],
             [
              0.2222222222222222,
              "#7201a8"
             ],
             [
              0.3333333333333333,
              "#9c179e"
             ],
             [
              0.4444444444444444,
              "#bd3786"
             ],
             [
              0.5555555555555556,
              "#d8576b"
             ],
             [
              0.6666666666666666,
              "#ed7953"
             ],
             [
              0.7777777777777778,
              "#fb9f3a"
             ],
             [
              0.8888888888888888,
              "#fdca26"
             ],
             [
              1,
              "#f0f921"
             ]
            ],
            "type": "heatmap"
           }
          ],
          "heatmapgl": [
           {
            "colorbar": {
             "outlinewidth": 0,
             "ticks": ""
            },
            "colorscale": [
             [
              0,
              "#0d0887"
             ],
             [
              0.1111111111111111,
              "#46039f"
             ],
             [
              0.2222222222222222,
              "#7201a8"
             ],
             [
              0.3333333333333333,
              "#9c179e"
             ],
             [
              0.4444444444444444,
              "#bd3786"
             ],
             [
              0.5555555555555556,
              "#d8576b"
             ],
             [
              0.6666666666666666,
              "#ed7953"
             ],
             [
              0.7777777777777778,
              "#fb9f3a"
             ],
             [
              0.8888888888888888,
              "#fdca26"
             ],
             [
              1,
              "#f0f921"
             ]
            ],
            "type": "heatmapgl"
           }
          ],
          "histogram": [
           {
            "marker": {
             "pattern": {
              "fillmode": "overlay",
              "size": 10,
              "solidity": 0.2
             }
            },
            "type": "histogram"
           }
          ],
          "histogram2d": [
           {
            "colorbar": {
             "outlinewidth": 0,
             "ticks": ""
            },
            "colorscale": [
             [
              0,
              "#0d0887"
             ],
             [
              0.1111111111111111,
              "#46039f"
             ],
             [
              0.2222222222222222,
              "#7201a8"
             ],
             [
              0.3333333333333333,
              "#9c179e"
             ],
             [
              0.4444444444444444,
              "#bd3786"
             ],
             [
              0.5555555555555556,
              "#d8576b"
             ],
             [
              0.6666666666666666,
              "#ed7953"
             ],
             [
              0.7777777777777778,
              "#fb9f3a"
             ],
             [
              0.8888888888888888,
              "#fdca26"
             ],
             [
              1,
              "#f0f921"
             ]
            ],
            "type": "histogram2d"
           }
          ],
          "histogram2dcontour": [
           {
            "colorbar": {
             "outlinewidth": 0,
             "ticks": ""
            },
            "colorscale": [
             [
              0,
              "#0d0887"
             ],
             [
              0.1111111111111111,
              "#46039f"
             ],
             [
              0.2222222222222222,
              "#7201a8"
             ],
             [
              0.3333333333333333,
              "#9c179e"
             ],
             [
              0.4444444444444444,
              "#bd3786"
             ],
             [
              0.5555555555555556,
              "#d8576b"
             ],
             [
              0.6666666666666666,
              "#ed7953"
             ],
             [
              0.7777777777777778,
              "#fb9f3a"
             ],
             [
              0.8888888888888888,
              "#fdca26"
             ],
             [
              1,
              "#f0f921"
             ]
            ],
            "type": "histogram2dcontour"
           }
          ],
          "mesh3d": [
           {
            "colorbar": {
             "outlinewidth": 0,
             "ticks": ""
            },
            "type": "mesh3d"
           }
          ],
          "parcoords": [
           {
            "line": {
             "colorbar": {
              "outlinewidth": 0,
              "ticks": ""
             }
            },
            "type": "parcoords"
           }
          ],
          "pie": [
           {
            "automargin": true,
            "type": "pie"
           }
          ],
          "scatter": [
           {
            "fillpattern": {
             "fillmode": "overlay",
             "size": 10,
             "solidity": 0.2
            },
            "type": "scatter"
           }
          ],
          "scatter3d": [
           {
            "line": {
             "colorbar": {
              "outlinewidth": 0,
              "ticks": ""
             }
            },
            "marker": {
             "colorbar": {
              "outlinewidth": 0,
              "ticks": ""
             }
            },
            "type": "scatter3d"
           }
          ],
          "scattercarpet": [
           {
            "marker": {
             "colorbar": {
              "outlinewidth": 0,
              "ticks": ""
             }
            },
            "type": "scattercarpet"
           }
          ],
          "scattergeo": [
           {
            "marker": {
             "colorbar": {
              "outlinewidth": 0,
              "ticks": ""
             }
            },
            "type": "scattergeo"
           }
          ],
          "scattergl": [
           {
            "marker": {
             "colorbar": {
              "outlinewidth": 0,
              "ticks": ""
             }
            },
            "type": "scattergl"
           }
          ],
          "scattermapbox": [
           {
            "marker": {
             "colorbar": {
              "outlinewidth": 0,
              "ticks": ""
             }
            },
            "type": "scattermapbox"
           }
          ],
          "scatterpolar": [
           {
            "marker": {
             "colorbar": {
              "outlinewidth": 0,
              "ticks": ""
             }
            },
            "type": "scatterpolar"
           }
          ],
          "scatterpolargl": [
           {
            "marker": {
             "colorbar": {
              "outlinewidth": 0,
              "ticks": ""
             }
            },
            "type": "scatterpolargl"
           }
          ],
          "scatterternary": [
           {
            "marker": {
             "colorbar": {
              "outlinewidth": 0,
              "ticks": ""
             }
            },
            "type": "scatterternary"
           }
          ],
          "surface": [
           {
            "colorbar": {
             "outlinewidth": 0,
             "ticks": ""
            },
            "colorscale": [
             [
              0,
              "#0d0887"
             ],
             [
              0.1111111111111111,
              "#46039f"
             ],
             [
              0.2222222222222222,
              "#7201a8"
             ],
             [
              0.3333333333333333,
              "#9c179e"
             ],
             [
              0.4444444444444444,
              "#bd3786"
             ],
             [
              0.5555555555555556,
              "#d8576b"
             ],
             [
              0.6666666666666666,
              "#ed7953"
             ],
             [
              0.7777777777777778,
              "#fb9f3a"
             ],
             [
              0.8888888888888888,
              "#fdca26"
             ],
             [
              1,
              "#f0f921"
             ]
            ],
            "type": "surface"
           }
          ],
          "table": [
           {
            "cells": {
             "fill": {
              "color": "#EBF0F8"
             },
             "line": {
              "color": "white"
             }
            },
            "header": {
             "fill": {
              "color": "#C8D4E3"
             },
             "line": {
              "color": "white"
             }
            },
            "type": "table"
           }
          ]
         },
         "layout": {
          "annotationdefaults": {
           "arrowcolor": "#2a3f5f",
           "arrowhead": 0,
           "arrowwidth": 1
          },
          "autotypenumbers": "strict",
          "coloraxis": {
           "colorbar": {
            "outlinewidth": 0,
            "ticks": ""
           }
          },
          "colorscale": {
           "diverging": [
            [
             0,
             "#8e0152"
            ],
            [
             0.1,
             "#c51b7d"
            ],
            [
             0.2,
             "#de77ae"
            ],
            [
             0.3,
             "#f1b6da"
            ],
            [
             0.4,
             "#fde0ef"
            ],
            [
             0.5,
             "#f7f7f7"
            ],
            [
             0.6,
             "#e6f5d0"
            ],
            [
             0.7,
             "#b8e186"
            ],
            [
             0.8,
             "#7fbc41"
            ],
            [
             0.9,
             "#4d9221"
            ],
            [
             1,
             "#276419"
            ]
           ],
           "sequential": [
            [
             0,
             "#0d0887"
            ],
            [
             0.1111111111111111,
             "#46039f"
            ],
            [
             0.2222222222222222,
             "#7201a8"
            ],
            [
             0.3333333333333333,
             "#9c179e"
            ],
            [
             0.4444444444444444,
             "#bd3786"
            ],
            [
             0.5555555555555556,
             "#d8576b"
            ],
            [
             0.6666666666666666,
             "#ed7953"
            ],
            [
             0.7777777777777778,
             "#fb9f3a"
            ],
            [
             0.8888888888888888,
             "#fdca26"
            ],
            [
             1,
             "#f0f921"
            ]
           ],
           "sequentialminus": [
            [
             0,
             "#0d0887"
            ],
            [
             0.1111111111111111,
             "#46039f"
            ],
            [
             0.2222222222222222,
             "#7201a8"
            ],
            [
             0.3333333333333333,
             "#9c179e"
            ],
            [
             0.4444444444444444,
             "#bd3786"
            ],
            [
             0.5555555555555556,
             "#d8576b"
            ],
            [
             0.6666666666666666,
             "#ed7953"
            ],
            [
             0.7777777777777778,
             "#fb9f3a"
            ],
            [
             0.8888888888888888,
             "#fdca26"
            ],
            [
             1,
             "#f0f921"
            ]
           ]
          },
          "colorway": [
           "#636efa",
           "#EF553B",
           "#00cc96",
           "#ab63fa",
           "#FFA15A",
           "#19d3f3",
           "#FF6692",
           "#B6E880",
           "#FF97FF",
           "#FECB52"
          ],
          "font": {
           "color": "#2a3f5f"
          },
          "geo": {
           "bgcolor": "white",
           "lakecolor": "white",
           "landcolor": "#E5ECF6",
           "showlakes": true,
           "showland": true,
           "subunitcolor": "white"
          },
          "hoverlabel": {
           "align": "left"
          },
          "hovermode": "closest",
          "mapbox": {
           "style": "light"
          },
          "paper_bgcolor": "white",
          "plot_bgcolor": "#E5ECF6",
          "polar": {
           "angularaxis": {
            "gridcolor": "white",
            "linecolor": "white",
            "ticks": ""
           },
           "bgcolor": "#E5ECF6",
           "radialaxis": {
            "gridcolor": "white",
            "linecolor": "white",
            "ticks": ""
           }
          },
          "scene": {
           "xaxis": {
            "backgroundcolor": "#E5ECF6",
            "gridcolor": "white",
            "gridwidth": 2,
            "linecolor": "white",
            "showbackground": true,
            "ticks": "",
            "zerolinecolor": "white"
           },
           "yaxis": {
            "backgroundcolor": "#E5ECF6",
            "gridcolor": "white",
            "gridwidth": 2,
            "linecolor": "white",
            "showbackground": true,
            "ticks": "",
            "zerolinecolor": "white"
           },
           "zaxis": {
            "backgroundcolor": "#E5ECF6",
            "gridcolor": "white",
            "gridwidth": 2,
            "linecolor": "white",
            "showbackground": true,
            "ticks": "",
            "zerolinecolor": "white"
           }
          },
          "shapedefaults": {
           "line": {
            "color": "#2a3f5f"
           }
          },
          "ternary": {
           "aaxis": {
            "gridcolor": "white",
            "linecolor": "white",
            "ticks": ""
           },
           "baxis": {
            "gridcolor": "white",
            "linecolor": "white",
            "ticks": ""
           },
           "bgcolor": "#E5ECF6",
           "caxis": {
            "gridcolor": "white",
            "linecolor": "white",
            "ticks": ""
           }
          },
          "title": {
           "x": 0.05
          },
          "xaxis": {
           "automargin": true,
           "gridcolor": "white",
           "linecolor": "white",
           "ticks": "",
           "title": {
            "standoff": 15
           },
           "zerolinecolor": "white",
           "zerolinewidth": 2
          },
          "yaxis": {
           "automargin": true,
           "gridcolor": "white",
           "linecolor": "white",
           "ticks": "",
           "title": {
            "standoff": 15
           },
           "zerolinecolor": "white",
           "zerolinewidth": 2
          }
         }
        },
        "title": {
         "text": "Career Game Score Average in Reg. Season & Playoffs",
         "x": 0.5
        },
        "xaxis": {
         "anchor": "y",
         "domain": [
          0,
          1
         ],
         "title": {
          "text": "Player"
         }
        },
        "yaxis": {
         "anchor": "x",
         "domain": [
          0,
          1
         ],
         "title": {
          "text": "Mean Game Score"
         }
        }
       }
      }
     },
     "metadata": {},
     "output_type": "display_data"
    }
   ],
   "source": [
    "result_df = df.groupby(['Playoffs', 'Player']).agg({'Game Score': 'mean'}).reset_index()\n",
    "fig = px.histogram(result_df, x=\"Player\", y=\"Game Score\",\n",
    "             color='Playoffs', barmode='group',\n",
    "             height=400,color_discrete_sequence=[\"Indigo\", \"LimeGreen\"])\n",
    "fig.update_layout(title_text='Career Game Score Average in Reg. Season & Playoffs', title_x=0.5, yaxis=dict(title='Mean Game Score'))\n",
    "fig.show()\n",
    "pio.write_image(fig, 'game_score.png')"
   ]
  },
  {
   "cell_type": "code",
   "execution_count": 133,
   "metadata": {},
   "outputs": [
    {
     "data": {
      "application/vnd.plotly.v1+json": {
       "config": {
        "plotlyServerURL": "https://plot.ly"
       },
       "data": [
        {
         "coloraxis": "coloraxis",
         "hovertemplate": "Offensive Rating=%{x}<br>Defensive Rating=%{y}<br>count=%{z}<extra></extra>",
         "name": "",
         "nbinsx": 20,
         "nbinsy": 20,
         "type": "histogram2d",
         "x": [
          86,
          130,
          126,
          101,
          116,
          102,
          120,
          106,
          133,
          107,
          80,
          108,
          114,
          118,
          124,
          93,
          114,
          108,
          110,
          121,
          101,
          96,
          89,
          99,
          142,
          93,
          100,
          105,
          142,
          128,
          104,
          129,
          146,
          145,
          127,
          118,
          102,
          141,
          107,
          105,
          126,
          121,
          127,
          140,
          135,
          137,
          132,
          149,
          96,
          131,
          77,
          120,
          116,
          117,
          174,
          112,
          103,
          97,
          141,
          139,
          101,
          153,
          89,
          114,
          113,
          90,
          126,
          134,
          104,
          131,
          128,
          99,
          137,
          131,
          146,
          125,
          112,
          144,
          124,
          84,
          114,
          107,
          108,
          112,
          112,
          121,
          107,
          101,
          117,
          69,
          128,
          111,
          104,
          145,
          114,
          118,
          134,
          96,
          91,
          109,
          122,
          118,
          93,
          113,
          128,
          106,
          92,
          146,
          134,
          87,
          109,
          112,
          124,
          120,
          118,
          115,
          120,
          120,
          140,
          139,
          68,
          108,
          127,
          99,
          126,
          90,
          127,
          112,
          113,
          127,
          103,
          139,
          110,
          97,
          125,
          102,
          113,
          113,
          116,
          89,
          92,
          122,
          102,
          111,
          121,
          109,
          133,
          137,
          108,
          111,
          116,
          126,
          159,
          116,
          96,
          135,
          129,
          106,
          121,
          106,
          130,
          92,
          68,
          123,
          100,
          151,
          115,
          120,
          123,
          119,
          106,
          128,
          128,
          102,
          124,
          126,
          135,
          107,
          150,
          138,
          129,
          109,
          127,
          116,
          114,
          136,
          117,
          126,
          128,
          125,
          110,
          101,
          131,
          112,
          115,
          94,
          140,
          115,
          123,
          106,
          127,
          130,
          128,
          143,
          126,
          115,
          93,
          72,
          113,
          137,
          145,
          109,
          163,
          124,
          103,
          126,
          138,
          140,
          147,
          154,
          109,
          147,
          135,
          114,
          99,
          126,
          135,
          90,
          119,
          112,
          93,
          134,
          133,
          130,
          126,
          122,
          125,
          124,
          108,
          128,
          122,
          126,
          125,
          121,
          108,
          156,
          104,
          141,
          132,
          101,
          109,
          136,
          122,
          173,
          97,
          133,
          134,
          111,
          112,
          131,
          130,
          115,
          113,
          142,
          117,
          108,
          129,
          126,
          105,
          119,
          116,
          147,
          117,
          152,
          112,
          140,
          103,
          115,
          121,
          130,
          100,
          134,
          134,
          119,
          119,
          125,
          147,
          97,
          125,
          110,
          120,
          118,
          126,
          116,
          136,
          111,
          114,
          139,
          121,
          135,
          143,
          127,
          129,
          130,
          85,
          130,
          110,
          145,
          132,
          98,
          133,
          142,
          98,
          121,
          109,
          143,
          102,
          127,
          110,
          138,
          119,
          133,
          157,
          98,
          137,
          112,
          99,
          125,
          123,
          103,
          115,
          126,
          118,
          121,
          153,
          129,
          161,
          139,
          134,
          110,
          102,
          118,
          113,
          122,
          109,
          154,
          106,
          131,
          148,
          114,
          116,
          102,
          126,
          126,
          103,
          111,
          113,
          97,
          117,
          140,
          143,
          124,
          144,
          138,
          158,
          121,
          98,
          124,
          126,
          100,
          135,
          106,
          118,
          115,
          124,
          116,
          87,
          114,
          139,
          130,
          101,
          153,
          100,
          156,
          88,
          118,
          131,
          108,
          110,
          127,
          99,
          77,
          129,
          115,
          119,
          145,
          106,
          117,
          115,
          135,
          172,
          131,
          141,
          119,
          146,
          132,
          106,
          141,
          120,
          127,
          116,
          138,
          122,
          155,
          133,
          128,
          148,
          138,
          143,
          135,
          131,
          107,
          88,
          110,
          121,
          140,
          97,
          120,
          113,
          117,
          130,
          138,
          122,
          125,
          109,
          149,
          109,
          107,
          117,
          142,
          147,
          158,
          151,
          127,
          129,
          104,
          111,
          120,
          141,
          144,
          144,
          131,
          134,
          130,
          153,
          131,
          119,
          109,
          136,
          135,
          109,
          119,
          129,
          106,
          101,
          118,
          126,
          134,
          121,
          127,
          108,
          131,
          117,
          120,
          147,
          86,
          117,
          137,
          174,
          130,
          136,
          123,
          101,
          105,
          119,
          128,
          147,
          133,
          126,
          125,
          129,
          131,
          77,
          151,
          142,
          150,
          126,
          102,
          130,
          112,
          116,
          131,
          154,
          112,
          132,
          123,
          122,
          146,
          104,
          120,
          142,
          125,
          149,
          156,
          130,
          149,
          148,
          134,
          119,
          111,
          125,
          96,
          98,
          127,
          85,
          115,
          113,
          98,
          114,
          136,
          108,
          133,
          142,
          101,
          112,
          119,
          121,
          147,
          143,
          120,
          124,
          135,
          147,
          117,
          123,
          129,
          109,
          118,
          106,
          133,
          114,
          113,
          101,
          139,
          110,
          104,
          131,
          104,
          108,
          131,
          116,
          124,
          121,
          107,
          143,
          123,
          103,
          122,
          127,
          120,
          124,
          117,
          121,
          136,
          126,
          157,
          110,
          135,
          147,
          127,
          116,
          85,
          93,
          133,
          112,
          122,
          116,
          107,
          115,
          108,
          108,
          114,
          127,
          98,
          131,
          127,
          138,
          120,
          143,
          140,
          97,
          136,
          105,
          129,
          124,
          112,
          122,
          105,
          107,
          115,
          99,
          145,
          99,
          100,
          118,
          149,
          131,
          117,
          100,
          132,
          88,
          104,
          132,
          130,
          125,
          117,
          106,
          110,
          102,
          88,
          114,
          113,
          123,
          105,
          124,
          131,
          115,
          135,
          120,
          119,
          115,
          130,
          106,
          136,
          116,
          156,
          122,
          89,
          108,
          147,
          143,
          127,
          124,
          129,
          133,
          118,
          100,
          101,
          100,
          103,
          156,
          143,
          113,
          124,
          119,
          134,
          82,
          81,
          147,
          87,
          124,
          137,
          102,
          75,
          105,
          98,
          95,
          102,
          119,
          127,
          118,
          118,
          117,
          110,
          137,
          114,
          166,
          107,
          129,
          117,
          150,
          91,
          133,
          114,
          118,
          98,
          119,
          113,
          141,
          100,
          128,
          143,
          113,
          116,
          107,
          120,
          143,
          136,
          134,
          110,
          113,
          113,
          133,
          131,
          158,
          122,
          154,
          124,
          147,
          136,
          136,
          136,
          117,
          91,
          128,
          103,
          118,
          113,
          107,
          98,
          129,
          115,
          117,
          144,
          142,
          113,
          129,
          121,
          124,
          141,
          101,
          133,
          142,
          146,
          94,
          129,
          128,
          132,
          109,
          88,
          142,
          146,
          118,
          137,
          131,
          124,
          123,
          90,
          140,
          103,
          130,
          142,
          82,
          139,
          109,
          121,
          118,
          128,
          112,
          144,
          136,
          112,
          109,
          107,
          146,
          99,
          122,
          126,
          123,
          132,
          146,
          99,
          122,
          109,
          129,
          82,
          146,
          144,
          110,
          102,
          136,
          110,
          120,
          103,
          133,
          137,
          97,
          132,
          122,
          138,
          121,
          145,
          111,
          150,
          111,
          148,
          115,
          139,
          132,
          133,
          119,
          147,
          124,
          101,
          129,
          102,
          127,
          159,
          115,
          146,
          146,
          97,
          153,
          143,
          121,
          133,
          120,
          136,
          91,
          118,
          84,
          95,
          136,
          138,
          107,
          68,
          125,
          125,
          106,
          129,
          137,
          132,
          90,
          117,
          100,
          125,
          90,
          104,
          104,
          97,
          82,
          124,
          97,
          103,
          94,
          87,
          122,
          89,
          109,
          109,
          142,
          101,
          93,
          114,
          104,
          91,
          108,
          119,
          103,
          100,
          122,
          134,
          107,
          121,
          104,
          140,
          127,
          101,
          172,
          120,
          112,
          102,
          115,
          105,
          129,
          91,
          110,
          119,
          140,
          102,
          116,
          123,
          127,
          90,
          112,
          132,
          112,
          89,
          121,
          135,
          101,
          127,
          151,
          92,
          114,
          106,
          133,
          139,
          128,
          127,
          105,
          125,
          84,
          115,
          117,
          114,
          115,
          103,
          113,
          126,
          99,
          169,
          118,
          124,
          97,
          125,
          105,
          79,
          102,
          134,
          89,
          110,
          95,
          96,
          97,
          91,
          77,
          111,
          136,
          111,
          85,
          75,
          88,
          106,
          108,
          89,
          0,
          82,
          111,
          101,
          104,
          87,
          90,
          120,
          98,
          94,
          91,
          60,
          121,
          138,
          90,
          83,
          79,
          105,
          83,
          80,
          59,
          100,
          106,
          134,
          131,
          104,
          100,
          113,
          145,
          119,
          106,
          91,
          74,
          87,
          100,
          0,
          88,
          120,
          61,
          0,
          0,
          0,
          0,
          0,
          0,
          0,
          0,
          0,
          0,
          0,
          0,
          69,
          91,
          78,
          106,
          137,
          81,
          69,
          52,
          147,
          117,
          71,
          103,
          124,
          127,
          103,
          90,
          133,
          88,
          57,
          105,
          113,
          93,
          96,
          117,
          103,
          68,
          95,
          124,
          57,
          91,
          145,
          122,
          77,
          84,
          84,
          112,
          103,
          106,
          91,
          137,
          90,
          103,
          102,
          96,
          96,
          135,
          108,
          105,
          83,
          87,
          86,
          88,
          53,
          107,
          125,
          105,
          70,
          111,
          84,
          79,
          134,
          96,
          100,
          114,
          98,
          88,
          65,
          87,
          100,
          133,
          78,
          89,
          95,
          91,
          98,
          105,
          127,
          102,
          110,
          74,
          97,
          116,
          115,
          129,
          111,
          103,
          106,
          85,
          96,
          121,
          121,
          118,
          120,
          110,
          127,
          101,
          121,
          121,
          105,
          124,
          130,
          122,
          138,
          117,
          106,
          137,
          89,
          98,
          104,
          116,
          108,
          115,
          137,
          129,
          139,
          90,
          145,
          134,
          119,
          133,
          105,
          104,
          143,
          110,
          127,
          94,
          106,
          127,
          121,
          126,
          112,
          124,
          119,
          137,
          128,
          116,
          98,
          133,
          121,
          112,
          119,
          110,
          162,
          124,
          124,
          141,
          129,
          121,
          114,
          117,
          100,
          138,
          153,
          139,
          123,
          146,
          118,
          139,
          106,
          126,
          129,
          152,
          120,
          97,
          103,
          115,
          119,
          75,
          121,
          122,
          84,
          120,
          102,
          133,
          105,
          152,
          105,
          96,
          101,
          136,
          118,
          158,
          123,
          119,
          125,
          104,
          123,
          115,
          102,
          99,
          110,
          147,
          114,
          104,
          110,
          116,
          110,
          132,
          125,
          120,
          131,
          110,
          104,
          111,
          72,
          120,
          111,
          104,
          141,
          96,
          122,
          142,
          130,
          127,
          122,
          112,
          137,
          114,
          118,
          141,
          109,
          145,
          130,
          121,
          129,
          96,
          108,
          110,
          115,
          143,
          132,
          122,
          108,
          102,
          103,
          121,
          117,
          115,
          121,
          91,
          100,
          119,
          127,
          115,
          82,
          119,
          113,
          103,
          113,
          163,
          115,
          117,
          119,
          99,
          127,
          104,
          149,
          120,
          97,
          144,
          137,
          113,
          111,
          122,
          126,
          108,
          97,
          110
         ],
         "xaxis": "x",
         "xbingroup": "x",
         "y": [
          85,
          107,
          97,
          100,
          120,
          98,
          91,
          110,
          108,
          118,
          100,
          131,
          100,
          86,
          128,
          104,
          104,
          105,
          132,
          96,
          110,
          105,
          96,
          101,
          120,
          122,
          106,
          97,
          83,
          107,
          111,
          112,
          107,
          119,
          126,
          102,
          102,
          103,
          108,
          98,
          105,
          110,
          77,
          100,
          95,
          104,
          114,
          103,
          99,
          103,
          112,
          122,
          134,
          115,
          119,
          116,
          101,
          95,
          116,
          100,
          99,
          107,
          95,
          126,
          112,
          111,
          102,
          113,
          104,
          101,
          104,
          102,
          117,
          118,
          120,
          106,
          96,
          121,
          114,
          97,
          108,
          125,
          104,
          109,
          104,
          120,
          67,
          105,
          125,
          125,
          101,
          108,
          96,
          111,
          106,
          107,
          104,
          118,
          99,
          104,
          100,
          96,
          95,
          120,
          93,
          113,
          101,
          116,
          104,
          84,
          106,
          110,
          111,
          101,
          95,
          119,
          116,
          100,
          128,
          100,
          123,
          108,
          101,
          93,
          105,
          91,
          100,
          101,
          124,
          117,
          98,
          113,
          105,
          109,
          90,
          118,
          92,
          101,
          122,
          111,
          130,
          124,
          94,
          104,
          122,
          102,
          108,
          112,
          106,
          108,
          84,
          92,
          103,
          104,
          103,
          73,
          102,
          94,
          97,
          113,
          124,
          109,
          96,
          102,
          123,
          103,
          107,
          112,
          84,
          105,
          103,
          102,
          74,
          95,
          127,
          118,
          80,
          97,
          97,
          104,
          119,
          112,
          87,
          102,
          99,
          77,
          113,
          105,
          88,
          89,
          112,
          101,
          101,
          102,
          85,
          95,
          99,
          99,
          111,
          111,
          107,
          96,
          117,
          103,
          115,
          106,
          97,
          104,
          112,
          81,
          81,
          89,
          104,
          115,
          94,
          91,
          101,
          114,
          102,
          98,
          105,
          116,
          63,
          100,
          89,
          111,
          114,
          95,
          105,
          104,
          88,
          93,
          88,
          116,
          92,
          105,
          101,
          109,
          94,
          66,
          110,
          106,
          100,
          92,
          119,
          107,
          132,
          102,
          104,
          98,
          115,
          80,
          95,
          115,
          105,
          112,
          110,
          102,
          103,
          99,
          116,
          123,
          108,
          114,
          104,
          94,
          128,
          91,
          84,
          100,
          105,
          119,
          107,
          98,
          94,
          121,
          95,
          112,
          97,
          107,
          110,
          104,
          83,
          110,
          91,
          93,
          105,
          94,
          107,
          96,
          80,
          101,
          104,
          117,
          102,
          105,
          90,
          92,
          97,
          114,
          105,
          100,
          125,
          98,
          100,
          93,
          101,
          123,
          93,
          113,
          108,
          115,
          106,
          104,
          107,
          98,
          116,
          100,
          100,
          134,
          101,
          93,
          80,
          114,
          111,
          125,
          107,
          108,
          95,
          98,
          91,
          103,
          109,
          96,
          90,
          110,
          115,
          122,
          106,
          119,
          107,
          93,
          109,
          111,
          101,
          103,
          94,
          118,
          90,
          121,
          102,
          94,
          111,
          125,
          124,
          100,
          89,
          110,
          96,
          106,
          93,
          106,
          108,
          100,
          102,
          109,
          87,
          106,
          114,
          133,
          98,
          100,
          100,
          89,
          103,
          109,
          99,
          120,
          106,
          101,
          116,
          103,
          76,
          102,
          115,
          124,
          105,
          113,
          127,
          120,
          132,
          117,
          96,
          127,
          103,
          96,
          108,
          107,
          94,
          101,
          95,
          110,
          108,
          99,
          99,
          111,
          123,
          117,
          101,
          94,
          97,
          114,
          76,
          100,
          95,
          103,
          121,
          100,
          121,
          89,
          96,
          119,
          121,
          105,
          109,
          113,
          111,
          109,
          103,
          108,
          118,
          103,
          88,
          89,
          103,
          78,
          122,
          105,
          98,
          121,
          93,
          91,
          94,
          112,
          86,
          112,
          105,
          88,
          84,
          87,
          114,
          113,
          118,
          96,
          97,
          90,
          113,
          93,
          99,
          116,
          105,
          109,
          100,
          88,
          112,
          101,
          104,
          73,
          113,
          95,
          98,
          108,
          103,
          120,
          101,
          82,
          91,
          116,
          74,
          109,
          87,
          86,
          121,
          89,
          100,
          85,
          112,
          106,
          99,
          104,
          104,
          107,
          103,
          114,
          106,
          109,
          102,
          119,
          99,
          98,
          101,
          112,
          115,
          115,
          111,
          98,
          104,
          97,
          106,
          85,
          115,
          110,
          113,
          95,
          78,
          102,
          85,
          108,
          105,
          109,
          106,
          77,
          98,
          107,
          102,
          94,
          104,
          118,
          91,
          92,
          109,
          100,
          97,
          92,
          114,
          108,
          103,
          125,
          97,
          87,
          113,
          102,
          108,
          73,
          95,
          108,
          99,
          103,
          109,
          113,
          103,
          105,
          114,
          97,
          106,
          101,
          104,
          100,
          110,
          128,
          97,
          85,
          99,
          111,
          102,
          110,
          81,
          114,
          109,
          80,
          115,
          79,
          90,
          111,
          90,
          109,
          112,
          102,
          109,
          103,
          101,
          114,
          110,
          96,
          98,
          105,
          91,
          106,
          100,
          97,
          103,
          113,
          105,
          96,
          76,
          95,
          104,
          113,
          104,
          104,
          130,
          101,
          101,
          128,
          83,
          124,
          105,
          109,
          94,
          97,
          84,
          103,
          76,
          98,
          112,
          112,
          112,
          108,
          120,
          93,
          104,
          103,
          87,
          120,
          90,
          99,
          109,
          100,
          75,
          90,
          108,
          105,
          91,
          115,
          95,
          100,
          131,
          101,
          101,
          102,
          113,
          98,
          93,
          91,
          110,
          113,
          119,
          94,
          110,
          100,
          110,
          112,
          92,
          118,
          91,
          101,
          114,
          83,
          96,
          111,
          103,
          97,
          126,
          76,
          103,
          119,
          105,
          112,
          107,
          108,
          113,
          122,
          80,
          98,
          99,
          96,
          103,
          96,
          125,
          94,
          98,
          101,
          111,
          105,
          104,
          77,
          110,
          102,
          121,
          98,
          105,
          95,
          96,
          91,
          94,
          111,
          108,
          97,
          96,
          111,
          96,
          125,
          113,
          121,
          85,
          105,
          111,
          109,
          95,
          110,
          96,
          96,
          91,
          102,
          91,
          85,
          98,
          115,
          109,
          106,
          112,
          85,
          98,
          75,
          93,
          93,
          101,
          104,
          107,
          114,
          110,
          108,
          112,
          119,
          111,
          97,
          116,
          108,
          101,
          105,
          81,
          74,
          113,
          73,
          119,
          95,
          92,
          92,
          106,
          71,
          90,
          127,
          86,
          93,
          98,
          93,
          86,
          105,
          119,
          101,
          91,
          89,
          88,
          84,
          109,
          87,
          109,
          83,
          73,
          111,
          101,
          98,
          91,
          80,
          99,
          82,
          102,
          95,
          114,
          91,
          99,
          98,
          117,
          105,
          107,
          100,
          90,
          85,
          83,
          120,
          96,
          116,
          95,
          105,
          125,
          110,
          96,
          103,
          101,
          120,
          94,
          123,
          117,
          85,
          111,
          103,
          83,
          103,
          95,
          99,
          96,
          106,
          104,
          122,
          109,
          102,
          95,
          128,
          113,
          87,
          106,
          99,
          108,
          98,
          81,
          108,
          114,
          108,
          111,
          114,
          92,
          96,
          111,
          94,
          109,
          97,
          117,
          96,
          122,
          93,
          100,
          98,
          90,
          112,
          125,
          95,
          115,
          111,
          98,
          71,
          72,
          89,
          90,
          97,
          113,
          94,
          104,
          84,
          109,
          95,
          103,
          101,
          106,
          90,
          93,
          75,
          94,
          127,
          96,
          78,
          95,
          102,
          108,
          111,
          92,
          101,
          112,
          116,
          105,
          103,
          95,
          132,
          94,
          108,
          110,
          115,
          99,
          117,
          80,
          103,
          116,
          95,
          100,
          91,
          124,
          80,
          115,
          94,
          109,
          123,
          90,
          119,
          93,
          100,
          85,
          118,
          110,
          96,
          97,
          108,
          104,
          106,
          82,
          110,
          114,
          101,
          96,
          75,
          92,
          97,
          100,
          116,
          101,
          90,
          110,
          86,
          127,
          108,
          84,
          118,
          98,
          94,
          89,
          104,
          115,
          108,
          102,
          117,
          120,
          110,
          113,
          84,
          110,
          86,
          97,
          106,
          0,
          98,
          96,
          92,
          96,
          87,
          99,
          91,
          98,
          109,
          116,
          125,
          98,
          81,
          89,
          95,
          124,
          122,
          116,
          116,
          69,
          121,
          105,
          99,
          113,
          103,
          111,
          105,
          113,
          121,
          114,
          116,
          113,
          98,
          124,
          0,
          102,
          117,
          101,
          0,
          0,
          0,
          0,
          0,
          0,
          0,
          0,
          0,
          0,
          0,
          0,
          77,
          104,
          98,
          101,
          109,
          125,
          123,
          75,
          68,
          95,
          101,
          96,
          109,
          88,
          112,
          109,
          64,
          115,
          121,
          101,
          102,
          114,
          119,
          86,
          77,
          100,
          101,
          110,
          91,
          97,
          118,
          110,
          117,
          103,
          114,
          95,
          113,
          110,
          85,
          98,
          90,
          99,
          127,
          102,
          95,
          109,
          91,
          89,
          111,
          120,
          105,
          96,
          101,
          122,
          118,
          90,
          106,
          117,
          141,
          108,
          93,
          110,
          98,
          108,
          105,
          107,
          107,
          89,
          92,
          112,
          114,
          103,
          95,
          105,
          123,
          119,
          106,
          86,
          127,
          112,
          118,
          100,
          103,
          96,
          102,
          102,
          111,
          105,
          126,
          110,
          129,
          106,
          104,
          124,
          116,
          118,
          111,
          119,
          114,
          96,
          100,
          123,
          101,
          105,
          108,
          95,
          107,
          97,
          111,
          91,
          107,
          89,
          114,
          114,
          104,
          116,
          74,
          95,
          117,
          123,
          99,
          109,
          106,
          110,
          108,
          105,
          102,
          100,
          125,
          89,
          87,
          106,
          114,
          107,
          98,
          90,
          98,
          110,
          99,
          116,
          93,
          111,
          86,
          99,
          92,
          97,
          117,
          108,
          91,
          107,
          100,
          111,
          110,
          100,
          105,
          96,
          99,
          107,
          101,
          96,
          93,
          115,
          111,
          87,
          98,
          123,
          108,
          119,
          100,
          103,
          110,
          115,
          110,
          95,
          103,
          96,
          120,
          86,
          107,
          114,
          98,
          103,
          103,
          95,
          103,
          97,
          106,
          113,
          109,
          110,
          89,
          103,
          102,
          104,
          96,
          110,
          112,
          117,
          122,
          117,
          109,
          127,
          83,
          100,
          112,
          97,
          122,
          102,
          121,
          103,
          98,
          86,
          102,
          103,
          90,
          109,
          103,
          93,
          90,
          104,
          82,
          121,
          102,
          105,
          103,
          129,
          113,
          93,
          91,
          118,
          120,
          101,
          118,
          92,
          93,
          104,
          93,
          76,
          85,
          110,
          106,
          103,
          99,
          121,
          105,
          103,
          97,
          99,
          107,
          126,
          88,
          102,
          107,
          101,
          103,
          82,
          107,
          133,
          129,
          96,
          118,
          110,
          101,
          113,
          65,
          101,
          104,
          111
         ],
         "yaxis": "y",
         "ybingroup": "y"
        }
       ],
       "layout": {
        "coloraxis": {
         "colorbar": {
          "title": {
           "text": "count"
          }
         },
         "colorscale": [
          [
           0,
           "#440154"
          ],
          [
           0.1111111111111111,
           "#482878"
          ],
          [
           0.2222222222222222,
           "#3e4989"
          ],
          [
           0.3333333333333333,
           "#31688e"
          ],
          [
           0.4444444444444444,
           "#26828e"
          ],
          [
           0.5555555555555556,
           "#1f9e89"
          ],
          [
           0.6666666666666666,
           "#35b779"
          ],
          [
           0.7777777777777778,
           "#6ece58"
          ],
          [
           0.8888888888888888,
           "#b5de2b"
          ],
          [
           1,
           "#fde725"
          ]
         ]
        },
        "legend": {
         "tracegroupgap": 0
        },
        "margin": {
         "t": 60
        },
        "template": {
         "data": {
          "bar": [
           {
            "error_x": {
             "color": "#2a3f5f"
            },
            "error_y": {
             "color": "#2a3f5f"
            },
            "marker": {
             "line": {
              "color": "#E5ECF6",
              "width": 0.5
             },
             "pattern": {
              "fillmode": "overlay",
              "size": 10,
              "solidity": 0.2
             }
            },
            "type": "bar"
           }
          ],
          "barpolar": [
           {
            "marker": {
             "line": {
              "color": "#E5ECF6",
              "width": 0.5
             },
             "pattern": {
              "fillmode": "overlay",
              "size": 10,
              "solidity": 0.2
             }
            },
            "type": "barpolar"
           }
          ],
          "carpet": [
           {
            "aaxis": {
             "endlinecolor": "#2a3f5f",
             "gridcolor": "white",
             "linecolor": "white",
             "minorgridcolor": "white",
             "startlinecolor": "#2a3f5f"
            },
            "baxis": {
             "endlinecolor": "#2a3f5f",
             "gridcolor": "white",
             "linecolor": "white",
             "minorgridcolor": "white",
             "startlinecolor": "#2a3f5f"
            },
            "type": "carpet"
           }
          ],
          "choropleth": [
           {
            "colorbar": {
             "outlinewidth": 0,
             "ticks": ""
            },
            "type": "choropleth"
           }
          ],
          "contour": [
           {
            "colorbar": {
             "outlinewidth": 0,
             "ticks": ""
            },
            "colorscale": [
             [
              0,
              "#0d0887"
             ],
             [
              0.1111111111111111,
              "#46039f"
             ],
             [
              0.2222222222222222,
              "#7201a8"
             ],
             [
              0.3333333333333333,
              "#9c179e"
             ],
             [
              0.4444444444444444,
              "#bd3786"
             ],
             [
              0.5555555555555556,
              "#d8576b"
             ],
             [
              0.6666666666666666,
              "#ed7953"
             ],
             [
              0.7777777777777778,
              "#fb9f3a"
             ],
             [
              0.8888888888888888,
              "#fdca26"
             ],
             [
              1,
              "#f0f921"
             ]
            ],
            "type": "contour"
           }
          ],
          "contourcarpet": [
           {
            "colorbar": {
             "outlinewidth": 0,
             "ticks": ""
            },
            "type": "contourcarpet"
           }
          ],
          "heatmap": [
           {
            "colorbar": {
             "outlinewidth": 0,
             "ticks": ""
            },
            "colorscale": [
             [
              0,
              "#0d0887"
             ],
             [
              0.1111111111111111,
              "#46039f"
             ],
             [
              0.2222222222222222,
              "#7201a8"
             ],
             [
              0.3333333333333333,
              "#9c179e"
             ],
             [
              0.4444444444444444,
              "#bd3786"
             ],
             [
              0.5555555555555556,
              "#d8576b"
             ],
             [
              0.6666666666666666,
              "#ed7953"
             ],
             [
              0.7777777777777778,
              "#fb9f3a"
             ],
             [
              0.8888888888888888,
              "#fdca26"
             ],
             [
              1,
              "#f0f921"
             ]
            ],
            "type": "heatmap"
           }
          ],
          "heatmapgl": [
           {
            "colorbar": {
             "outlinewidth": 0,
             "ticks": ""
            },
            "colorscale": [
             [
              0,
              "#0d0887"
             ],
             [
              0.1111111111111111,
              "#46039f"
             ],
             [
              0.2222222222222222,
              "#7201a8"
             ],
             [
              0.3333333333333333,
              "#9c179e"
             ],
             [
              0.4444444444444444,
              "#bd3786"
             ],
             [
              0.5555555555555556,
              "#d8576b"
             ],
             [
              0.6666666666666666,
              "#ed7953"
             ],
             [
              0.7777777777777778,
              "#fb9f3a"
             ],
             [
              0.8888888888888888,
              "#fdca26"
             ],
             [
              1,
              "#f0f921"
             ]
            ],
            "type": "heatmapgl"
           }
          ],
          "histogram": [
           {
            "marker": {
             "pattern": {
              "fillmode": "overlay",
              "size": 10,
              "solidity": 0.2
             }
            },
            "type": "histogram"
           }
          ],
          "histogram2d": [
           {
            "colorbar": {
             "outlinewidth": 0,
             "ticks": ""
            },
            "colorscale": [
             [
              0,
              "#0d0887"
             ],
             [
              0.1111111111111111,
              "#46039f"
             ],
             [
              0.2222222222222222,
              "#7201a8"
             ],
             [
              0.3333333333333333,
              "#9c179e"
             ],
             [
              0.4444444444444444,
              "#bd3786"
             ],
             [
              0.5555555555555556,
              "#d8576b"
             ],
             [
              0.6666666666666666,
              "#ed7953"
             ],
             [
              0.7777777777777778,
              "#fb9f3a"
             ],
             [
              0.8888888888888888,
              "#fdca26"
             ],
             [
              1,
              "#f0f921"
             ]
            ],
            "type": "histogram2d"
           }
          ],
          "histogram2dcontour": [
           {
            "colorbar": {
             "outlinewidth": 0,
             "ticks": ""
            },
            "colorscale": [
             [
              0,
              "#0d0887"
             ],
             [
              0.1111111111111111,
              "#46039f"
             ],
             [
              0.2222222222222222,
              "#7201a8"
             ],
             [
              0.3333333333333333,
              "#9c179e"
             ],
             [
              0.4444444444444444,
              "#bd3786"
             ],
             [
              0.5555555555555556,
              "#d8576b"
             ],
             [
              0.6666666666666666,
              "#ed7953"
             ],
             [
              0.7777777777777778,
              "#fb9f3a"
             ],
             [
              0.8888888888888888,
              "#fdca26"
             ],
             [
              1,
              "#f0f921"
             ]
            ],
            "type": "histogram2dcontour"
           }
          ],
          "mesh3d": [
           {
            "colorbar": {
             "outlinewidth": 0,
             "ticks": ""
            },
            "type": "mesh3d"
           }
          ],
          "parcoords": [
           {
            "line": {
             "colorbar": {
              "outlinewidth": 0,
              "ticks": ""
             }
            },
            "type": "parcoords"
           }
          ],
          "pie": [
           {
            "automargin": true,
            "type": "pie"
           }
          ],
          "scatter": [
           {
            "fillpattern": {
             "fillmode": "overlay",
             "size": 10,
             "solidity": 0.2
            },
            "type": "scatter"
           }
          ],
          "scatter3d": [
           {
            "line": {
             "colorbar": {
              "outlinewidth": 0,
              "ticks": ""
             }
            },
            "marker": {
             "colorbar": {
              "outlinewidth": 0,
              "ticks": ""
             }
            },
            "type": "scatter3d"
           }
          ],
          "scattercarpet": [
           {
            "marker": {
             "colorbar": {
              "outlinewidth": 0,
              "ticks": ""
             }
            },
            "type": "scattercarpet"
           }
          ],
          "scattergeo": [
           {
            "marker": {
             "colorbar": {
              "outlinewidth": 0,
              "ticks": ""
             }
            },
            "type": "scattergeo"
           }
          ],
          "scattergl": [
           {
            "marker": {
             "colorbar": {
              "outlinewidth": 0,
              "ticks": ""
             }
            },
            "type": "scattergl"
           }
          ],
          "scattermapbox": [
           {
            "marker": {
             "colorbar": {
              "outlinewidth": 0,
              "ticks": ""
             }
            },
            "type": "scattermapbox"
           }
          ],
          "scatterpolar": [
           {
            "marker": {
             "colorbar": {
              "outlinewidth": 0,
              "ticks": ""
             }
            },
            "type": "scatterpolar"
           }
          ],
          "scatterpolargl": [
           {
            "marker": {
             "colorbar": {
              "outlinewidth": 0,
              "ticks": ""
             }
            },
            "type": "scatterpolargl"
           }
          ],
          "scatterternary": [
           {
            "marker": {
             "colorbar": {
              "outlinewidth": 0,
              "ticks": ""
             }
            },
            "type": "scatterternary"
           }
          ],
          "surface": [
           {
            "colorbar": {
             "outlinewidth": 0,
             "ticks": ""
            },
            "colorscale": [
             [
              0,
              "#0d0887"
             ],
             [
              0.1111111111111111,
              "#46039f"
             ],
             [
              0.2222222222222222,
              "#7201a8"
             ],
             [
              0.3333333333333333,
              "#9c179e"
             ],
             [
              0.4444444444444444,
              "#bd3786"
             ],
             [
              0.5555555555555556,
              "#d8576b"
             ],
             [
              0.6666666666666666,
              "#ed7953"
             ],
             [
              0.7777777777777778,
              "#fb9f3a"
             ],
             [
              0.8888888888888888,
              "#fdca26"
             ],
             [
              1,
              "#f0f921"
             ]
            ],
            "type": "surface"
           }
          ],
          "table": [
           {
            "cells": {
             "fill": {
              "color": "#EBF0F8"
             },
             "line": {
              "color": "white"
             }
            },
            "header": {
             "fill": {
              "color": "#C8D4E3"
             },
             "line": {
              "color": "white"
             }
            },
            "type": "table"
           }
          ]
         },
         "layout": {
          "annotationdefaults": {
           "arrowcolor": "#2a3f5f",
           "arrowhead": 0,
           "arrowwidth": 1
          },
          "autotypenumbers": "strict",
          "coloraxis": {
           "colorbar": {
            "outlinewidth": 0,
            "ticks": ""
           }
          },
          "colorscale": {
           "diverging": [
            [
             0,
             "#8e0152"
            ],
            [
             0.1,
             "#c51b7d"
            ],
            [
             0.2,
             "#de77ae"
            ],
            [
             0.3,
             "#f1b6da"
            ],
            [
             0.4,
             "#fde0ef"
            ],
            [
             0.5,
             "#f7f7f7"
            ],
            [
             0.6,
             "#e6f5d0"
            ],
            [
             0.7,
             "#b8e186"
            ],
            [
             0.8,
             "#7fbc41"
            ],
            [
             0.9,
             "#4d9221"
            ],
            [
             1,
             "#276419"
            ]
           ],
           "sequential": [
            [
             0,
             "#0d0887"
            ],
            [
             0.1111111111111111,
             "#46039f"
            ],
            [
             0.2222222222222222,
             "#7201a8"
            ],
            [
             0.3333333333333333,
             "#9c179e"
            ],
            [
             0.4444444444444444,
             "#bd3786"
            ],
            [
             0.5555555555555556,
             "#d8576b"
            ],
            [
             0.6666666666666666,
             "#ed7953"
            ],
            [
             0.7777777777777778,
             "#fb9f3a"
            ],
            [
             0.8888888888888888,
             "#fdca26"
            ],
            [
             1,
             "#f0f921"
            ]
           ],
           "sequentialminus": [
            [
             0,
             "#0d0887"
            ],
            [
             0.1111111111111111,
             "#46039f"
            ],
            [
             0.2222222222222222,
             "#7201a8"
            ],
            [
             0.3333333333333333,
             "#9c179e"
            ],
            [
             0.4444444444444444,
             "#bd3786"
            ],
            [
             0.5555555555555556,
             "#d8576b"
            ],
            [
             0.6666666666666666,
             "#ed7953"
            ],
            [
             0.7777777777777778,
             "#fb9f3a"
            ],
            [
             0.8888888888888888,
             "#fdca26"
            ],
            [
             1,
             "#f0f921"
            ]
           ]
          },
          "colorway": [
           "#636efa",
           "#EF553B",
           "#00cc96",
           "#ab63fa",
           "#FFA15A",
           "#19d3f3",
           "#FF6692",
           "#B6E880",
           "#FF97FF",
           "#FECB52"
          ],
          "font": {
           "color": "#2a3f5f"
          },
          "geo": {
           "bgcolor": "white",
           "lakecolor": "white",
           "landcolor": "#E5ECF6",
           "showlakes": true,
           "showland": true,
           "subunitcolor": "white"
          },
          "hoverlabel": {
           "align": "left"
          },
          "hovermode": "closest",
          "mapbox": {
           "style": "light"
          },
          "paper_bgcolor": "white",
          "plot_bgcolor": "#E5ECF6",
          "polar": {
           "angularaxis": {
            "gridcolor": "white",
            "linecolor": "white",
            "ticks": ""
           },
           "bgcolor": "#E5ECF6",
           "radialaxis": {
            "gridcolor": "white",
            "linecolor": "white",
            "ticks": ""
           }
          },
          "scene": {
           "xaxis": {
            "backgroundcolor": "#E5ECF6",
            "gridcolor": "white",
            "gridwidth": 2,
            "linecolor": "white",
            "showbackground": true,
            "ticks": "",
            "zerolinecolor": "white"
           },
           "yaxis": {
            "backgroundcolor": "#E5ECF6",
            "gridcolor": "white",
            "gridwidth": 2,
            "linecolor": "white",
            "showbackground": true,
            "ticks": "",
            "zerolinecolor": "white"
           },
           "zaxis": {
            "backgroundcolor": "#E5ECF6",
            "gridcolor": "white",
            "gridwidth": 2,
            "linecolor": "white",
            "showbackground": true,
            "ticks": "",
            "zerolinecolor": "white"
           }
          },
          "shapedefaults": {
           "line": {
            "color": "#2a3f5f"
           }
          },
          "ternary": {
           "aaxis": {
            "gridcolor": "white",
            "linecolor": "white",
            "ticks": ""
           },
           "baxis": {
            "gridcolor": "white",
            "linecolor": "white",
            "ticks": ""
           },
           "bgcolor": "#E5ECF6",
           "caxis": {
            "gridcolor": "white",
            "linecolor": "white",
            "ticks": ""
           }
          },
          "title": {
           "x": 0.05
          },
          "xaxis": {
           "automargin": true,
           "gridcolor": "white",
           "linecolor": "white",
           "ticks": "",
           "title": {
            "standoff": 15
           },
           "zerolinecolor": "white",
           "zerolinewidth": 2
          },
          "yaxis": {
           "automargin": true,
           "gridcolor": "white",
           "linecolor": "white",
           "ticks": "",
           "title": {
            "standoff": 15
           },
           "zerolinecolor": "white",
           "zerolinewidth": 2
          }
         }
        },
        "title": {
         "text": "Michael Jordan Efficiency Rating Heatmap",
         "x": 0.5
        },
        "xaxis": {
         "anchor": "y",
         "domain": [
          0,
          1
         ],
         "title": {
          "text": "Offensive Rating"
         }
        },
        "yaxis": {
         "anchor": "x",
         "domain": [
          0,
          1
         ],
         "title": {
          "text": "Defensive Rating"
         }
        }
       }
      }
     },
     "metadata": {},
     "output_type": "display_data"
    }
   ],
   "source": [
    "result_df = df[df['Player'] == 'Michael Jordan'] \n",
    "fig = px.density_heatmap(result_df, x=\"Offensive Rating\", y=\"Defensive Rating\", nbinsx=20, nbinsy=20, color_continuous_scale=\"Viridis\")\n",
    "fig.update_layout(title_text='Michael Jordan Efficiency Rating Heatmap', title_x=0.5)\n",
    "fig.show()\n",
    "pio.write_image(fig, 'mj_heatmap.png')"
   ]
  },
  {
   "cell_type": "code",
   "execution_count": 134,
   "metadata": {},
   "outputs": [
    {
     "data": {
      "application/vnd.plotly.v1+json": {
       "config": {
        "plotlyServerURL": "https://plot.ly"
       },
       "data": [
        {
         "coloraxis": "coloraxis",
         "hovertemplate": "Offensive Rating=%{x}<br>Defensive Rating=%{y}<br>count=%{z}<extra></extra>",
         "name": "",
         "nbinsx": 20,
         "nbinsy": 20,
         "type": "histogram2d",
         "x": [
          123,
          89,
          74,
          85,
          85,
          104,
          121,
          96,
          70,
          95,
          92,
          123,
          108,
          84,
          82,
          66,
          100,
          112,
          54,
          75,
          101,
          105,
          150,
          109,
          83,
          126,
          114,
          88,
          103,
          70,
          120,
          97,
          76,
          87,
          99,
          84,
          71,
          106,
          122,
          97,
          0,
          0,
          0,
          77,
          103,
          74,
          109,
          79,
          121,
          77,
          84,
          100,
          64,
          102,
          125,
          99,
          119,
          72,
          117,
          95,
          131,
          99,
          104,
          127,
          98,
          101,
          103,
          92,
          76,
          100,
          88,
          137,
          91,
          116,
          90,
          120,
          95,
          101,
          97,
          97,
          117,
          85,
          103,
          107,
          104,
          111,
          130,
          104,
          138,
          139,
          96,
          85,
          148,
          132,
          138,
          102,
          72,
          90,
          129,
          116,
          91,
          118,
          127,
          122,
          62,
          106,
          127,
          106,
          112,
          144,
          78,
          139,
          132,
          96,
          96,
          107,
          104,
          125,
          144,
          94,
          120,
          107,
          138,
          0,
          0,
          116,
          119,
          133,
          114,
          111,
          112,
          127,
          121,
          122,
          101,
          120,
          90,
          122,
          115,
          110,
          108,
          131,
          166,
          106,
          74,
          131,
          115,
          80,
          98,
          105,
          107,
          89,
          116,
          127,
          94,
          101,
          112,
          140,
          133,
          98,
          121,
          110,
          121,
          117,
          144,
          99,
          118,
          139,
          142,
          114,
          106,
          136,
          90,
          127,
          146,
          74,
          135,
          99,
          123,
          110,
          107,
          89,
          147,
          116,
          124,
          145,
          128,
          124,
          83,
          113,
          117,
          114,
          107,
          135,
          146,
          113,
          103,
          162,
          105,
          104,
          63,
          131,
          103,
          119,
          106,
          114,
          115,
          101,
          103,
          136,
          103,
          110,
          85,
          155,
          131,
          121,
          111,
          105,
          89,
          102,
          94,
          87,
          99,
          120,
          100,
          129,
          94,
          118,
          115,
          114,
          94,
          119,
          139,
          105,
          161,
          150,
          138,
          145,
          114,
          108,
          116,
          101,
          0,
          100,
          0,
          0,
          98,
          112,
          114,
          117,
          124,
          141,
          125,
          143,
          123,
          95,
          84,
          118,
          130,
          102,
          97,
          118,
          83,
          123,
          129,
          97,
          98,
          122,
          116,
          126,
          120,
          100,
          108,
          122,
          112,
          87,
          125,
          86,
          81,
          132,
          112,
          114,
          111,
          87,
          113,
          93,
          90,
          124,
          0,
          125,
          0,
          92,
          115,
          91,
          88,
          120,
          100,
          112,
          143,
          102,
          92,
          110,
          125,
          124,
          142,
          112,
          122,
          116,
          113,
          0,
          139,
          100,
          112,
          88,
          132,
          85,
          110,
          98,
          116,
          0,
          124,
          128,
          97,
          93,
          117,
          146,
          109,
          120,
          64,
          131,
          107,
          128,
          107,
          127,
          93,
          110,
          131,
          117,
          128,
          146,
          129,
          126,
          126,
          111,
          0,
          0,
          0,
          0,
          0,
          113,
          100,
          102,
          109,
          125,
          107,
          108,
          116,
          101,
          95,
          139,
          114,
          138,
          98,
          122,
          105,
          145,
          105,
          101,
          166,
          122,
          107,
          106,
          0,
          115,
          123,
          111,
          124,
          108,
          127,
          119,
          108,
          122,
          131,
          115,
          129,
          97,
          125,
          116,
          157,
          114,
          145,
          106,
          118,
          97,
          124,
          114,
          154,
          111,
          105,
          132,
          63,
          148,
          126,
          112,
          82,
          147,
          115,
          91,
          105,
          0,
          93,
          111,
          100,
          131,
          130,
          104,
          134,
          140,
          102,
          153,
          115,
          106,
          124,
          141,
          130,
          150,
          110,
          170,
          109,
          123,
          140,
          129,
          130,
          150,
          150,
          123,
          123,
          93,
          103,
          137,
          118,
          123,
          104,
          107,
          127,
          147,
          81,
          111,
          81,
          126,
          114,
          124,
          162,
          88,
          125,
          113,
          128,
          130,
          103,
          142,
          127,
          103,
          137,
          140,
          124,
          87,
          139,
          123,
          134,
          134,
          100,
          105,
          114,
          141,
          141,
          111,
          125,
          112,
          100,
          137,
          153,
          124,
          123,
          96,
          118,
          110,
          154,
          125,
          145,
          138,
          121,
          0,
          121,
          100,
          125,
          107,
          120,
          111,
          125,
          125,
          128,
          115,
          141,
          120,
          137,
          121,
          115,
          99,
          135,
          96,
          129,
          102,
          129,
          103,
          118,
          140,
          98,
          121,
          114,
          102,
          115,
          125,
          95,
          141,
          83,
          151,
          141,
          137,
          154,
          98,
          155,
          139,
          125,
          124,
          122,
          117,
          128,
          103,
          119,
          96,
          149,
          129,
          140,
          130,
          131,
          132,
          118,
          128,
          104,
          138,
          128,
          168,
          114,
          138,
          124,
          0,
          0,
          115,
          121,
          119,
          104,
          107,
          165,
          144,
          104,
          128,
          99,
          123,
          110,
          112,
          0,
          0,
          0,
          0,
          93,
          81,
          107,
          103,
          149,
          107,
          114,
          112,
          119,
          103,
          126,
          107,
          112,
          100,
          112,
          112,
          90,
          108,
          99,
          144,
          128,
          110,
          157,
          120,
          113,
          94,
          96,
          123,
          123,
          96,
          127,
          163,
          106,
          117,
          122,
          131,
          136,
          90,
          128,
          105,
          0,
          0,
          98,
          123,
          89,
          131,
          125,
          141,
          153,
          126,
          66,
          139,
          101,
          95,
          106,
          101,
          110,
          118,
          141,
          98,
          147,
          109,
          129,
          127,
          127,
          131,
          108,
          90,
          143,
          105,
          111,
          138,
          143,
          111,
          139,
          123,
          116,
          114,
          134,
          114,
          114,
          0,
          141,
          134,
          126,
          114,
          119,
          116,
          140,
          0,
          113,
          108,
          85,
          129,
          132,
          118,
          129,
          125,
          75,
          118,
          126,
          104,
          135,
          112,
          110,
          111,
          108,
          98,
          122,
          128,
          154,
          134,
          140,
          142,
          134,
          111,
          156,
          149,
          104,
          127,
          129,
          108,
          87,
          127,
          127,
          82,
          100,
          94,
          88,
          88,
          114,
          128,
          101,
          128,
          140,
          106,
          117,
          136,
          106,
          108,
          96,
          135,
          124,
          125,
          0,
          121,
          0,
          0,
          145,
          104,
          134,
          108,
          149,
          121,
          102,
          143,
          109,
          112,
          94,
          127,
          118,
          113,
          121,
          109,
          131,
          120,
          130,
          112,
          117,
          130,
          122,
          117,
          133,
          124,
          137,
          101,
          129,
          123,
          134,
          138,
          84,
          84,
          165,
          138,
          127,
          137,
          136,
          139,
          110,
          119,
          118,
          136,
          141,
          126,
          146,
          133,
          170,
          134,
          133,
          133,
          133,
          128,
          154,
          114,
          120,
          90,
          128,
          125,
          101,
          98,
          113,
          113,
          125,
          116,
          116,
          147,
          150,
          125,
          126,
          135,
          0,
          0,
          0,
          150,
          140,
          0,
          174,
          125,
          0,
          0,
          121,
          127,
          102,
          108,
          157,
          96,
          126,
          116,
          135,
          140,
          95,
          135,
          122,
          153,
          120,
          115,
          132,
          106,
          102,
          112,
          117,
          82,
          153,
          145,
          128,
          157,
          141,
          102,
          124,
          0,
          127,
          97,
          100,
          150,
          126,
          117,
          127,
          110,
          130,
          123,
          117,
          116,
          118,
          104,
          135,
          126,
          127,
          114,
          73,
          123,
          124,
          144,
          97,
          0,
          140,
          141,
          161,
          117,
          86,
          77,
          137,
          99,
          98,
          106,
          172,
          0,
          102,
          123,
          112,
          126,
          147,
          93,
          114,
          121,
          118,
          125,
          126,
          122,
          141,
          104,
          0,
          0,
          75,
          116,
          91,
          125,
          109,
          133,
          127,
          136,
          98,
          89,
          93,
          98,
          148,
          131,
          101,
          101,
          99,
          121,
          112,
          143,
          0,
          142,
          118,
          103,
          104,
          119,
          131,
          119,
          113,
          73,
          0,
          0,
          0,
          0,
          0,
          0,
          0,
          0,
          127,
          138,
          97,
          98,
          107,
          146,
          119,
          111,
          0,
          89,
          142,
          96,
          139,
          90,
          109,
          95,
          88,
          122,
          93,
          87,
          122,
          0,
          103,
          119,
          141,
          89,
          91,
          158,
          128,
          157,
          103,
          119,
          105,
          123,
          131,
          124,
          82,
          126,
          116,
          135,
          85,
          0,
          142,
          0,
          106,
          83,
          117,
          113,
          88,
          135,
          102,
          123,
          120,
          103,
          107,
          145,
          122,
          118,
          126,
          109,
          111,
          84,
          111,
          0,
          125,
          124,
          91,
          110,
          113,
          107,
          83,
          80,
          114,
          108,
          145,
          144,
          138,
          105,
          145,
          125,
          109,
          110,
          94,
          103,
          149,
          104,
          124,
          174,
          124,
          140,
          108,
          104,
          95,
          132,
          117,
          136,
          130,
          117,
          60,
          138,
          102,
          0,
          111,
          112,
          121,
          121,
          111,
          118,
          146,
          111,
          0,
          108,
          110,
          142,
          127,
          136,
          135,
          0,
          123,
          108,
          134,
          138,
          0,
          141,
          156,
          0,
          129,
          103,
          122,
          123,
          136,
          104,
          129,
          105,
          94,
          135,
          0,
          118,
          139,
          127,
          117,
          87,
          81,
          103,
          139,
          143,
          122,
          140,
          102,
          0,
          124,
          129,
          117,
          114,
          113,
          0,
          102,
          133,
          102,
          119,
          125,
          118,
          117,
          105,
          120,
          77,
          136,
          115,
          112,
          122,
          130,
          116,
          99,
          157,
          133,
          140,
          124,
          94,
          129,
          127,
          133,
          119,
          0,
          134,
          117,
          127,
          0,
          118,
          121,
          124,
          101,
          134,
          113,
          0,
          131,
          114,
          142,
          113,
          95,
          106,
          135,
          140,
          105,
          142,
          121,
          136,
          0,
          0,
          126,
          123,
          125,
          155,
          110,
          117,
          94,
          111,
          152,
          121,
          142,
          103,
          91,
          124,
          127,
          112,
          146,
          142,
          119,
          122,
          125,
          162,
          125,
          130,
          117,
          119,
          111,
          179,
          110,
          132,
          93,
          123,
          125,
          87,
          103,
          103,
          126,
          101,
          134,
          95,
          117,
          101,
          105,
          76,
          97,
          98,
          99,
          138,
          94,
          79,
          102,
          105,
          147,
          123,
          116,
          123,
          130,
          109,
          113,
          141,
          110,
          123,
          141,
          132,
          99,
          115,
          128,
          104,
          113,
          125,
          167,
          132,
          158,
          82,
          130,
          124,
          98,
          119,
          128,
          116,
          127,
          89,
          110,
          101,
          115,
          132,
          136,
          127,
          116,
          124,
          115,
          106,
          115,
          115,
          105,
          158,
          107,
          143,
          120,
          102,
          103,
          68,
          115,
          109,
          106,
          137,
          124,
          107,
          133,
          122,
          127,
          66,
          117,
          110,
          119,
          122,
          0,
          0,
          0,
          0,
          0,
          0,
          0,
          0,
          0,
          0,
          0,
          0,
          0,
          0,
          0,
          0,
          0,
          97,
          0,
          99,
          126,
          104,
          131,
          108,
          123,
          96,
          117,
          131,
          120,
          115,
          105,
          117,
          120,
          99,
          0,
          119,
          0,
          90,
          116,
          121,
          0,
          115,
          0,
          0,
          0,
          0,
          0,
          0,
          89,
          138,
          123,
          104,
          135,
          85,
          139,
          114,
          106,
          106,
          118,
          137,
          172,
          99,
          113,
          100,
          127,
          120,
          114,
          99,
          122,
          116,
          118,
          141,
          96,
          107,
          120,
          90,
          106,
          0,
          106,
          142,
          120,
          116,
          114,
          106,
          122,
          132,
          0,
          147,
          108,
          110,
          114,
          104,
          126,
          99,
          99,
          117,
          156,
          97,
          106,
          87,
          114,
          152,
          126,
          114,
          0,
          97,
          131,
          136,
          126,
          131,
          118,
          83,
          97,
          117,
          95,
          0,
          129,
          119,
          113,
          104,
          125,
          99,
          123,
          112,
          111,
          126,
          104,
          129,
          112,
          111,
          104,
          125,
          143,
          91,
          124,
          76,
          156,
          122,
          120,
          101,
          127,
          136,
          106,
          109,
          101,
          120,
          115,
          120,
          120,
          84,
          95,
          105,
          117,
          132,
          133,
          0,
          105,
          120,
          142,
          136,
          141,
          0,
          0,
          0,
          0,
          0,
          0,
          0,
          0,
          0,
          0,
          0,
          0,
          0,
          0,
          0,
          0,
          0,
          0,
          0,
          0,
          100,
          104,
          0,
          0,
          0,
          0,
          0,
          0,
          109,
          107,
          117,
          104,
          97,
          0,
          0,
          105,
          85,
          128,
          0,
          0,
          0,
          0,
          0,
          0,
          0,
          0,
          114,
          120,
          0,
          121,
          98,
          131,
          0,
          103,
          139,
          109,
          147,
          118,
          109,
          94,
          117,
          142,
          123,
          129,
          148,
          123,
          146,
          130,
          118,
          116,
          157,
          114,
          97,
          117,
          116,
          102,
          119,
          151,
          0,
          0,
          0,
          0,
          0,
          119,
          118,
          108,
          93,
          129,
          85,
          99,
          109,
          108,
          143,
          0,
          95,
          158,
          118,
          111,
          75,
          128,
          128,
          129,
          0,
          119,
          0,
          0,
          111,
          0,
          0,
          0,
          0,
          0,
          109,
          102,
          114,
          76,
          107,
          112,
          90,
          94,
          111,
          0,
          113,
          0,
          0,
          0,
          0,
          0,
          81,
          131,
          103,
          153,
          124,
          97,
          113,
          0,
          92,
          134,
          113,
          129,
          132,
          0,
          129,
          136,
          135,
          106,
          110,
          137,
          127,
          0,
          110,
          122,
          0,
          89,
          130,
          167,
          120,
          101,
          120,
          154,
          93,
          126,
          0,
          104,
          121,
          110,
          132,
          0,
          0,
          0,
          103,
          90,
          103,
          0,
          0,
          0,
          0,
          0,
          0,
          0,
          0,
          0,
          0,
          0,
          0,
          0,
          105,
          117,
          99,
          125,
          114,
          118,
          80,
          134,
          141,
          105,
          94,
          83,
          129,
          125,
          99,
          101,
          128,
          0,
          119,
          130,
          135,
          154,
          149,
          114,
          88,
          133,
          125,
          116,
          77,
          129,
          206,
          115,
          72,
          119,
          121,
          148,
          109,
          109,
          117,
          108,
          78,
          112,
          104,
          95,
          136,
          121,
          133,
          119,
          103,
          138,
          107,
          123,
          101,
          107,
          87,
          83,
          126,
          110,
          132,
          121,
          72,
          93,
          92,
          76,
          123,
          138,
          94,
          115,
          117,
          153,
          54,
          69,
          117,
          97,
          111,
          101,
          128,
          155,
          140,
          112,
          130,
          139,
          156,
          169,
          116,
          143,
          113,
          117,
          106,
          124,
          104,
          108,
          153,
          118,
          167,
          115,
          129,
          95,
          162,
          83,
          86,
          92,
          124,
          139,
          144,
          132,
          117,
          96,
          136,
          79,
          110,
          121,
          89,
          108,
          149,
          109,
          109,
          147,
          99,
          104,
          75,
          98,
          97,
          154,
          103,
          104,
          95,
          128,
          123,
          110,
          88,
          122,
          138,
          122,
          122,
          131,
          110,
          84,
          108,
          138,
          111,
          101,
          130,
          111,
          124,
          120,
          140,
          106,
          107,
          114,
          117,
          124,
          131,
          105,
          120,
          118,
          133,
          123,
          123,
          104,
          112,
          142,
          115,
          107,
          79,
          126,
          109,
          108,
          144,
          115,
          131,
          129,
          130,
          136,
          104,
          138,
          153,
          123,
          112,
          104,
          121,
          134,
          74,
          155,
          115,
          127,
          108,
          123,
          127,
          100,
          109,
          113,
          91,
          88,
          117,
          97,
          75,
          147,
          90,
          107,
          118,
          108,
          119,
          104,
          108,
          106,
          89,
          119,
          94,
          137,
          110,
          85,
          117,
          111,
          136,
          125,
          93,
          130,
          122,
          123,
          165,
          132,
          128,
          108,
          86,
          115,
          104,
          132,
          147,
          98,
          138,
          94,
          130,
          112,
          124,
          151,
          139,
          115,
          141,
          154,
          74,
          107,
          159,
          99,
          131,
          126,
          139,
          136,
          114,
          146,
          106,
          135,
          139,
          111,
          140,
          101,
          148,
          119,
          137,
          71,
          118,
          160,
          114,
          89,
          135,
          103,
          138,
          119,
          117,
          109,
          106,
          78,
          119,
          182,
          144,
          109,
          111,
          130,
          97,
          128,
          126,
          104,
          108,
          135,
          140,
          134,
          144,
          100,
          117,
          152,
          142,
          104,
          144,
          95,
          93,
          118,
          106,
          106,
          116,
          110,
          126,
          76,
          133,
          87,
          124,
          166,
          103,
          111,
          154,
          129,
          104,
          116,
          150
         ],
         "xaxis": "x",
         "xbingroup": "x",
         "y": [
          112,
          97,
          112,
          95,
          112,
          108,
          92,
          101,
          112,
          92,
          106,
          114,
          111,
          101,
          93,
          107,
          109,
          115,
          99,
          98,
          109,
          100,
          124,
          101,
          106,
          92,
          92,
          85,
          126,
          106,
          82,
          108,
          108,
          104,
          102,
          107,
          96,
          108,
          130,
          95,
          0,
          0,
          0,
          104,
          107,
          109,
          105,
          96,
          119,
          120,
          113,
          95,
          115,
          127,
          85,
          99,
          106,
          101,
          99,
          104,
          84,
          97,
          92,
          110,
          109,
          117,
          93,
          118,
          115,
          112,
          125,
          111,
          118,
          121,
          103,
          117,
          95,
          101,
          120,
          101,
          102,
          103,
          105,
          109,
          103,
          83,
          95,
          73,
          96,
          100,
          92,
          110,
          91,
          103,
          88,
          96,
          125,
          78,
          101,
          110,
          125,
          124,
          88,
          84,
          93,
          112,
          115,
          105,
          95,
          111,
          112,
          95,
          102,
          89,
          102,
          102,
          73,
          116,
          100,
          126,
          100,
          112,
          117,
          0,
          0,
          117,
          117,
          100,
          92,
          119,
          96,
          98,
          108,
          94,
          124,
          116,
          107,
          127,
          96,
          114,
          98,
          110,
          89,
          110,
          93,
          120,
          93,
          116,
          138,
          112,
          97,
          105,
          136,
          87,
          127,
          120,
          99,
          93,
          104,
          97,
          131,
          111,
          92,
          104,
          99,
          110,
          128,
          105,
          103,
          69,
          112,
          106,
          95,
          118,
          93,
          99,
          101,
          104,
          127,
          114,
          106,
          122,
          120,
          105,
          102,
          113,
          86,
          104,
          98,
          96,
          106,
          92,
          80,
          106,
          102,
          103,
          125,
          129,
          99,
          103,
          107,
          98,
          69,
          107,
          100,
          110,
          81,
          94,
          108,
          113,
          100,
          101,
          116,
          110,
          98,
          95,
          112,
          115,
          115,
          102,
          106,
          109,
          100,
          82,
          109,
          112,
          119,
          110,
          103,
          85,
          106,
          115,
          95,
          109,
          112,
          108,
          100,
          93,
          109,
          115,
          129,
          114,
          0,
          108,
          0,
          0,
          104,
          90,
          102,
          105,
          92,
          96,
          105,
          90,
          83,
          121,
          112,
          99,
          109,
          104,
          116,
          100,
          103,
          105,
          76,
          111,
          110,
          87,
          96,
          117,
          101,
          99,
          82,
          108,
          110,
          91,
          106,
          103,
          90,
          113,
          114,
          104,
          109,
          111,
          112,
          89,
          105,
          117,
          0,
          129,
          0,
          105,
          88,
          104,
          89,
          97,
          101,
          114,
          107,
          92,
          90,
          100,
          95,
          113,
          103,
          93,
          102,
          94,
          90,
          0,
          97,
          70,
          111,
          101,
          82,
          114,
          102,
          110,
          109,
          0,
          88,
          104,
          103,
          107,
          83,
          88,
          106,
          104,
          110,
          113,
          99,
          101,
          97,
          102,
          88,
          121,
          113,
          99,
          118,
          91,
          114,
          96,
          104,
          135,
          0,
          0,
          0,
          0,
          0,
          108,
          116,
          101,
          99,
          107,
          101,
          114,
          89,
          83,
          109,
          111,
          95,
          110,
          83,
          95,
          86,
          116,
          103,
          97,
          92,
          123,
          103,
          86,
          0,
          92,
          110,
          108,
          105,
          117,
          113,
          132,
          97,
          100,
          103,
          89,
          120,
          107,
          100,
          101,
          116,
          119,
          105,
          95,
          108,
          118,
          102,
          113,
          93,
          92,
          112,
          117,
          110,
          96,
          113,
          108,
          113,
          96,
          102,
          86,
          101,
          0,
          92,
          94,
          108,
          93,
          92,
          108,
          109,
          104,
          108,
          108,
          92,
          104,
          107,
          107,
          76,
          92,
          91,
          70,
          84,
          82,
          95,
          106,
          85,
          114,
          80,
          97,
          106,
          94,
          94,
          98,
          127,
          90,
          91,
          87,
          88,
          90,
          101,
          85,
          113,
          112,
          102,
          107,
          119,
          112,
          97,
          101,
          97,
          110,
          122,
          106,
          97,
          81,
          115,
          91,
          96,
          112,
          91,
          102,
          105,
          85,
          123,
          97,
          88,
          111,
          121,
          94,
          93,
          99,
          99,
          101,
          107,
          102,
          80,
          74,
          123,
          122,
          96,
          92,
          120,
          83,
          116,
          0,
          103,
          100,
          93,
          103,
          98,
          93,
          90,
          102,
          109,
          110,
          114,
          119,
          102,
          105,
          102,
          108,
          114,
          99,
          106,
          91,
          111,
          101,
          106,
          89,
          107,
          111,
          92,
          111,
          96,
          107,
          94,
          82,
          82,
          110,
          91,
          111,
          104,
          110,
          115,
          106,
          91,
          121,
          96,
          97,
          105,
          101,
          98,
          65,
          105,
          94,
          99,
          108,
          123,
          115,
          109,
          116,
          109,
          106,
          101,
          119,
          83,
          99,
          92,
          0,
          0,
          107,
          97,
          109,
          93,
          85,
          99,
          110,
          109,
          95,
          101,
          93,
          118,
          109,
          0,
          0,
          0,
          0,
          101,
          92,
          82,
          83,
          100,
          101,
          98,
          109,
          117,
          113,
          88,
          94,
          116,
          103,
          118,
          100,
          115,
          98,
          88,
          97,
          91,
          88,
          113,
          92,
          86,
          110,
          102,
          94,
          101,
          113,
          88,
          82,
          108,
          121,
          113,
          91,
          104,
          81,
          100,
          119,
          0,
          0,
          98,
          105,
          97,
          103,
          103,
          100,
          110,
          118,
          79,
          112,
          92,
          98,
          102,
          102,
          107,
          94,
          112,
          90,
          120,
          132,
          103,
          123,
          107,
          94,
          91,
          105,
          100,
          108,
          115,
          101,
          122,
          117,
          108,
          93,
          93,
          104,
          108,
          83,
          96,
          0,
          90,
          106,
          95,
          91,
          84,
          115,
          85,
          0,
          91,
          100,
          92,
          120,
          115,
          90,
          88,
          97,
          97,
          112,
          101,
          97,
          105,
          110,
          88,
          95,
          96,
          114,
          98,
          91,
          106,
          86,
          101,
          85,
          119,
          84,
          92,
          114,
          106,
          88,
          99,
          93,
          106,
          112,
          85,
          75,
          101,
          75,
          114,
          115,
          94,
          125,
          105,
          98,
          95,
          113,
          97,
          130,
          108,
          84,
          93,
          105,
          84,
          81,
          0,
          96,
          0,
          0,
          107,
          114,
          122,
          101,
          78,
          98,
          109,
          119,
          115,
          106,
          94,
          101,
          122,
          98,
          99,
          103,
          114,
          101,
          105,
          108,
          76,
          105,
          95,
          102,
          106,
          86,
          111,
          108,
          117,
          100,
          112,
          94,
          104,
          94,
          94,
          118,
          80,
          93,
          125,
          102,
          90,
          94,
          124,
          94,
          102,
          115,
          104,
          108,
          112,
          103,
          91,
          68,
          99,
          125,
          119,
          101,
          95,
          75,
          112,
          102,
          107,
          87,
          105,
          105,
          87,
          105,
          106,
          95,
          74,
          102,
          103,
          102,
          0,
          0,
          0,
          102,
          85,
          0,
          113,
          97,
          0,
          0,
          101,
          118,
          107,
          109,
          110,
          108,
          123,
          107,
          112,
          96,
          100,
          98,
          98,
          100,
          83,
          90,
          108,
          115,
          114,
          74,
          99,
          96,
          108,
          103,
          96,
          107,
          118,
          104,
          106,
          0,
          111,
          126,
          101,
          112,
          99,
          118,
          116,
          122,
          87,
          104,
          128,
          94,
          106,
          111,
          132,
          89,
          95,
          108,
          116,
          97,
          112,
          113,
          80,
          0,
          97,
          93,
          128,
          117,
          114,
          97,
          100,
          100,
          114,
          114,
          97,
          0,
          100,
          123,
          102,
          102,
          87,
          88,
          99,
          95,
          105,
          112,
          103,
          123,
          104,
          107,
          0,
          0,
          117,
          97,
          113,
          116,
          103,
          120,
          121,
          100,
          113,
          103,
          103,
          118,
          84,
          92,
          112,
          115,
          96,
          96,
          95,
          118,
          0,
          134,
          94,
          140,
          97,
          108,
          106,
          121,
          96,
          107,
          0,
          0,
          0,
          0,
          0,
          0,
          0,
          0,
          120,
          116,
          112,
          111,
          97,
          79,
          102,
          102,
          0,
          86,
          109,
          93,
          103,
          111,
          106,
          98,
          120,
          92,
          81,
          92,
          90,
          0,
          101,
          80,
          132,
          116,
          93,
          95,
          121,
          105,
          119,
          104,
          109,
          86,
          100,
          99,
          95,
          93,
          95,
          108,
          105,
          0,
          106,
          0,
          96,
          72,
          102,
          88,
          83,
          105,
          109,
          121,
          92,
          99,
          110,
          116,
          100,
          113,
          119,
          96,
          93,
          97,
          114,
          0,
          104,
          74,
          84,
          109,
          79,
          99,
          90,
          117,
          108,
          90,
          82,
          112,
          122,
          99,
          87,
          113,
          110,
          89,
          136,
          88,
          114,
          102,
          112,
          111,
          112,
          110,
          98,
          116,
          104,
          99,
          91,
          117,
          100,
          97,
          96,
          107,
          112,
          0,
          104,
          75,
          104,
          107,
          113,
          116,
          99,
          115,
          0,
          108,
          134,
          98,
          119,
          110,
          102,
          0,
          83,
          91,
          113,
          90,
          0,
          117,
          94,
          0,
          90,
          100,
          103,
          127,
          124,
          96,
          107,
          90,
          99,
          117,
          0,
          91,
          120,
          94,
          110,
          122,
          116,
          118,
          119,
          101,
          90,
          104,
          87,
          0,
          113,
          105,
          113,
          91,
          106,
          0,
          117,
          123,
          85,
          118,
          95,
          124,
          98,
          101,
          115,
          121,
          102,
          111,
          122,
          111,
          119,
          84,
          107,
          98,
          114,
          118,
          120,
          115,
          109,
          116,
          118,
          98,
          0,
          105,
          108,
          126,
          0,
          106,
          113,
          103,
          121,
          95,
          83,
          0,
          127,
          137,
          109,
          137,
          113,
          103,
          110,
          118,
          98,
          93,
          115,
          114,
          0,
          0,
          94,
          106,
          116,
          118,
          107,
          128,
          111,
          121,
          117,
          115,
          117,
          122,
          105,
          101,
          106,
          105,
          96,
          109,
          93,
          91,
          79,
          115,
          124,
          97,
          92,
          110,
          98,
          115,
          103,
          110,
          105,
          116,
          116,
          112,
          111,
          104,
          103,
          100,
          103,
          126,
          133,
          99,
          106,
          106,
          140,
          120,
          100,
          105,
          120,
          87,
          112,
          115,
          129,
          114,
          96,
          121,
          110,
          87,
          113,
          119,
          113,
          131,
          95,
          111,
          110,
          120,
          85,
          106,
          106,
          114,
          138,
          91,
          118,
          112,
          113,
          108,
          96,
          110,
          119,
          117,
          114,
          103,
          114,
          115,
          125,
          103,
          101,
          102,
          114,
          106,
          105,
          122,
          110,
          86,
          105,
          110,
          126,
          99,
          106,
          78,
          113,
          111,
          94,
          102,
          94,
          109,
          125,
          90,
          106,
          132,
          93,
          118,
          109,
          95,
          109,
          89,
          0,
          0,
          0,
          0,
          0,
          0,
          0,
          0,
          0,
          0,
          0,
          0,
          0,
          0,
          0,
          0,
          0,
          106,
          0,
          133,
          121,
          135,
          101,
          101,
          110,
          102,
          109,
          129,
          124,
          111,
          114,
          118,
          103,
          108,
          0,
          128,
          0,
          109,
          97,
          102,
          0,
          123,
          0,
          0,
          0,
          0,
          0,
          0,
          113,
          95,
          105,
          92,
          88,
          89,
          105,
          93,
          112,
          116,
          93,
          109,
          101,
          108,
          122,
          111,
          115,
          111,
          94,
          103,
          104,
          104,
          108,
          124,
          91,
          113,
          88,
          114,
          114,
          0,
          110,
          115,
          97,
          102,
          109,
          104,
          86,
          105,
          0,
          102,
          119,
          109,
          141,
          90,
          107,
          110,
          124,
          106,
          107,
          117,
          113,
          102,
          115,
          108,
          112,
          104,
          0,
          114,
          101,
          110,
          90,
          105,
          105,
          98,
          109,
          100,
          102,
          0,
          118,
          141,
          133,
          115,
          118,
          80,
          111,
          106,
          100,
          93,
          92,
          123,
          120,
          98,
          100,
          106,
          99,
          116,
          109,
          79,
          107,
          111,
          116,
          105,
          104,
          97,
          110,
          93,
          103,
          103,
          121,
          104,
          121,
          96,
          111,
          123,
          83,
          78,
          120,
          0,
          104,
          98,
          116,
          103,
          115,
          0,
          0,
          0,
          0,
          0,
          0,
          0,
          0,
          0,
          0,
          0,
          0,
          0,
          0,
          0,
          0,
          0,
          0,
          0,
          0,
          107,
          118,
          0,
          0,
          0,
          0,
          0,
          0,
          117,
          97,
          105,
          115,
          116,
          0,
          0,
          108,
          79,
          110,
          0,
          0,
          0,
          0,
          0,
          0,
          0,
          0,
          126,
          119,
          0,
          108,
          117,
          105,
          0,
          125,
          110,
          97,
          94,
          96,
          102,
          99,
          109,
          101,
          130,
          112,
          120,
          98,
          89,
          100,
          120,
          100,
          132,
          127,
          138,
          98,
          110,
          101,
          111,
          93,
          0,
          0,
          0,
          0,
          0,
          103,
          133,
          107,
          117,
          110,
          105,
          113,
          111,
          139,
          116,
          0,
          117,
          115,
          134,
          115,
          123,
          124,
          132,
          121,
          0,
          124,
          0,
          0,
          115,
          0,
          0,
          0,
          0,
          0,
          111,
          98,
          102,
          110,
          102,
          113,
          104,
          134,
          117,
          0,
          110,
          0,
          0,
          0,
          0,
          0,
          86,
          122,
          113,
          114,
          129,
          109,
          113,
          0,
          122,
          121,
          109,
          104,
          115,
          0,
          126,
          129,
          135,
          109,
          118,
          116,
          105,
          0,
          109,
          130,
          0,
          102,
          115,
          133,
          120,
          108,
          112,
          132,
          102,
          118,
          0,
          115,
          112,
          128,
          118,
          0,
          0,
          0,
          102,
          110,
          109,
          0,
          0,
          0,
          0,
          0,
          0,
          0,
          0,
          0,
          0,
          0,
          0,
          0,
          127,
          109,
          103,
          111,
          123,
          121,
          107,
          110,
          122,
          92,
          114,
          102,
          111,
          111,
          107,
          134,
          116,
          0,
          98,
          109,
          100,
          104,
          99,
          112,
          106,
          150,
          107,
          128,
          101,
          100,
          91,
          105,
          95,
          104,
          122,
          126,
          113,
          141,
          111,
          86,
          84,
          103,
          103,
          104,
          93,
          110,
          111,
          96,
          91,
          105,
          114,
          98,
          93,
          84,
          89,
          92,
          99,
          95,
          111,
          86,
          107,
          119,
          88,
          101,
          94,
          93,
          116,
          108,
          101,
          99,
          88,
          102,
          93,
          86,
          116,
          82,
          117,
          106,
          93,
          73,
          87,
          80,
          90,
          100,
          92,
          117,
          113,
          105,
          113,
          108,
          120,
          84,
          114,
          110,
          90,
          109,
          98,
          103,
          107,
          99,
          132,
          92,
          96,
          91,
          108,
          103,
          107,
          98,
          107,
          113,
          93,
          101,
          120,
          87,
          101,
          96,
          84,
          101,
          101,
          108,
          104,
          131,
          115,
          73,
          108,
          81,
          101,
          104,
          90,
          82,
          107,
          95,
          92,
          104,
          89,
          120,
          109,
          99,
          97,
          92,
          102,
          112,
          111,
          102,
          110,
          110,
          99,
          98,
          101,
          86,
          105,
          83,
          106,
          77,
          107,
          106,
          111,
          119,
          126,
          91,
          105,
          86,
          106,
          91,
          122,
          97,
          117,
          105,
          95,
          102,
          100,
          94,
          101,
          107,
          101,
          123,
          112,
          116,
          114,
          99,
          100,
          102,
          116,
          108,
          116,
          104,
          120,
          127,
          115,
          106,
          103,
          91,
          92,
          106,
          101,
          114,
          88,
          102,
          91,
          98,
          95,
          105,
          86,
          117,
          92,
          89,
          116,
          112,
          104,
          114,
          95,
          108,
          110,
          93,
          99,
          110,
          106,
          86,
          86,
          116,
          121,
          80,
          93,
          112,
          106,
          92,
          119,
          89,
          100,
          92,
          117,
          102,
          114,
          97,
          105,
          97,
          100,
          114,
          111,
          77,
          124,
          109,
          97,
          108,
          117,
          118,
          117,
          124,
          107,
          102,
          103,
          107,
          107,
          127,
          108,
          108,
          121,
          108,
          97,
          115,
          114,
          89,
          106,
          102,
          109,
          87,
          125,
          130,
          114,
          126,
          99,
          87,
          101,
          117,
          109,
          116,
          101,
          106,
          100,
          89,
          121,
          105,
          110,
          124,
          107,
          103,
          124,
          117,
          105,
          115,
          99,
          106,
          114,
          101,
          103,
          117,
          122,
          103,
          106,
          102,
          99,
          115,
          91,
          113,
          123,
          99,
          106,
          115,
          103,
          137,
          99,
          128,
          123
         ],
         "yaxis": "y",
         "ybingroup": "y"
        }
       ],
       "layout": {
        "coloraxis": {
         "colorbar": {
          "title": {
           "text": "count"
          }
         },
         "colorscale": [
          [
           0,
           "#440154"
          ],
          [
           0.1111111111111111,
           "#482878"
          ],
          [
           0.2222222222222222,
           "#3e4989"
          ],
          [
           0.3333333333333333,
           "#31688e"
          ],
          [
           0.4444444444444444,
           "#26828e"
          ],
          [
           0.5555555555555556,
           "#1f9e89"
          ],
          [
           0.6666666666666666,
           "#35b779"
          ],
          [
           0.7777777777777778,
           "#6ece58"
          ],
          [
           0.8888888888888888,
           "#b5de2b"
          ],
          [
           1,
           "#fde725"
          ]
         ]
        },
        "legend": {
         "tracegroupgap": 0
        },
        "margin": {
         "t": 60
        },
        "template": {
         "data": {
          "bar": [
           {
            "error_x": {
             "color": "#2a3f5f"
            },
            "error_y": {
             "color": "#2a3f5f"
            },
            "marker": {
             "line": {
              "color": "#E5ECF6",
              "width": 0.5
             },
             "pattern": {
              "fillmode": "overlay",
              "size": 10,
              "solidity": 0.2
             }
            },
            "type": "bar"
           }
          ],
          "barpolar": [
           {
            "marker": {
             "line": {
              "color": "#E5ECF6",
              "width": 0.5
             },
             "pattern": {
              "fillmode": "overlay",
              "size": 10,
              "solidity": 0.2
             }
            },
            "type": "barpolar"
           }
          ],
          "carpet": [
           {
            "aaxis": {
             "endlinecolor": "#2a3f5f",
             "gridcolor": "white",
             "linecolor": "white",
             "minorgridcolor": "white",
             "startlinecolor": "#2a3f5f"
            },
            "baxis": {
             "endlinecolor": "#2a3f5f",
             "gridcolor": "white",
             "linecolor": "white",
             "minorgridcolor": "white",
             "startlinecolor": "#2a3f5f"
            },
            "type": "carpet"
           }
          ],
          "choropleth": [
           {
            "colorbar": {
             "outlinewidth": 0,
             "ticks": ""
            },
            "type": "choropleth"
           }
          ],
          "contour": [
           {
            "colorbar": {
             "outlinewidth": 0,
             "ticks": ""
            },
            "colorscale": [
             [
              0,
              "#0d0887"
             ],
             [
              0.1111111111111111,
              "#46039f"
             ],
             [
              0.2222222222222222,
              "#7201a8"
             ],
             [
              0.3333333333333333,
              "#9c179e"
             ],
             [
              0.4444444444444444,
              "#bd3786"
             ],
             [
              0.5555555555555556,
              "#d8576b"
             ],
             [
              0.6666666666666666,
              "#ed7953"
             ],
             [
              0.7777777777777778,
              "#fb9f3a"
             ],
             [
              0.8888888888888888,
              "#fdca26"
             ],
             [
              1,
              "#f0f921"
             ]
            ],
            "type": "contour"
           }
          ],
          "contourcarpet": [
           {
            "colorbar": {
             "outlinewidth": 0,
             "ticks": ""
            },
            "type": "contourcarpet"
           }
          ],
          "heatmap": [
           {
            "colorbar": {
             "outlinewidth": 0,
             "ticks": ""
            },
            "colorscale": [
             [
              0,
              "#0d0887"
             ],
             [
              0.1111111111111111,
              "#46039f"
             ],
             [
              0.2222222222222222,
              "#7201a8"
             ],
             [
              0.3333333333333333,
              "#9c179e"
             ],
             [
              0.4444444444444444,
              "#bd3786"
             ],
             [
              0.5555555555555556,
              "#d8576b"
             ],
             [
              0.6666666666666666,
              "#ed7953"
             ],
             [
              0.7777777777777778,
              "#fb9f3a"
             ],
             [
              0.8888888888888888,
              "#fdca26"
             ],
             [
              1,
              "#f0f921"
             ]
            ],
            "type": "heatmap"
           }
          ],
          "heatmapgl": [
           {
            "colorbar": {
             "outlinewidth": 0,
             "ticks": ""
            },
            "colorscale": [
             [
              0,
              "#0d0887"
             ],
             [
              0.1111111111111111,
              "#46039f"
             ],
             [
              0.2222222222222222,
              "#7201a8"
             ],
             [
              0.3333333333333333,
              "#9c179e"
             ],
             [
              0.4444444444444444,
              "#bd3786"
             ],
             [
              0.5555555555555556,
              "#d8576b"
             ],
             [
              0.6666666666666666,
              "#ed7953"
             ],
             [
              0.7777777777777778,
              "#fb9f3a"
             ],
             [
              0.8888888888888888,
              "#fdca26"
             ],
             [
              1,
              "#f0f921"
             ]
            ],
            "type": "heatmapgl"
           }
          ],
          "histogram": [
           {
            "marker": {
             "pattern": {
              "fillmode": "overlay",
              "size": 10,
              "solidity": 0.2
             }
            },
            "type": "histogram"
           }
          ],
          "histogram2d": [
           {
            "colorbar": {
             "outlinewidth": 0,
             "ticks": ""
            },
            "colorscale": [
             [
              0,
              "#0d0887"
             ],
             [
              0.1111111111111111,
              "#46039f"
             ],
             [
              0.2222222222222222,
              "#7201a8"
             ],
             [
              0.3333333333333333,
              "#9c179e"
             ],
             [
              0.4444444444444444,
              "#bd3786"
             ],
             [
              0.5555555555555556,
              "#d8576b"
             ],
             [
              0.6666666666666666,
              "#ed7953"
             ],
             [
              0.7777777777777778,
              "#fb9f3a"
             ],
             [
              0.8888888888888888,
              "#fdca26"
             ],
             [
              1,
              "#f0f921"
             ]
            ],
            "type": "histogram2d"
           }
          ],
          "histogram2dcontour": [
           {
            "colorbar": {
             "outlinewidth": 0,
             "ticks": ""
            },
            "colorscale": [
             [
              0,
              "#0d0887"
             ],
             [
              0.1111111111111111,
              "#46039f"
             ],
             [
              0.2222222222222222,
              "#7201a8"
             ],
             [
              0.3333333333333333,
              "#9c179e"
             ],
             [
              0.4444444444444444,
              "#bd3786"
             ],
             [
              0.5555555555555556,
              "#d8576b"
             ],
             [
              0.6666666666666666,
              "#ed7953"
             ],
             [
              0.7777777777777778,
              "#fb9f3a"
             ],
             [
              0.8888888888888888,
              "#fdca26"
             ],
             [
              1,
              "#f0f921"
             ]
            ],
            "type": "histogram2dcontour"
           }
          ],
          "mesh3d": [
           {
            "colorbar": {
             "outlinewidth": 0,
             "ticks": ""
            },
            "type": "mesh3d"
           }
          ],
          "parcoords": [
           {
            "line": {
             "colorbar": {
              "outlinewidth": 0,
              "ticks": ""
             }
            },
            "type": "parcoords"
           }
          ],
          "pie": [
           {
            "automargin": true,
            "type": "pie"
           }
          ],
          "scatter": [
           {
            "fillpattern": {
             "fillmode": "overlay",
             "size": 10,
             "solidity": 0.2
            },
            "type": "scatter"
           }
          ],
          "scatter3d": [
           {
            "line": {
             "colorbar": {
              "outlinewidth": 0,
              "ticks": ""
             }
            },
            "marker": {
             "colorbar": {
              "outlinewidth": 0,
              "ticks": ""
             }
            },
            "type": "scatter3d"
           }
          ],
          "scattercarpet": [
           {
            "marker": {
             "colorbar": {
              "outlinewidth": 0,
              "ticks": ""
             }
            },
            "type": "scattercarpet"
           }
          ],
          "scattergeo": [
           {
            "marker": {
             "colorbar": {
              "outlinewidth": 0,
              "ticks": ""
             }
            },
            "type": "scattergeo"
           }
          ],
          "scattergl": [
           {
            "marker": {
             "colorbar": {
              "outlinewidth": 0,
              "ticks": ""
             }
            },
            "type": "scattergl"
           }
          ],
          "scattermapbox": [
           {
            "marker": {
             "colorbar": {
              "outlinewidth": 0,
              "ticks": ""
             }
            },
            "type": "scattermapbox"
           }
          ],
          "scatterpolar": [
           {
            "marker": {
             "colorbar": {
              "outlinewidth": 0,
              "ticks": ""
             }
            },
            "type": "scatterpolar"
           }
          ],
          "scatterpolargl": [
           {
            "marker": {
             "colorbar": {
              "outlinewidth": 0,
              "ticks": ""
             }
            },
            "type": "scatterpolargl"
           }
          ],
          "scatterternary": [
           {
            "marker": {
             "colorbar": {
              "outlinewidth": 0,
              "ticks": ""
             }
            },
            "type": "scatterternary"
           }
          ],
          "surface": [
           {
            "colorbar": {
             "outlinewidth": 0,
             "ticks": ""
            },
            "colorscale": [
             [
              0,
              "#0d0887"
             ],
             [
              0.1111111111111111,
              "#46039f"
             ],
             [
              0.2222222222222222,
              "#7201a8"
             ],
             [
              0.3333333333333333,
              "#9c179e"
             ],
             [
              0.4444444444444444,
              "#bd3786"
             ],
             [
              0.5555555555555556,
              "#d8576b"
             ],
             [
              0.6666666666666666,
              "#ed7953"
             ],
             [
              0.7777777777777778,
              "#fb9f3a"
             ],
             [
              0.8888888888888888,
              "#fdca26"
             ],
             [
              1,
              "#f0f921"
             ]
            ],
            "type": "surface"
           }
          ],
          "table": [
           {
            "cells": {
             "fill": {
              "color": "#EBF0F8"
             },
             "line": {
              "color": "white"
             }
            },
            "header": {
             "fill": {
              "color": "#C8D4E3"
             },
             "line": {
              "color": "white"
             }
            },
            "type": "table"
           }
          ]
         },
         "layout": {
          "annotationdefaults": {
           "arrowcolor": "#2a3f5f",
           "arrowhead": 0,
           "arrowwidth": 1
          },
          "autotypenumbers": "strict",
          "coloraxis": {
           "colorbar": {
            "outlinewidth": 0,
            "ticks": ""
           }
          },
          "colorscale": {
           "diverging": [
            [
             0,
             "#8e0152"
            ],
            [
             0.1,
             "#c51b7d"
            ],
            [
             0.2,
             "#de77ae"
            ],
            [
             0.3,
             "#f1b6da"
            ],
            [
             0.4,
             "#fde0ef"
            ],
            [
             0.5,
             "#f7f7f7"
            ],
            [
             0.6,
             "#e6f5d0"
            ],
            [
             0.7,
             "#b8e186"
            ],
            [
             0.8,
             "#7fbc41"
            ],
            [
             0.9,
             "#4d9221"
            ],
            [
             1,
             "#276419"
            ]
           ],
           "sequential": [
            [
             0,
             "#0d0887"
            ],
            [
             0.1111111111111111,
             "#46039f"
            ],
            [
             0.2222222222222222,
             "#7201a8"
            ],
            [
             0.3333333333333333,
             "#9c179e"
            ],
            [
             0.4444444444444444,
             "#bd3786"
            ],
            [
             0.5555555555555556,
             "#d8576b"
            ],
            [
             0.6666666666666666,
             "#ed7953"
            ],
            [
             0.7777777777777778,
             "#fb9f3a"
            ],
            [
             0.8888888888888888,
             "#fdca26"
            ],
            [
             1,
             "#f0f921"
            ]
           ],
           "sequentialminus": [
            [
             0,
             "#0d0887"
            ],
            [
             0.1111111111111111,
             "#46039f"
            ],
            [
             0.2222222222222222,
             "#7201a8"
            ],
            [
             0.3333333333333333,
             "#9c179e"
            ],
            [
             0.4444444444444444,
             "#bd3786"
            ],
            [
             0.5555555555555556,
             "#d8576b"
            ],
            [
             0.6666666666666666,
             "#ed7953"
            ],
            [
             0.7777777777777778,
             "#fb9f3a"
            ],
            [
             0.8888888888888888,
             "#fdca26"
            ],
            [
             1,
             "#f0f921"
            ]
           ]
          },
          "colorway": [
           "#636efa",
           "#EF553B",
           "#00cc96",
           "#ab63fa",
           "#FFA15A",
           "#19d3f3",
           "#FF6692",
           "#B6E880",
           "#FF97FF",
           "#FECB52"
          ],
          "font": {
           "color": "#2a3f5f"
          },
          "geo": {
           "bgcolor": "white",
           "lakecolor": "white",
           "landcolor": "#E5ECF6",
           "showlakes": true,
           "showland": true,
           "subunitcolor": "white"
          },
          "hoverlabel": {
           "align": "left"
          },
          "hovermode": "closest",
          "mapbox": {
           "style": "light"
          },
          "paper_bgcolor": "white",
          "plot_bgcolor": "#E5ECF6",
          "polar": {
           "angularaxis": {
            "gridcolor": "white",
            "linecolor": "white",
            "ticks": ""
           },
           "bgcolor": "#E5ECF6",
           "radialaxis": {
            "gridcolor": "white",
            "linecolor": "white",
            "ticks": ""
           }
          },
          "scene": {
           "xaxis": {
            "backgroundcolor": "#E5ECF6",
            "gridcolor": "white",
            "gridwidth": 2,
            "linecolor": "white",
            "showbackground": true,
            "ticks": "",
            "zerolinecolor": "white"
           },
           "yaxis": {
            "backgroundcolor": "#E5ECF6",
            "gridcolor": "white",
            "gridwidth": 2,
            "linecolor": "white",
            "showbackground": true,
            "ticks": "",
            "zerolinecolor": "white"
           },
           "zaxis": {
            "backgroundcolor": "#E5ECF6",
            "gridcolor": "white",
            "gridwidth": 2,
            "linecolor": "white",
            "showbackground": true,
            "ticks": "",
            "zerolinecolor": "white"
           }
          },
          "shapedefaults": {
           "line": {
            "color": "#2a3f5f"
           }
          },
          "ternary": {
           "aaxis": {
            "gridcolor": "white",
            "linecolor": "white",
            "ticks": ""
           },
           "baxis": {
            "gridcolor": "white",
            "linecolor": "white",
            "ticks": ""
           },
           "bgcolor": "#E5ECF6",
           "caxis": {
            "gridcolor": "white",
            "linecolor": "white",
            "ticks": ""
           }
          },
          "title": {
           "x": 0.05
          },
          "xaxis": {
           "automargin": true,
           "gridcolor": "white",
           "linecolor": "white",
           "ticks": "",
           "title": {
            "standoff": 15
           },
           "zerolinecolor": "white",
           "zerolinewidth": 2
          },
          "yaxis": {
           "automargin": true,
           "gridcolor": "white",
           "linecolor": "white",
           "ticks": "",
           "title": {
            "standoff": 15
           },
           "zerolinecolor": "white",
           "zerolinewidth": 2
          }
         }
        },
        "title": {
         "text": "Lebron James Efficiency Rating Heatmap",
         "x": 0.5
        },
        "xaxis": {
         "anchor": "y",
         "domain": [
          0,
          1
         ],
         "title": {
          "text": "Offensive Rating"
         }
        },
        "yaxis": {
         "anchor": "x",
         "domain": [
          0,
          1
         ],
         "title": {
          "text": "Defensive Rating"
         }
        }
       }
      }
     },
     "metadata": {},
     "output_type": "display_data"
    }
   ],
   "source": [
    "result_df = df[df['Player'] == 'Lebron James'] \n",
    "fig = px.density_heatmap(result_df, x=\"Offensive Rating\", y=\"Defensive Rating\", nbinsx=20, nbinsy=20, color_continuous_scale=\"viridis\")\n",
    "fig.update_layout(title_text='Lebron James Efficiency Rating Heatmap', title_x=0.5)\n",
    "fig.show()\n",
    "pio.write_image(fig, 'lbj_heatmap.png')"
   ]
  },
  {
   "cell_type": "code",
   "execution_count": 136,
   "metadata": {},
   "outputs": [
    {
     "data": {
      "application/vnd.plotly.v1+json": {
       "config": {
        "plotlyServerURL": "https://plot.ly"
       },
       "data": [
        {
         "alignmentgroup": "True",
         "box": {
          "visible": false
         },
         "hovertemplate": "Result=L<br>Player=%{x}<br>Usage %=%{y}<extra></extra>",
         "legendgroup": "L",
         "marker": {
          "color": "Indigo"
         },
         "name": "L",
         "offsetgroup": "L",
         "orientation": "v",
         "scalegroup": "True",
         "showlegend": true,
         "type": "violin",
         "x": [
          "Lebron James",
          "Lebron James",
          "Lebron James",
          "Lebron James",
          "Lebron James",
          "Lebron James",
          "Lebron James",
          "Lebron James",
          "Lebron James",
          "Lebron James",
          "Lebron James",
          "Lebron James",
          "Lebron James",
          "Lebron James",
          "Lebron James",
          "Lebron James",
          "Lebron James",
          "Lebron James",
          "Lebron James",
          "Lebron James",
          "Lebron James",
          "Lebron James",
          "Lebron James",
          "Lebron James",
          "Lebron James",
          "Lebron James",
          "Lebron James",
          "Lebron James",
          "Lebron James",
          "Lebron James",
          "Lebron James",
          "Lebron James",
          "Lebron James",
          "Lebron James",
          "Lebron James",
          "Lebron James",
          "Lebron James",
          "Lebron James",
          "Lebron James",
          "Lebron James",
          "Lebron James",
          "Lebron James",
          "Lebron James",
          "Lebron James",
          "Lebron James",
          "Lebron James",
          "Lebron James",
          "Lebron James",
          "Lebron James",
          "Lebron James",
          "Lebron James",
          "Lebron James",
          "Lebron James",
          "Lebron James",
          "Lebron James",
          "Lebron James",
          "Lebron James",
          "Lebron James",
          "Lebron James",
          "Lebron James",
          "Lebron James",
          "Lebron James",
          "Lebron James",
          "Lebron James",
          "Lebron James",
          "Lebron James",
          "Lebron James",
          "Lebron James",
          "Lebron James",
          "Lebron James",
          "Lebron James",
          "Lebron James",
          "Lebron James",
          "Lebron James",
          "Lebron James",
          "Lebron James",
          "Lebron James",
          "Lebron James",
          "Lebron James",
          "Lebron James",
          "Lebron James",
          "Lebron James",
          "Lebron James",
          "Lebron James",
          "Lebron James",
          "Lebron James",
          "Lebron James",
          "Lebron James",
          "Lebron James",
          "Lebron James",
          "Lebron James",
          "Lebron James",
          "Lebron James",
          "Lebron James",
          "Lebron James",
          "Lebron James",
          "Lebron James",
          "Lebron James",
          "Lebron James",
          "Lebron James",
          "Lebron James",
          "Lebron James",
          "Lebron James",
          "Lebron James",
          "Lebron James",
          "Lebron James",
          "Lebron James",
          "Lebron James",
          "Lebron James",
          "Lebron James",
          "Lebron James",
          "Lebron James",
          "Lebron James",
          "Lebron James",
          "Lebron James",
          "Lebron James",
          "Lebron James",
          "Lebron James",
          "Lebron James",
          "Lebron James",
          "Lebron James",
          "Lebron James",
          "Lebron James",
          "Lebron James",
          "Lebron James",
          "Lebron James",
          "Lebron James",
          "Lebron James",
          "Lebron James",
          "Lebron James",
          "Lebron James",
          "Lebron James",
          "Lebron James",
          "Lebron James",
          "Lebron James",
          "Lebron James",
          "Lebron James",
          "Lebron James",
          "Lebron James",
          "Lebron James",
          "Lebron James",
          "Lebron James",
          "Lebron James",
          "Lebron James",
          "Lebron James",
          "Lebron James",
          "Lebron James",
          "Lebron James",
          "Lebron James",
          "Lebron James",
          "Lebron James",
          "Lebron James",
          "Lebron James",
          "Lebron James",
          "Lebron James",
          "Lebron James",
          "Lebron James",
          "Lebron James",
          "Lebron James",
          "Lebron James",
          "Lebron James",
          "Lebron James",
          "Lebron James",
          "Lebron James",
          "Lebron James",
          "Lebron James",
          "Lebron James",
          "Lebron James",
          "Lebron James",
          "Lebron James",
          "Lebron James",
          "Lebron James",
          "Lebron James",
          "Lebron James",
          "Lebron James",
          "Lebron James",
          "Lebron James",
          "Lebron James",
          "Lebron James",
          "Lebron James",
          "Lebron James",
          "Lebron James",
          "Lebron James",
          "Lebron James",
          "Lebron James",
          "Lebron James",
          "Lebron James",
          "Lebron James",
          "Lebron James",
          "Lebron James",
          "Lebron James",
          "Lebron James",
          "Lebron James",
          "Lebron James",
          "Lebron James",
          "Lebron James",
          "Lebron James",
          "Lebron James",
          "Lebron James",
          "Lebron James",
          "Lebron James",
          "Lebron James",
          "Lebron James",
          "Lebron James",
          "Lebron James",
          "Lebron James",
          "Lebron James",
          "Lebron James",
          "Lebron James",
          "Lebron James",
          "Lebron James",
          "Lebron James",
          "Lebron James",
          "Lebron James",
          "Lebron James",
          "Lebron James",
          "Lebron James",
          "Lebron James",
          "Lebron James",
          "Lebron James",
          "Lebron James",
          "Lebron James",
          "Lebron James",
          "Lebron James",
          "Lebron James",
          "Lebron James",
          "Lebron James",
          "Lebron James",
          "Lebron James",
          "Lebron James",
          "Lebron James",
          "Lebron James",
          "Lebron James",
          "Lebron James",
          "Lebron James",
          "Lebron James",
          "Lebron James",
          "Lebron James",
          "Lebron James",
          "Lebron James",
          "Lebron James",
          "Lebron James",
          "Lebron James",
          "Lebron James",
          "Lebron James",
          "Lebron James",
          "Lebron James",
          "Lebron James",
          "Lebron James",
          "Lebron James",
          "Lebron James",
          "Lebron James",
          "Lebron James",
          "Lebron James",
          "Lebron James",
          "Lebron James",
          "Lebron James",
          "Lebron James",
          "Lebron James",
          "Lebron James",
          "Lebron James",
          "Lebron James",
          "Lebron James",
          "Lebron James",
          "Lebron James",
          "Lebron James",
          "Lebron James",
          "Lebron James",
          "Lebron James",
          "Lebron James",
          "Lebron James",
          "Lebron James",
          "Lebron James",
          "Lebron James",
          "Lebron James",
          "Lebron James",
          "Lebron James",
          "Lebron James",
          "Lebron James",
          "Lebron James",
          "Lebron James",
          "Lebron James",
          "Lebron James",
          "Lebron James",
          "Lebron James",
          "Lebron James",
          "Lebron James",
          "Lebron James",
          "Lebron James",
          "Lebron James",
          "Lebron James",
          "Lebron James",
          "Lebron James",
          "Lebron James",
          "Lebron James",
          "Lebron James",
          "Lebron James",
          "Lebron James",
          "Lebron James",
          "Lebron James",
          "Lebron James",
          "Lebron James",
          "Lebron James",
          "Lebron James",
          "Lebron James",
          "Lebron James",
          "Lebron James",
          "Lebron James",
          "Lebron James",
          "Lebron James",
          "Lebron James",
          "Lebron James",
          "Lebron James",
          "Lebron James",
          "Lebron James",
          "Lebron James",
          "Lebron James",
          "Lebron James",
          "Lebron James",
          "Lebron James",
          "Lebron James",
          "Lebron James",
          "Lebron James",
          "Lebron James",
          "Lebron James",
          "Lebron James",
          "Lebron James",
          "Lebron James",
          "Lebron James",
          "Lebron James",
          "Lebron James",
          "Lebron James",
          "Lebron James",
          "Lebron James",
          "Lebron James",
          "Lebron James",
          "Lebron James",
          "Lebron James",
          "Lebron James",
          "Lebron James",
          "Lebron James",
          "Lebron James",
          "Lebron James",
          "Lebron James",
          "Lebron James",
          "Lebron James",
          "Lebron James",
          "Lebron James",
          "Lebron James",
          "Lebron James",
          "Lebron James",
          "Lebron James",
          "Lebron James",
          "Lebron James",
          "Lebron James",
          "Lebron James",
          "Lebron James",
          "Lebron James",
          "Lebron James",
          "Lebron James",
          "Lebron James",
          "Lebron James",
          "Lebron James",
          "Lebron James",
          "Lebron James",
          "Lebron James",
          "Lebron James",
          "Lebron James",
          "Lebron James",
          "Lebron James",
          "Lebron James",
          "Lebron James",
          "Lebron James",
          "Lebron James",
          "Lebron James",
          "Lebron James",
          "Lebron James",
          "Lebron James",
          "Lebron James",
          "Lebron James",
          "Lebron James",
          "Lebron James",
          "Lebron James",
          "Lebron James",
          "Lebron James",
          "Lebron James",
          "Lebron James",
          "Lebron James",
          "Lebron James",
          "Lebron James",
          "Lebron James",
          "Lebron James",
          "Lebron James",
          "Lebron James",
          "Lebron James",
          "Lebron James",
          "Lebron James",
          "Lebron James",
          "Lebron James",
          "Lebron James",
          "Lebron James",
          "Lebron James",
          "Lebron James",
          "Lebron James",
          "Lebron James",
          "Lebron James",
          "Lebron James",
          "Lebron James",
          "Lebron James",
          "Lebron James",
          "Lebron James",
          "Lebron James",
          "Lebron James",
          "Lebron James",
          "Lebron James",
          "Lebron James",
          "Lebron James",
          "Lebron James",
          "Lebron James",
          "Lebron James",
          "Lebron James",
          "Lebron James",
          "Lebron James",
          "Lebron James",
          "Lebron James",
          "Lebron James",
          "Lebron James",
          "Lebron James",
          "Lebron James",
          "Lebron James",
          "Lebron James",
          "Lebron James",
          "Lebron James",
          "Lebron James",
          "Lebron James",
          "Lebron James",
          "Lebron James",
          "Lebron James",
          "Lebron James",
          "Lebron James",
          "Lebron James",
          "Lebron James",
          "Lebron James",
          "Lebron James",
          "Lebron James",
          "Lebron James",
          "Lebron James",
          "Lebron James",
          "Lebron James",
          "Lebron James",
          "Lebron James",
          "Lebron James",
          "Lebron James",
          "Lebron James",
          "Lebron James",
          "Lebron James",
          "Lebron James",
          "Lebron James",
          "Lebron James",
          "Lebron James",
          "Lebron James",
          "Lebron James",
          "Lebron James",
          "Lebron James",
          "Lebron James",
          "Lebron James",
          "Lebron James",
          "Lebron James",
          "Lebron James",
          "Lebron James",
          "Lebron James",
          "Lebron James",
          "Lebron James",
          "Lebron James",
          "Lebron James",
          "Lebron James",
          "Lebron James",
          "Lebron James",
          "Lebron James",
          "Lebron James",
          "Lebron James",
          "Lebron James",
          "Lebron James",
          "Lebron James",
          "Lebron James",
          "Lebron James",
          "Lebron James",
          "Lebron James",
          "Lebron James",
          "Lebron James",
          "Lebron James",
          "Lebron James",
          "Lebron James",
          "Lebron James",
          "Lebron James",
          "Lebron James",
          "Lebron James",
          "Lebron James",
          "Lebron James",
          "Lebron James",
          "Lebron James",
          "Lebron James",
          "Lebron James",
          "Lebron James",
          "Lebron James",
          "Lebron James",
          "Lebron James",
          "Lebron James",
          "Lebron James",
          "Lebron James",
          "Lebron James",
          "Lebron James",
          "Lebron James",
          "Lebron James",
          "Lebron James",
          "Lebron James",
          "Lebron James",
          "Lebron James",
          "Lebron James",
          "Lebron James",
          "Lebron James",
          "Lebron James",
          "Lebron James",
          "Lebron James",
          "Lebron James",
          "Lebron James",
          "Lebron James",
          "Lebron James",
          "Lebron James",
          "Lebron James",
          "Lebron James",
          "Lebron James",
          "Lebron James",
          "Lebron James",
          "Lebron James",
          "Lebron James",
          "Lebron James",
          "Lebron James",
          "Lebron James",
          "Lebron James",
          "Lebron James",
          "Lebron James",
          "Lebron James",
          "Lebron James",
          "Lebron James",
          "Lebron James",
          "Lebron James",
          "Lebron James",
          "Lebron James",
          "Lebron James",
          "Lebron James",
          "Lebron James",
          "Lebron James",
          "Lebron James",
          "Lebron James",
          "Lebron James",
          "Lebron James",
          "Lebron James",
          "Lebron James",
          "Lebron James",
          "Lebron James",
          "Lebron James",
          "Lebron James",
          "Lebron James",
          "Lebron James",
          "Lebron James",
          "Lebron James",
          "Lebron James",
          "Lebron James",
          "Lebron James",
          "Lebron James",
          "Lebron James",
          "Lebron James",
          "Lebron James",
          "Lebron James",
          "Lebron James",
          "Lebron James",
          "Lebron James",
          "Lebron James",
          "Lebron James",
          "Lebron James",
          "Lebron James",
          "Lebron James",
          "Lebron James",
          "Lebron James",
          "Lebron James",
          "Lebron James",
          "Lebron James",
          "Lebron James",
          "Lebron James",
          "Lebron James",
          "Lebron James",
          "Lebron James",
          "Lebron James",
          "Lebron James",
          "Lebron James",
          "Lebron James",
          "Lebron James",
          "Lebron James",
          "Lebron James",
          "Lebron James",
          "Lebron James",
          "Lebron James",
          "Lebron James",
          "Lebron James",
          "Lebron James",
          "Lebron James",
          "Lebron James",
          "Lebron James",
          "Lebron James",
          "Lebron James",
          "Lebron James",
          "Lebron James",
          "Lebron James",
          "Lebron James",
          "Lebron James",
          "Lebron James",
          "Lebron James",
          "Lebron James",
          "Lebron James",
          "Lebron James",
          "Lebron James",
          "Lebron James",
          "Lebron James",
          "Lebron James",
          "Lebron James",
          "Lebron James",
          "Lebron James",
          "Lebron James",
          "Lebron James",
          "Lebron James",
          "Lebron James",
          "Lebron James",
          "Lebron James",
          "Lebron James",
          "Lebron James",
          "Lebron James",
          "Lebron James",
          "Lebron James",
          "Lebron James",
          "Lebron James",
          "Lebron James",
          "Lebron James",
          "Lebron James",
          "Lebron James",
          "Lebron James",
          "Lebron James",
          "Lebron James",
          "Lebron James",
          "Lebron James",
          "Lebron James",
          "Lebron James",
          "Lebron James",
          "Lebron James",
          "Lebron James",
          "Lebron James",
          "Lebron James",
          "Lebron James",
          "Lebron James",
          "Lebron James",
          "Lebron James",
          "Lebron James",
          "Lebron James",
          "Lebron James",
          "Lebron James",
          "Lebron James",
          "Lebron James",
          "Lebron James",
          "Lebron James",
          "Lebron James",
          "Lebron James",
          "Lebron James",
          "Lebron James",
          "Lebron James",
          "Lebron James",
          "Lebron James",
          "Lebron James",
          "Lebron James",
          "Lebron James",
          "Lebron James",
          "Lebron James",
          "Lebron James",
          "Lebron James",
          "Lebron James",
          "Lebron James",
          "Lebron James",
          "Lebron James",
          "Lebron James",
          "Lebron James",
          "Lebron James",
          "Lebron James",
          "Lebron James",
          "Lebron James",
          "Lebron James",
          "Lebron James",
          "Lebron James",
          "Lebron James",
          "Lebron James",
          "Lebron James",
          "Lebron James",
          "Lebron James",
          "Lebron James",
          "Lebron James",
          "Lebron James",
          "Lebron James",
          "Lebron James",
          "Lebron James",
          "Lebron James",
          "Lebron James",
          "Lebron James",
          "Lebron James",
          "Lebron James",
          "Lebron James",
          "Lebron James",
          "Lebron James",
          "Lebron James",
          "Lebron James",
          "Lebron James",
          "Lebron James",
          "Lebron James",
          "Lebron James",
          "Michael Jordan",
          "Michael Jordan",
          "Michael Jordan",
          "Michael Jordan",
          "Michael Jordan",
          "Michael Jordan",
          "Michael Jordan",
          "Michael Jordan",
          "Michael Jordan",
          "Michael Jordan",
          "Michael Jordan",
          "Michael Jordan",
          "Michael Jordan",
          "Michael Jordan",
          "Michael Jordan",
          "Michael Jordan",
          "Michael Jordan",
          "Michael Jordan",
          "Michael Jordan",
          "Michael Jordan",
          "Michael Jordan",
          "Michael Jordan",
          "Michael Jordan",
          "Michael Jordan",
          "Michael Jordan",
          "Michael Jordan",
          "Michael Jordan",
          "Michael Jordan",
          "Michael Jordan",
          "Michael Jordan",
          "Michael Jordan",
          "Michael Jordan",
          "Michael Jordan",
          "Michael Jordan",
          "Michael Jordan",
          "Michael Jordan",
          "Michael Jordan",
          "Michael Jordan",
          "Michael Jordan",
          "Michael Jordan",
          "Michael Jordan",
          "Michael Jordan",
          "Michael Jordan",
          "Michael Jordan",
          "Michael Jordan",
          "Michael Jordan",
          "Michael Jordan",
          "Michael Jordan",
          "Michael Jordan",
          "Michael Jordan",
          "Michael Jordan",
          "Michael Jordan",
          "Michael Jordan",
          "Michael Jordan",
          "Michael Jordan",
          "Michael Jordan",
          "Michael Jordan",
          "Michael Jordan",
          "Michael Jordan",
          "Michael Jordan",
          "Michael Jordan",
          "Michael Jordan",
          "Michael Jordan",
          "Michael Jordan",
          "Michael Jordan",
          "Michael Jordan",
          "Michael Jordan",
          "Michael Jordan",
          "Michael Jordan",
          "Michael Jordan",
          "Michael Jordan",
          "Michael Jordan",
          "Michael Jordan",
          "Michael Jordan",
          "Michael Jordan",
          "Michael Jordan",
          "Michael Jordan",
          "Michael Jordan",
          "Michael Jordan",
          "Michael Jordan",
          "Michael Jordan",
          "Michael Jordan",
          "Michael Jordan",
          "Michael Jordan",
          "Michael Jordan",
          "Michael Jordan",
          "Michael Jordan",
          "Michael Jordan",
          "Michael Jordan",
          "Michael Jordan",
          "Michael Jordan",
          "Michael Jordan",
          "Michael Jordan",
          "Michael Jordan",
          "Michael Jordan",
          "Michael Jordan",
          "Michael Jordan",
          "Michael Jordan",
          "Michael Jordan",
          "Michael Jordan",
          "Michael Jordan",
          "Michael Jordan",
          "Michael Jordan",
          "Michael Jordan",
          "Michael Jordan",
          "Michael Jordan",
          "Michael Jordan",
          "Michael Jordan",
          "Michael Jordan",
          "Michael Jordan",
          "Michael Jordan",
          "Michael Jordan",
          "Michael Jordan",
          "Michael Jordan",
          "Michael Jordan",
          "Michael Jordan",
          "Michael Jordan",
          "Michael Jordan",
          "Michael Jordan",
          "Michael Jordan",
          "Michael Jordan",
          "Michael Jordan",
          "Michael Jordan",
          "Michael Jordan",
          "Michael Jordan",
          "Michael Jordan",
          "Michael Jordan",
          "Michael Jordan",
          "Michael Jordan",
          "Michael Jordan",
          "Michael Jordan",
          "Michael Jordan",
          "Michael Jordan",
          "Michael Jordan",
          "Michael Jordan",
          "Michael Jordan",
          "Michael Jordan",
          "Michael Jordan",
          "Michael Jordan",
          "Michael Jordan",
          "Michael Jordan",
          "Michael Jordan",
          "Michael Jordan",
          "Michael Jordan",
          "Michael Jordan",
          "Michael Jordan",
          "Michael Jordan",
          "Michael Jordan",
          "Michael Jordan",
          "Michael Jordan",
          "Michael Jordan",
          "Michael Jordan",
          "Michael Jordan",
          "Michael Jordan",
          "Michael Jordan",
          "Michael Jordan",
          "Michael Jordan",
          "Michael Jordan",
          "Michael Jordan",
          "Michael Jordan",
          "Michael Jordan",
          "Michael Jordan",
          "Michael Jordan",
          "Michael Jordan",
          "Michael Jordan",
          "Michael Jordan",
          "Michael Jordan",
          "Michael Jordan",
          "Michael Jordan",
          "Michael Jordan",
          "Michael Jordan",
          "Michael Jordan",
          "Michael Jordan",
          "Michael Jordan",
          "Michael Jordan",
          "Michael Jordan",
          "Michael Jordan",
          "Michael Jordan",
          "Michael Jordan",
          "Michael Jordan",
          "Michael Jordan",
          "Michael Jordan",
          "Michael Jordan",
          "Michael Jordan",
          "Michael Jordan",
          "Michael Jordan",
          "Michael Jordan",
          "Michael Jordan",
          "Michael Jordan",
          "Michael Jordan",
          "Michael Jordan",
          "Michael Jordan",
          "Michael Jordan",
          "Michael Jordan",
          "Michael Jordan",
          "Michael Jordan",
          "Michael Jordan",
          "Michael Jordan",
          "Michael Jordan",
          "Michael Jordan",
          "Michael Jordan",
          "Michael Jordan",
          "Michael Jordan",
          "Michael Jordan",
          "Michael Jordan",
          "Michael Jordan",
          "Michael Jordan",
          "Michael Jordan",
          "Michael Jordan",
          "Michael Jordan",
          "Michael Jordan",
          "Michael Jordan",
          "Michael Jordan",
          "Michael Jordan",
          "Michael Jordan",
          "Michael Jordan",
          "Michael Jordan",
          "Michael Jordan",
          "Michael Jordan",
          "Michael Jordan",
          "Michael Jordan",
          "Michael Jordan",
          "Michael Jordan",
          "Michael Jordan",
          "Michael Jordan",
          "Michael Jordan",
          "Michael Jordan",
          "Michael Jordan",
          "Michael Jordan",
          "Michael Jordan",
          "Michael Jordan",
          "Michael Jordan",
          "Michael Jordan",
          "Michael Jordan",
          "Michael Jordan",
          "Michael Jordan",
          "Michael Jordan",
          "Michael Jordan",
          "Michael Jordan",
          "Michael Jordan",
          "Michael Jordan",
          "Michael Jordan",
          "Michael Jordan",
          "Michael Jordan",
          "Michael Jordan",
          "Michael Jordan",
          "Michael Jordan",
          "Michael Jordan",
          "Michael Jordan",
          "Michael Jordan",
          "Michael Jordan",
          "Michael Jordan",
          "Michael Jordan",
          "Michael Jordan",
          "Michael Jordan",
          "Michael Jordan",
          "Michael Jordan",
          "Michael Jordan",
          "Michael Jordan",
          "Michael Jordan",
          "Michael Jordan",
          "Michael Jordan",
          "Michael Jordan",
          "Michael Jordan",
          "Michael Jordan",
          "Michael Jordan",
          "Michael Jordan",
          "Michael Jordan",
          "Michael Jordan",
          "Michael Jordan",
          "Michael Jordan",
          "Michael Jordan",
          "Michael Jordan",
          "Michael Jordan",
          "Michael Jordan",
          "Michael Jordan",
          "Michael Jordan",
          "Michael Jordan",
          "Michael Jordan",
          "Michael Jordan",
          "Michael Jordan",
          "Michael Jordan",
          "Michael Jordan",
          "Michael Jordan",
          "Michael Jordan",
          "Michael Jordan",
          "Michael Jordan",
          "Michael Jordan",
          "Michael Jordan",
          "Michael Jordan",
          "Michael Jordan",
          "Michael Jordan",
          "Michael Jordan",
          "Michael Jordan",
          "Michael Jordan",
          "Michael Jordan",
          "Michael Jordan",
          "Michael Jordan",
          "Michael Jordan",
          "Michael Jordan",
          "Michael Jordan",
          "Michael Jordan",
          "Michael Jordan",
          "Michael Jordan",
          "Michael Jordan",
          "Michael Jordan",
          "Michael Jordan",
          "Michael Jordan",
          "Michael Jordan",
          "Michael Jordan",
          "Michael Jordan",
          "Michael Jordan",
          "Michael Jordan",
          "Michael Jordan",
          "Michael Jordan",
          "Michael Jordan",
          "Michael Jordan",
          "Michael Jordan",
          "Michael Jordan",
          "Michael Jordan",
          "Michael Jordan",
          "Michael Jordan",
          "Michael Jordan",
          "Michael Jordan",
          "Michael Jordan",
          "Michael Jordan",
          "Michael Jordan",
          "Michael Jordan",
          "Michael Jordan",
          "Michael Jordan",
          "Michael Jordan",
          "Michael Jordan",
          "Michael Jordan",
          "Michael Jordan",
          "Michael Jordan",
          "Michael Jordan",
          "Michael Jordan",
          "Michael Jordan",
          "Michael Jordan",
          "Michael Jordan",
          "Michael Jordan",
          "Michael Jordan",
          "Michael Jordan",
          "Michael Jordan",
          "Michael Jordan",
          "Michael Jordan",
          "Michael Jordan",
          "Michael Jordan",
          "Michael Jordan",
          "Michael Jordan",
          "Michael Jordan",
          "Michael Jordan",
          "Michael Jordan",
          "Michael Jordan",
          "Michael Jordan",
          "Michael Jordan",
          "Michael Jordan",
          "Michael Jordan",
          "Michael Jordan",
          "Michael Jordan",
          "Michael Jordan",
          "Michael Jordan",
          "Michael Jordan",
          "Michael Jordan",
          "Michael Jordan",
          "Michael Jordan",
          "Michael Jordan",
          "Michael Jordan",
          "Michael Jordan",
          "Michael Jordan",
          "Michael Jordan",
          "Michael Jordan",
          "Michael Jordan",
          "Michael Jordan",
          "Michael Jordan",
          "Michael Jordan",
          "Michael Jordan",
          "Michael Jordan",
          "Michael Jordan",
          "Michael Jordan",
          "Michael Jordan",
          "Michael Jordan",
          "Michael Jordan",
          "Michael Jordan",
          "Michael Jordan",
          "Michael Jordan",
          "Michael Jordan",
          "Michael Jordan",
          "Michael Jordan",
          "Michael Jordan",
          "Michael Jordan",
          "Michael Jordan",
          "Michael Jordan",
          "Michael Jordan",
          "Michael Jordan",
          "Michael Jordan",
          "Michael Jordan",
          "Michael Jordan",
          "Michael Jordan",
          "Michael Jordan",
          "Michael Jordan",
          "Michael Jordan",
          "Michael Jordan",
          "Michael Jordan",
          "Michael Jordan",
          "Michael Jordan",
          "Michael Jordan",
          "Michael Jordan",
          "Michael Jordan",
          "Michael Jordan",
          "Michael Jordan",
          "Michael Jordan",
          "Michael Jordan",
          "Michael Jordan",
          "Michael Jordan",
          "Michael Jordan",
          "Michael Jordan",
          "Michael Jordan",
          "Michael Jordan",
          "Michael Jordan",
          "Michael Jordan",
          "Michael Jordan",
          "Michael Jordan",
          "Michael Jordan",
          "Michael Jordan",
          "Michael Jordan",
          "Michael Jordan",
          "Michael Jordan",
          "Michael Jordan",
          "Michael Jordan",
          "Michael Jordan",
          "Michael Jordan",
          "Michael Jordan",
          "Michael Jordan",
          "Michael Jordan",
          "Michael Jordan"
         ],
         "x0": " ",
         "xaxis": "x",
         "y": [
          25.6,
          28.5,
          18.2,
          13.7,
          30.7,
          24.4,
          23,
          29.2,
          27.8,
          23.9,
          25.8,
          16.9,
          29.4,
          27.9,
          24.4,
          24,
          27.9,
          28.3,
          27.5,
          40.7,
          43.3,
          34.1,
          29.9,
          32.3,
          25.2,
          31.7,
          29.4,
          0,
          37.4,
          30.3,
          24.9,
          26.5,
          28.1,
          25.2,
          24.6,
          24,
          29.4,
          31.6,
          29,
          36,
          31.9,
          25.5,
          32.9,
          32.1,
          25.2,
          21.6,
          32.5,
          30.3,
          26,
          34.6,
          25.3,
          27.9,
          29.6,
          29,
          25,
          29,
          36.1,
          28.8,
          19.5,
          32.7,
          32.3,
          25.1,
          29.7,
          0,
          28.6,
          32,
          39.4,
          27.4,
          29.4,
          27,
          28.8,
          31.8,
          35.3,
          26.1,
          34.7,
          25.8,
          46.6,
          30.8,
          30.3,
          32.2,
          34.7,
          32.9,
          30.9,
          35,
          36.3,
          32.1,
          42.6,
          27,
          37.1,
          34.8,
          33.4,
          32.2,
          32.6,
          40.3,
          42.5,
          35.9,
          35.3,
          27.3,
          36,
          39.8,
          32.2,
          40.8,
          31.3,
          36.8,
          35.6,
          24,
          31.4,
          23.4,
          33.9,
          33.1,
          30.3,
          34.8,
          30.5,
          34.9,
          45.1,
          36.9,
          37.5,
          34.5,
          29.8,
          22.5,
          31.1,
          34.9,
          33.9,
          28.9,
          35,
          39,
          24.8,
          30.9,
          35.4,
          28,
          34.5,
          35.5,
          33.2,
          41.7,
          32.4,
          26.2,
          29.5,
          30.6,
          31.6,
          30.4,
          30.8,
          35.4,
          32.2,
          38.6,
          38.4,
          37.4,
          26.8,
          31.3,
          0,
          29.4,
          31,
          26.3,
          29.3,
          38.3,
          31.8,
          31.7,
          30.8,
          39.8,
          0,
          0,
          0,
          0,
          0,
          37.3,
          23.9,
          35.5,
          29.5,
          31.4,
          28.3,
          38.9,
          0,
          39.2,
          37.7,
          43.4,
          30.8,
          35,
          38.8,
          42.6,
          38.8,
          33.1,
          32.7,
          35.6,
          23.5,
          35.6,
          38.8,
          30.5,
          33.9,
          0,
          35.4,
          27.6,
          35.2,
          27.4,
          40.9,
          39.4,
          48.6,
          38.8,
          41.6,
          28.1,
          37.7,
          38.9,
          32.5,
          34.1,
          38.9,
          0,
          36,
          31.1,
          29.6,
          40.5,
          33,
          38.6,
          34.3,
          31.1,
          28.3,
          45.4,
          34.4,
          43.2,
          27.3,
          41,
          0,
          33.8,
          44.2,
          0,
          0,
          0,
          0,
          37.8,
          25.8,
          24.8,
          36,
          37.4,
          30.5,
          27.6,
          39,
          31.2,
          32.6,
          0,
          0,
          46.2,
          36.3,
          29.3,
          28.9,
          34.4,
          25.3,
          34.4,
          27.6,
          29.1,
          28,
          31.6,
          36.2,
          31.9,
          27.5,
          36.1,
          33.6,
          33.2,
          41.9,
          28.7,
          28.6,
          31.7,
          30.5,
          33.6,
          27.7,
          34.1,
          29.5,
          29.4,
          34.6,
          32.8,
          0,
          0,
          0,
          31.7,
          28.4,
          33.2,
          29.3,
          31.6,
          31.9,
          29.6,
          34.8,
          29.7,
          36,
          24.3,
          28.1,
          32.4,
          31,
          31,
          0,
          27.2,
          30.4,
          30.1,
          28.7,
          32.1,
          30.1,
          30.1,
          31.3,
          35,
          33.6,
          29.8,
          31.8,
          30.2,
          27.9,
          28.1,
          31.8,
          31.4,
          28.7,
          26.8,
          0,
          26.7,
          38.1,
          30.6,
          36,
          38.7,
          36.2,
          0,
          0,
          29.6,
          20.2,
          30.7,
          28.5,
          30.2,
          32,
          21.1,
          0,
          35.8,
          35.1,
          33,
          39.9,
          0,
          0,
          0,
          0,
          0,
          0,
          0,
          34.2,
          35.9,
          46.4,
          0,
          45.1,
          30.4,
          34.4,
          25.4,
          35.7,
          0,
          29,
          41.2,
          31.9,
          28.4,
          37.6,
          40.5,
          0,
          36.1,
          32.8,
          28.2,
          28.2,
          34.9,
          30.9,
          39.5,
          31.3,
          34.1,
          0,
          27.3,
          31.2,
          43.3,
          27.8,
          0,
          0,
          26.8,
          0,
          22.7,
          0,
          35.4,
          32.7,
          30.6,
          0,
          0,
          35.9,
          31.4,
          30.2,
          33.9,
          25.7,
          27.5,
          25.6,
          35,
          25.3,
          0,
          30.9,
          0,
          33.9,
          34.6,
          34.8,
          0,
          24.7,
          29.2,
          33.6,
          31.6,
          25.9,
          26.6,
          0,
          0,
          25.2,
          32.2,
          25.9,
          21.9,
          37.2,
          25.5,
          38,
          31.3,
          41.8,
          29.8,
          30.8,
          36,
          26.9,
          21.4,
          30,
          36.1,
          35.4,
          22.4,
          39.5,
          28,
          20,
          33.6,
          32.3,
          35.1,
          34.3,
          28.6,
          29.9,
          33.5,
          40.7,
          30.8,
          42.9,
          50.4,
          27.6,
          27.3,
          32.3,
          36,
          31.1,
          27,
          38.3,
          26.6,
          32.3,
          36.1,
          30,
          28.1,
          34.4,
          26.5,
          0,
          0,
          0,
          0,
          0,
          0,
          0,
          0,
          0,
          0,
          0,
          0,
          29.1,
          24.7,
          24.7,
          25.5,
          34.1,
          28.9,
          29,
          25.2,
          42.9,
          45.3,
          39.3,
          0,
          38.8,
          0,
          39.7,
          0,
          0,
          0,
          0,
          31.7,
          23.3,
          32.4,
          35.2,
          28.9,
          0,
          29,
          29.4,
          25.6,
          40.2,
          28.8,
          29.5,
          31.4,
          35.2,
          27,
          31.9,
          0,
          30.6,
          46.8,
          35.9,
          30.9,
          30.3,
          27.3,
          34.4,
          28.7,
          31.2,
          39.6,
          33.7,
          35.7,
          30.7,
          37.8,
          0,
          35,
          0,
          0,
          0,
          0,
          0,
          0,
          0,
          0,
          0,
          0,
          0,
          0,
          25.6,
          29.5,
          0,
          0,
          32.2,
          28.3,
          0,
          0,
          0,
          0,
          0,
          0,
          27.3,
          0,
          35,
          33.9,
          26.5,
          25.5,
          32.8,
          30,
          36.1,
          31.7,
          36.8,
          29.1,
          36.1,
          42.2,
          33.1,
          32.9,
          0,
          0,
          0,
          0,
          30.2,
          36.9,
          39.6,
          32.4,
          37.5,
          29.6,
          31.7,
          0,
          30.7,
          37.9,
          28.6,
          31.2,
          40.1,
          0,
          38,
          0,
          0,
          37.6,
          0,
          0,
          0,
          35.5,
          24.5,
          32.5,
          36.6,
          31.8,
          32,
          32,
          0,
          35.9,
          0,
          0,
          26.8,
          25.4,
          0,
          28.7,
          32.5,
          0,
          34.5,
          32,
          41.5,
          34.9,
          0,
          33.1,
          37.7,
          38.3,
          41.2,
          33,
          0,
          28.8,
          34.5,
          0,
          0,
          0,
          0,
          0,
          0,
          0,
          30.1,
          34,
          24.8,
          32.2,
          26.1,
          36.7,
          31,
          29.2,
          32.3,
          21.3,
          23.8,
          41.1,
          34.7,
          30.5,
          29.6,
          38.7,
          35.3,
          24.5,
          26,
          17.9,
          31.2,
          29.6,
          38.4,
          36.9,
          39.5,
          31.2,
          36.2,
          38.7,
          42.4,
          39.2,
          41.9,
          42.2,
          42.8,
          42,
          30.2,
          36.7,
          30.5,
          32.8,
          25.7,
          33.3,
          29.9,
          27.1,
          26.7,
          27.6,
          17.9,
          25.8,
          26.4,
          33.4,
          32.4,
          32.7,
          36.1,
          36.4,
          30.9,
          34.9,
          26,
          30.2,
          26.4,
          34.7,
          24.4,
          29.3,
          29.2,
          29.1,
          28.1,
          29.6,
          34.9,
          29.1,
          31.1,
          31.2,
          33.6,
          40,
          47.4,
          30.5,
          42.7,
          38,
          28.7,
          21.2,
          29.1,
          34.5,
          30.3,
          22.9,
          34.1,
          25.1,
          32.3,
          31.3,
          27.8,
          35.3,
          34.2,
          32.8,
          47.6,
          37.4,
          39,
          28.4,
          31.9,
          25.9,
          26.5,
          26.2,
          35.4,
          30.9,
          29.8,
          26.8,
          36.3,
          30.5,
          34.9,
          29.9,
          28.1,
          27.8,
          25.9,
          28,
          27,
          24.7,
          28.2,
          20.3,
          21,
          32.5,
          23.9,
          37.4,
          33.4,
          28.9,
          25.6,
          29.6,
          34.6,
          32.1,
          29.5,
          27.3,
          20.7,
          27.7,
          22.6,
          32.6,
          36.9,
          30.8,
          28.2,
          35.7,
          33.8,
          28.5,
          29,
          28.5,
          27.4,
          27.8,
          24.9,
          25.9,
          25.6,
          29.9,
          30.5,
          33.4,
          26.8,
          30.1,
          31.1,
          29.1,
          37.4,
          30.6,
          26.9,
          35.8,
          31.8,
          30.1,
          33.5,
          34.5,
          58.7,
          46.3,
          44.9,
          35.7,
          41.7,
          35.2,
          41.5,
          46.6,
          31.9,
          39.3,
          39.2,
          41.1,
          39,
          40.1,
          43.3,
          45.7,
          41.8,
          35.6,
          28.3,
          37.6,
          43.9,
          33.2,
          38.4,
          44.1,
          36.1,
          39.7,
          41.8,
          33,
          43.9,
          39.8,
          33.7,
          39.2,
          40.1,
          38.2,
          34.6,
          36.9,
          40.2,
          36.7,
          26,
          40.7,
          27,
          41.3,
          36.8,
          29.4,
          33.2,
          27.1,
          36.2,
          33.8,
          56,
          35.1,
          41.1,
          45.4,
          27.9,
          24.4,
          36.6,
          38.6,
          29.3,
          29,
          27.2,
          23.9,
          34.8,
          40.6,
          39.6,
          31.5,
          31.7,
          37.9,
          43.9,
          36.6,
          30.3,
          39.3,
          35.3,
          39.4,
          45,
          33.7,
          30.3,
          32.8,
          32.9,
          27.6,
          28.6,
          32.3,
          39.7,
          27.1,
          27.1,
          27.4,
          40.1,
          36.1,
          27.7,
          34.1,
          25.6,
          35.9,
          26.4,
          30.1,
          38.3,
          37.6,
          29.8,
          30.3,
          38.3,
          28.9,
          37.4,
          29.4,
          24,
          30.8,
          26.1,
          23.4,
          38.5,
          36.2,
          30,
          37,
          28.1,
          31.4,
          36.8,
          37,
          38.3,
          35.2,
          32,
          31.3,
          30.3,
          28.5,
          39.2,
          32.2,
          22.8,
          36.3,
          32.3,
          41.1,
          28.8,
          34.7,
          28.3,
          35.9,
          34,
          39.6,
          32,
          33.4,
          36.6,
          37.4,
          27.2,
          41.2,
          38.4,
          25,
          37.4,
          27.4,
          32.5,
          40.9,
          30.1,
          35.2,
          24.4,
          30.4,
          16.2,
          29.2,
          37,
          38,
          34.5,
          28.5,
          34.5,
          34.5,
          34.7,
          38.7,
          28.9,
          28.9,
          35.5,
          31.5,
          39.3,
          44.6,
          32.2,
          37.7,
          38.9,
          26.4,
          34.8,
          28.8,
          37.3,
          36.8,
          28.9,
          31.5,
          38.9,
          26.2,
          29.2,
          29.9,
          36.2,
          42.5,
          45.7,
          28.4,
          26.8,
          29.9,
          26.8,
          42.2,
          33.1,
          37.2,
          48.5,
          30.5,
          40.5,
          35.3,
          39.3,
          28.6,
          35.3,
          30.3,
          39.3,
          34,
          35.1,
          36.9,
          38.5,
          37.2,
          30.8,
          33.8,
          33.3,
          25,
          31.8,
          34,
          39.4,
          36.1,
          31.4,
          39.6,
          31.3,
          38.7,
          38.1,
          47.3,
          39.8,
          23.5,
          34.5,
          30.2,
          34.1,
          35.4,
          36.1,
          39.2,
          42.2,
          27.5,
          37.2,
          36.5,
          36,
          36.4,
          29.2,
          41.9,
          36.6,
          39.6,
          34.4,
          31.5,
          35.5,
          42.1,
          39.4,
          32.6,
          31.3,
          37.4,
          44.3,
          39.1,
          26.4,
          41.8,
          34.1,
          34.8,
          33.3,
          43.5,
          42.4,
          42.3,
          33.7,
          35.2,
          40.9,
          34,
          32.5,
          35.2,
          29.4,
          0,
          48.8,
          27,
          42.9,
          42.2,
          35.4,
          37.1,
          43.3,
          35.9,
          41.5,
          32.9,
          32.2,
          19.9,
          0,
          28.5,
          45.1,
          31.6,
          0,
          0,
          0,
          0,
          0,
          0,
          0,
          0,
          30.9,
          40.9,
          28.2,
          19.1,
          31.2,
          32.7,
          23.7,
          41,
          36.9,
          27.4,
          32.4,
          34.8,
          25.1,
          28.3,
          29.1,
          20.4,
          30.9,
          28.3,
          25.5,
          29.3,
          29,
          19.6,
          31.1,
          32.6,
          28.9,
          18.9,
          26.6,
          25.3,
          32.2,
          27.9,
          27.8,
          36.2,
          31.3,
          35.9,
          24.8,
          31.2,
          34.5,
          23.7,
          28.6,
          21.5,
          26.5,
          25.7,
          37.8,
          20,
          25.2,
          24.4,
          27.9,
          33.6,
          30.5,
          23,
          27.7,
          28.9,
          47,
          44.5,
          25,
          35,
          40,
          41.9,
          37.7,
          35.4,
          35.4,
          35.6,
          27.1,
          31.2,
          33.3,
          45.4,
          24.6,
          39,
          33.8,
          28.5,
          18.7,
          43.2,
          42.7,
          44,
          34.6,
          23.5,
          28.1,
          32.9,
          43.8,
          39.2,
          32,
          34.8,
          33.3,
          36.1,
          40.1,
          38.6,
          37,
          33.5,
          51.1,
          35.8,
          39.2,
          39.1,
          36,
          41.6,
          31.3,
          33.9,
          40.8,
          31.9,
          29.2,
          32.6,
          43.1,
          31.4,
          38.4,
          26.4,
          34.3,
          43.9,
          34.8,
          36.4,
          37.2
         ],
         "y0": " ",
         "yaxis": "y"
        },
        {
         "alignmentgroup": "True",
         "box": {
          "visible": false
         },
         "hovertemplate": "Result=W<br>Player=%{x}<br>Usage %=%{y}<extra></extra>",
         "legendgroup": "W",
         "marker": {
          "color": "LimeGreen"
         },
         "name": "W",
         "offsetgroup": "W",
         "orientation": "v",
         "scalegroup": "True",
         "showlegend": true,
         "type": "violin",
         "x": [
          "Lebron James",
          "Lebron James",
          "Lebron James",
          "Lebron James",
          "Lebron James",
          "Lebron James",
          "Lebron James",
          "Lebron James",
          "Lebron James",
          "Lebron James",
          "Lebron James",
          "Lebron James",
          "Lebron James",
          "Lebron James",
          "Lebron James",
          "Lebron James",
          "Lebron James",
          "Lebron James",
          "Lebron James",
          "Lebron James",
          "Lebron James",
          "Lebron James",
          "Lebron James",
          "Lebron James",
          "Lebron James",
          "Lebron James",
          "Lebron James",
          "Lebron James",
          "Lebron James",
          "Lebron James",
          "Lebron James",
          "Lebron James",
          "Lebron James",
          "Lebron James",
          "Lebron James",
          "Lebron James",
          "Lebron James",
          "Lebron James",
          "Lebron James",
          "Lebron James",
          "Lebron James",
          "Lebron James",
          "Lebron James",
          "Lebron James",
          "Lebron James",
          "Lebron James",
          "Lebron James",
          "Lebron James",
          "Lebron James",
          "Lebron James",
          "Lebron James",
          "Lebron James",
          "Lebron James",
          "Lebron James",
          "Lebron James",
          "Lebron James",
          "Lebron James",
          "Lebron James",
          "Lebron James",
          "Lebron James",
          "Lebron James",
          "Lebron James",
          "Lebron James",
          "Lebron James",
          "Lebron James",
          "Lebron James",
          "Lebron James",
          "Lebron James",
          "Lebron James",
          "Lebron James",
          "Lebron James",
          "Lebron James",
          "Lebron James",
          "Lebron James",
          "Lebron James",
          "Lebron James",
          "Lebron James",
          "Lebron James",
          "Lebron James",
          "Lebron James",
          "Lebron James",
          "Lebron James",
          "Lebron James",
          "Lebron James",
          "Lebron James",
          "Lebron James",
          "Lebron James",
          "Lebron James",
          "Lebron James",
          "Lebron James",
          "Lebron James",
          "Lebron James",
          "Lebron James",
          "Lebron James",
          "Lebron James",
          "Lebron James",
          "Lebron James",
          "Lebron James",
          "Lebron James",
          "Lebron James",
          "Lebron James",
          "Lebron James",
          "Lebron James",
          "Lebron James",
          "Lebron James",
          "Lebron James",
          "Lebron James",
          "Lebron James",
          "Lebron James",
          "Lebron James",
          "Lebron James",
          "Lebron James",
          "Lebron James",
          "Lebron James",
          "Lebron James",
          "Lebron James",
          "Lebron James",
          "Lebron James",
          "Lebron James",
          "Lebron James",
          "Lebron James",
          "Lebron James",
          "Lebron James",
          "Lebron James",
          "Lebron James",
          "Lebron James",
          "Lebron James",
          "Lebron James",
          "Lebron James",
          "Lebron James",
          "Lebron James",
          "Lebron James",
          "Lebron James",
          "Lebron James",
          "Lebron James",
          "Lebron James",
          "Lebron James",
          "Lebron James",
          "Lebron James",
          "Lebron James",
          "Lebron James",
          "Lebron James",
          "Lebron James",
          "Lebron James",
          "Lebron James",
          "Lebron James",
          "Lebron James",
          "Lebron James",
          "Lebron James",
          "Lebron James",
          "Lebron James",
          "Lebron James",
          "Lebron James",
          "Lebron James",
          "Lebron James",
          "Lebron James",
          "Lebron James",
          "Lebron James",
          "Lebron James",
          "Lebron James",
          "Lebron James",
          "Lebron James",
          "Lebron James",
          "Lebron James",
          "Lebron James",
          "Lebron James",
          "Lebron James",
          "Lebron James",
          "Lebron James",
          "Lebron James",
          "Lebron James",
          "Lebron James",
          "Lebron James",
          "Lebron James",
          "Lebron James",
          "Lebron James",
          "Lebron James",
          "Lebron James",
          "Lebron James",
          "Lebron James",
          "Lebron James",
          "Lebron James",
          "Lebron James",
          "Lebron James",
          "Lebron James",
          "Lebron James",
          "Lebron James",
          "Lebron James",
          "Lebron James",
          "Lebron James",
          "Lebron James",
          "Lebron James",
          "Lebron James",
          "Lebron James",
          "Lebron James",
          "Lebron James",
          "Lebron James",
          "Lebron James",
          "Lebron James",
          "Lebron James",
          "Lebron James",
          "Lebron James",
          "Lebron James",
          "Lebron James",
          "Lebron James",
          "Lebron James",
          "Lebron James",
          "Lebron James",
          "Lebron James",
          "Lebron James",
          "Lebron James",
          "Lebron James",
          "Lebron James",
          "Lebron James",
          "Lebron James",
          "Lebron James",
          "Lebron James",
          "Lebron James",
          "Lebron James",
          "Lebron James",
          "Lebron James",
          "Lebron James",
          "Lebron James",
          "Lebron James",
          "Lebron James",
          "Lebron James",
          "Lebron James",
          "Lebron James",
          "Lebron James",
          "Lebron James",
          "Lebron James",
          "Lebron James",
          "Lebron James",
          "Lebron James",
          "Lebron James",
          "Lebron James",
          "Lebron James",
          "Lebron James",
          "Lebron James",
          "Lebron James",
          "Lebron James",
          "Lebron James",
          "Lebron James",
          "Lebron James",
          "Lebron James",
          "Lebron James",
          "Lebron James",
          "Lebron James",
          "Lebron James",
          "Lebron James",
          "Lebron James",
          "Lebron James",
          "Lebron James",
          "Lebron James",
          "Lebron James",
          "Lebron James",
          "Lebron James",
          "Lebron James",
          "Lebron James",
          "Lebron James",
          "Lebron James",
          "Lebron James",
          "Lebron James",
          "Lebron James",
          "Lebron James",
          "Lebron James",
          "Lebron James",
          "Lebron James",
          "Lebron James",
          "Lebron James",
          "Lebron James",
          "Lebron James",
          "Lebron James",
          "Lebron James",
          "Lebron James",
          "Lebron James",
          "Lebron James",
          "Lebron James",
          "Lebron James",
          "Lebron James",
          "Lebron James",
          "Lebron James",
          "Lebron James",
          "Lebron James",
          "Lebron James",
          "Lebron James",
          "Lebron James",
          "Lebron James",
          "Lebron James",
          "Lebron James",
          "Lebron James",
          "Lebron James",
          "Lebron James",
          "Lebron James",
          "Lebron James",
          "Lebron James",
          "Lebron James",
          "Lebron James",
          "Lebron James",
          "Lebron James",
          "Lebron James",
          "Lebron James",
          "Lebron James",
          "Lebron James",
          "Lebron James",
          "Lebron James",
          "Lebron James",
          "Lebron James",
          "Lebron James",
          "Lebron James",
          "Lebron James",
          "Lebron James",
          "Lebron James",
          "Lebron James",
          "Lebron James",
          "Lebron James",
          "Lebron James",
          "Lebron James",
          "Lebron James",
          "Lebron James",
          "Lebron James",
          "Lebron James",
          "Lebron James",
          "Lebron James",
          "Lebron James",
          "Lebron James",
          "Lebron James",
          "Lebron James",
          "Lebron James",
          "Lebron James",
          "Lebron James",
          "Lebron James",
          "Lebron James",
          "Lebron James",
          "Lebron James",
          "Lebron James",
          "Lebron James",
          "Lebron James",
          "Lebron James",
          "Lebron James",
          "Lebron James",
          "Lebron James",
          "Lebron James",
          "Lebron James",
          "Lebron James",
          "Lebron James",
          "Lebron James",
          "Lebron James",
          "Lebron James",
          "Lebron James",
          "Lebron James",
          "Lebron James",
          "Lebron James",
          "Lebron James",
          "Lebron James",
          "Lebron James",
          "Lebron James",
          "Lebron James",
          "Lebron James",
          "Lebron James",
          "Lebron James",
          "Lebron James",
          "Lebron James",
          "Lebron James",
          "Lebron James",
          "Lebron James",
          "Lebron James",
          "Lebron James",
          "Lebron James",
          "Lebron James",
          "Lebron James",
          "Lebron James",
          "Lebron James",
          "Lebron James",
          "Lebron James",
          "Lebron James",
          "Lebron James",
          "Lebron James",
          "Lebron James",
          "Lebron James",
          "Lebron James",
          "Lebron James",
          "Lebron James",
          "Lebron James",
          "Lebron James",
          "Lebron James",
          "Lebron James",
          "Lebron James",
          "Lebron James",
          "Lebron James",
          "Lebron James",
          "Lebron James",
          "Lebron James",
          "Lebron James",
          "Lebron James",
          "Lebron James",
          "Lebron James",
          "Lebron James",
          "Lebron James",
          "Lebron James",
          "Lebron James",
          "Lebron James",
          "Lebron James",
          "Lebron James",
          "Lebron James",
          "Lebron James",
          "Lebron James",
          "Lebron James",
          "Lebron James",
          "Lebron James",
          "Lebron James",
          "Lebron James",
          "Lebron James",
          "Lebron James",
          "Lebron James",
          "Lebron James",
          "Lebron James",
          "Lebron James",
          "Lebron James",
          "Lebron James",
          "Lebron James",
          "Lebron James",
          "Lebron James",
          "Lebron James",
          "Lebron James",
          "Lebron James",
          "Lebron James",
          "Lebron James",
          "Lebron James",
          "Lebron James",
          "Lebron James",
          "Lebron James",
          "Lebron James",
          "Lebron James",
          "Lebron James",
          "Lebron James",
          "Lebron James",
          "Lebron James",
          "Lebron James",
          "Lebron James",
          "Lebron James",
          "Lebron James",
          "Lebron James",
          "Lebron James",
          "Lebron James",
          "Lebron James",
          "Lebron James",
          "Lebron James",
          "Lebron James",
          "Lebron James",
          "Lebron James",
          "Lebron James",
          "Lebron James",
          "Lebron James",
          "Lebron James",
          "Lebron James",
          "Lebron James",
          "Lebron James",
          "Lebron James",
          "Lebron James",
          "Lebron James",
          "Lebron James",
          "Lebron James",
          "Lebron James",
          "Lebron James",
          "Lebron James",
          "Lebron James",
          "Lebron James",
          "Lebron James",
          "Lebron James",
          "Lebron James",
          "Lebron James",
          "Lebron James",
          "Lebron James",
          "Lebron James",
          "Lebron James",
          "Lebron James",
          "Lebron James",
          "Lebron James",
          "Lebron James",
          "Lebron James",
          "Lebron James",
          "Lebron James",
          "Lebron James",
          "Lebron James",
          "Lebron James",
          "Lebron James",
          "Lebron James",
          "Lebron James",
          "Lebron James",
          "Lebron James",
          "Lebron James",
          "Lebron James",
          "Lebron James",
          "Lebron James",
          "Lebron James",
          "Lebron James",
          "Lebron James",
          "Lebron James",
          "Lebron James",
          "Lebron James",
          "Lebron James",
          "Lebron James",
          "Lebron James",
          "Lebron James",
          "Lebron James",
          "Lebron James",
          "Lebron James",
          "Lebron James",
          "Lebron James",
          "Lebron James",
          "Lebron James",
          "Lebron James",
          "Lebron James",
          "Lebron James",
          "Lebron James",
          "Lebron James",
          "Lebron James",
          "Lebron James",
          "Lebron James",
          "Lebron James",
          "Lebron James",
          "Lebron James",
          "Lebron James",
          "Lebron James",
          "Lebron James",
          "Lebron James",
          "Lebron James",
          "Lebron James",
          "Lebron James",
          "Lebron James",
          "Lebron James",
          "Lebron James",
          "Lebron James",
          "Lebron James",
          "Lebron James",
          "Lebron James",
          "Lebron James",
          "Lebron James",
          "Lebron James",
          "Lebron James",
          "Lebron James",
          "Lebron James",
          "Lebron James",
          "Lebron James",
          "Lebron James",
          "Lebron James",
          "Lebron James",
          "Lebron James",
          "Lebron James",
          "Lebron James",
          "Lebron James",
          "Lebron James",
          "Lebron James",
          "Lebron James",
          "Lebron James",
          "Lebron James",
          "Lebron James",
          "Lebron James",
          "Lebron James",
          "Lebron James",
          "Lebron James",
          "Lebron James",
          "Lebron James",
          "Lebron James",
          "Lebron James",
          "Lebron James",
          "Lebron James",
          "Lebron James",
          "Lebron James",
          "Lebron James",
          "Lebron James",
          "Lebron James",
          "Lebron James",
          "Lebron James",
          "Lebron James",
          "Lebron James",
          "Lebron James",
          "Lebron James",
          "Lebron James",
          "Lebron James",
          "Lebron James",
          "Lebron James",
          "Lebron James",
          "Lebron James",
          "Lebron James",
          "Lebron James",
          "Lebron James",
          "Lebron James",
          "Lebron James",
          "Lebron James",
          "Lebron James",
          "Lebron James",
          "Lebron James",
          "Lebron James",
          "Lebron James",
          "Lebron James",
          "Lebron James",
          "Lebron James",
          "Lebron James",
          "Lebron James",
          "Lebron James",
          "Lebron James",
          "Lebron James",
          "Lebron James",
          "Lebron James",
          "Lebron James",
          "Lebron James",
          "Lebron James",
          "Lebron James",
          "Lebron James",
          "Lebron James",
          "Lebron James",
          "Lebron James",
          "Lebron James",
          "Lebron James",
          "Lebron James",
          "Lebron James",
          "Lebron James",
          "Lebron James",
          "Lebron James",
          "Lebron James",
          "Lebron James",
          "Lebron James",
          "Lebron James",
          "Lebron James",
          "Lebron James",
          "Lebron James",
          "Lebron James",
          "Lebron James",
          "Lebron James",
          "Lebron James",
          "Lebron James",
          "Lebron James",
          "Lebron James",
          "Lebron James",
          "Lebron James",
          "Lebron James",
          "Lebron James",
          "Lebron James",
          "Lebron James",
          "Lebron James",
          "Lebron James",
          "Lebron James",
          "Lebron James",
          "Lebron James",
          "Lebron James",
          "Lebron James",
          "Lebron James",
          "Lebron James",
          "Lebron James",
          "Lebron James",
          "Lebron James",
          "Lebron James",
          "Lebron James",
          "Lebron James",
          "Lebron James",
          "Lebron James",
          "Lebron James",
          "Lebron James",
          "Lebron James",
          "Lebron James",
          "Lebron James",
          "Lebron James",
          "Lebron James",
          "Lebron James",
          "Lebron James",
          "Lebron James",
          "Lebron James",
          "Lebron James",
          "Lebron James",
          "Lebron James",
          "Lebron James",
          "Lebron James",
          "Lebron James",
          "Lebron James",
          "Lebron James",
          "Lebron James",
          "Lebron James",
          "Lebron James",
          "Lebron James",
          "Lebron James",
          "Lebron James",
          "Lebron James",
          "Lebron James",
          "Lebron James",
          "Lebron James",
          "Lebron James",
          "Lebron James",
          "Lebron James",
          "Lebron James",
          "Lebron James",
          "Lebron James",
          "Lebron James",
          "Lebron James",
          "Lebron James",
          "Lebron James",
          "Lebron James",
          "Lebron James",
          "Lebron James",
          "Lebron James",
          "Lebron James",
          "Lebron James",
          "Lebron James",
          "Lebron James",
          "Lebron James",
          "Lebron James",
          "Lebron James",
          "Lebron James",
          "Lebron James",
          "Lebron James",
          "Lebron James",
          "Lebron James",
          "Lebron James",
          "Lebron James",
          "Lebron James",
          "Lebron James",
          "Lebron James",
          "Lebron James",
          "Lebron James",
          "Lebron James",
          "Lebron James",
          "Lebron James",
          "Lebron James",
          "Lebron James",
          "Lebron James",
          "Lebron James",
          "Lebron James",
          "Lebron James",
          "Lebron James",
          "Lebron James",
          "Lebron James",
          "Lebron James",
          "Lebron James",
          "Lebron James",
          "Lebron James",
          "Lebron James",
          "Lebron James",
          "Lebron James",
          "Lebron James",
          "Lebron James",
          "Lebron James",
          "Lebron James",
          "Lebron James",
          "Lebron James",
          "Lebron James",
          "Lebron James",
          "Lebron James",
          "Lebron James",
          "Lebron James",
          "Lebron James",
          "Lebron James",
          "Lebron James",
          "Lebron James",
          "Lebron James",
          "Lebron James",
          "Lebron James",
          "Lebron James",
          "Lebron James",
          "Lebron James",
          "Lebron James",
          "Lebron James",
          "Lebron James",
          "Lebron James",
          "Lebron James",
          "Lebron James",
          "Lebron James",
          "Lebron James",
          "Lebron James",
          "Lebron James",
          "Lebron James",
          "Lebron James",
          "Lebron James",
          "Lebron James",
          "Lebron James",
          "Lebron James",
          "Lebron James",
          "Lebron James",
          "Lebron James",
          "Lebron James",
          "Lebron James",
          "Lebron James",
          "Lebron James",
          "Lebron James",
          "Lebron James",
          "Lebron James",
          "Lebron James",
          "Lebron James",
          "Lebron James",
          "Lebron James",
          "Lebron James",
          "Lebron James",
          "Lebron James",
          "Lebron James",
          "Lebron James",
          "Lebron James",
          "Lebron James",
          "Lebron James",
          "Lebron James",
          "Lebron James",
          "Lebron James",
          "Lebron James",
          "Lebron James",
          "Lebron James",
          "Lebron James",
          "Lebron James",
          "Lebron James",
          "Lebron James",
          "Lebron James",
          "Lebron James",
          "Lebron James",
          "Lebron James",
          "Lebron James",
          "Lebron James",
          "Lebron James",
          "Lebron James",
          "Lebron James",
          "Lebron James",
          "Lebron James",
          "Lebron James",
          "Lebron James",
          "Lebron James",
          "Lebron James",
          "Lebron James",
          "Lebron James",
          "Lebron James",
          "Lebron James",
          "Lebron James",
          "Lebron James",
          "Lebron James",
          "Lebron James",
          "Lebron James",
          "Lebron James",
          "Lebron James",
          "Lebron James",
          "Lebron James",
          "Lebron James",
          "Lebron James",
          "Lebron James",
          "Lebron James",
          "Lebron James",
          "Lebron James",
          "Lebron James",
          "Lebron James",
          "Lebron James",
          "Lebron James",
          "Lebron James",
          "Lebron James",
          "Lebron James",
          "Lebron James",
          "Lebron James",
          "Lebron James",
          "Lebron James",
          "Lebron James",
          "Lebron James",
          "Lebron James",
          "Lebron James",
          "Lebron James",
          "Lebron James",
          "Lebron James",
          "Lebron James",
          "Lebron James",
          "Lebron James",
          "Lebron James",
          "Lebron James",
          "Lebron James",
          "Lebron James",
          "Lebron James",
          "Lebron James",
          "Lebron James",
          "Lebron James",
          "Lebron James",
          "Lebron James",
          "Lebron James",
          "Lebron James",
          "Lebron James",
          "Lebron James",
          "Lebron James",
          "Lebron James",
          "Lebron James",
          "Lebron James",
          "Lebron James",
          "Lebron James",
          "Lebron James",
          "Lebron James",
          "Lebron James",
          "Lebron James",
          "Lebron James",
          "Lebron James",
          "Lebron James",
          "Lebron James",
          "Lebron James",
          "Lebron James",
          "Lebron James",
          "Lebron James",
          "Lebron James",
          "Lebron James",
          "Lebron James",
          "Lebron James",
          "Lebron James",
          "Lebron James",
          "Lebron James",
          "Lebron James",
          "Lebron James",
          "Lebron James",
          "Lebron James",
          "Lebron James",
          "Lebron James",
          "Lebron James",
          "Lebron James",
          "Lebron James",
          "Lebron James",
          "Lebron James",
          "Lebron James",
          "Lebron James",
          "Lebron James",
          "Lebron James",
          "Lebron James",
          "Lebron James",
          "Lebron James",
          "Lebron James",
          "Lebron James",
          "Lebron James",
          "Lebron James",
          "Lebron James",
          "Lebron James",
          "Lebron James",
          "Lebron James",
          "Lebron James",
          "Lebron James",
          "Lebron James",
          "Lebron James",
          "Lebron James",
          "Lebron James",
          "Lebron James",
          "Lebron James",
          "Lebron James",
          "Lebron James",
          "Lebron James",
          "Lebron James",
          "Lebron James",
          "Lebron James",
          "Lebron James",
          "Lebron James",
          "Lebron James",
          "Lebron James",
          "Lebron James",
          "Lebron James",
          "Lebron James",
          "Lebron James",
          "Lebron James",
          "Lebron James",
          "Lebron James",
          "Lebron James",
          "Lebron James",
          "Lebron James",
          "Lebron James",
          "Lebron James",
          "Lebron James",
          "Lebron James",
          "Lebron James",
          "Lebron James",
          "Lebron James",
          "Lebron James",
          "Lebron James",
          "Lebron James",
          "Lebron James",
          "Lebron James",
          "Lebron James",
          "Lebron James",
          "Lebron James",
          "Lebron James",
          "Lebron James",
          "Lebron James",
          "Lebron James",
          "Lebron James",
          "Lebron James",
          "Lebron James",
          "Lebron James",
          "Lebron James",
          "Lebron James",
          "Lebron James",
          "Lebron James",
          "Lebron James",
          "Lebron James",
          "Lebron James",
          "Lebron James",
          "Lebron James",
          "Lebron James",
          "Lebron James",
          "Lebron James",
          "Lebron James",
          "Lebron James",
          "Lebron James",
          "Lebron James",
          "Lebron James",
          "Lebron James",
          "Lebron James",
          "Lebron James",
          "Lebron James",
          "Lebron James",
          "Lebron James",
          "Lebron James",
          "Lebron James",
          "Lebron James",
          "Lebron James",
          "Lebron James",
          "Lebron James",
          "Lebron James",
          "Lebron James",
          "Lebron James",
          "Lebron James",
          "Lebron James",
          "Lebron James",
          "Lebron James",
          "Lebron James",
          "Lebron James",
          "Lebron James",
          "Lebron James",
          "Lebron James",
          "Lebron James",
          "Lebron James",
          "Lebron James",
          "Lebron James",
          "Lebron James",
          "Lebron James",
          "Lebron James",
          "Lebron James",
          "Lebron James",
          "Lebron James",
          "Lebron James",
          "Lebron James",
          "Lebron James",
          "Lebron James",
          "Lebron James",
          "Lebron James",
          "Lebron James",
          "Lebron James",
          "Lebron James",
          "Lebron James",
          "Lebron James",
          "Lebron James",
          "Lebron James",
          "Lebron James",
          "Lebron James",
          "Lebron James",
          "Lebron James",
          "Lebron James",
          "Lebron James",
          "Lebron James",
          "Lebron James",
          "Lebron James",
          "Lebron James",
          "Lebron James",
          "Lebron James",
          "Lebron James",
          "Lebron James",
          "Lebron James",
          "Lebron James",
          "Lebron James",
          "Lebron James",
          "Lebron James",
          "Lebron James",
          "Lebron James",
          "Lebron James",
          "Lebron James",
          "Lebron James",
          "Lebron James",
          "Lebron James",
          "Lebron James",
          "Lebron James",
          "Lebron James",
          "Lebron James",
          "Lebron James",
          "Lebron James",
          "Lebron James",
          "Lebron James",
          "Lebron James",
          "Lebron James",
          "Lebron James",
          "Lebron James",
          "Lebron James",
          "Lebron James",
          "Lebron James",
          "Lebron James",
          "Lebron James",
          "Lebron James",
          "Lebron James",
          "Lebron James",
          "Lebron James",
          "Lebron James",
          "Lebron James",
          "Lebron James",
          "Lebron James",
          "Lebron James",
          "Lebron James",
          "Lebron James",
          "Lebron James",
          "Lebron James",
          "Lebron James",
          "Lebron James",
          "Lebron James",
          "Lebron James",
          "Lebron James",
          "Lebron James",
          "Lebron James",
          "Lebron James",
          "Lebron James",
          "Lebron James",
          "Lebron James",
          "Lebron James",
          "Lebron James",
          "Lebron James",
          "Lebron James",
          "Lebron James",
          "Lebron James",
          "Lebron James",
          "Lebron James",
          "Lebron James",
          "Lebron James",
          "Lebron James",
          "Lebron James",
          "Lebron James",
          "Lebron James",
          "Lebron James",
          "Lebron James",
          "Lebron James",
          "Lebron James",
          "Lebron James",
          "Lebron James",
          "Lebron James",
          "Lebron James",
          "Lebron James",
          "Lebron James",
          "Lebron James",
          "Lebron James",
          "Lebron James",
          "Lebron James",
          "Lebron James",
          "Lebron James",
          "Lebron James",
          "Lebron James",
          "Lebron James",
          "Lebron James",
          "Lebron James",
          "Lebron James",
          "Lebron James",
          "Lebron James",
          "Lebron James",
          "Lebron James",
          "Lebron James",
          "Lebron James",
          "Lebron James",
          "Lebron James",
          "Lebron James",
          "Lebron James",
          "Lebron James",
          "Lebron James",
          "Lebron James",
          "Lebron James",
          "Lebron James",
          "Lebron James",
          "Lebron James",
          "Lebron James",
          "Lebron James",
          "Lebron James",
          "Lebron James",
          "Lebron James",
          "Lebron James",
          "Lebron James",
          "Lebron James",
          "Lebron James",
          "Lebron James",
          "Lebron James",
          "Lebron James",
          "Lebron James",
          "Lebron James",
          "Lebron James",
          "Lebron James",
          "Lebron James",
          "Lebron James",
          "Lebron James",
          "Lebron James",
          "Lebron James",
          "Lebron James",
          "Lebron James",
          "Lebron James",
          "Michael Jordan",
          "Michael Jordan",
          "Michael Jordan",
          "Michael Jordan",
          "Michael Jordan",
          "Michael Jordan",
          "Michael Jordan",
          "Michael Jordan",
          "Michael Jordan",
          "Michael Jordan",
          "Michael Jordan",
          "Michael Jordan",
          "Michael Jordan",
          "Michael Jordan",
          "Michael Jordan",
          "Michael Jordan",
          "Michael Jordan",
          "Michael Jordan",
          "Michael Jordan",
          "Michael Jordan",
          "Michael Jordan",
          "Michael Jordan",
          "Michael Jordan",
          "Michael Jordan",
          "Michael Jordan",
          "Michael Jordan",
          "Michael Jordan",
          "Michael Jordan",
          "Michael Jordan",
          "Michael Jordan",
          "Michael Jordan",
          "Michael Jordan",
          "Michael Jordan",
          "Michael Jordan",
          "Michael Jordan",
          "Michael Jordan",
          "Michael Jordan",
          "Michael Jordan",
          "Michael Jordan",
          "Michael Jordan",
          "Michael Jordan",
          "Michael Jordan",
          "Michael Jordan",
          "Michael Jordan",
          "Michael Jordan",
          "Michael Jordan",
          "Michael Jordan",
          "Michael Jordan",
          "Michael Jordan",
          "Michael Jordan",
          "Michael Jordan",
          "Michael Jordan",
          "Michael Jordan",
          "Michael Jordan",
          "Michael Jordan",
          "Michael Jordan",
          "Michael Jordan",
          "Michael Jordan",
          "Michael Jordan",
          "Michael Jordan",
          "Michael Jordan",
          "Michael Jordan",
          "Michael Jordan",
          "Michael Jordan",
          "Michael Jordan",
          "Michael Jordan",
          "Michael Jordan",
          "Michael Jordan",
          "Michael Jordan",
          "Michael Jordan",
          "Michael Jordan",
          "Michael Jordan",
          "Michael Jordan",
          "Michael Jordan",
          "Michael Jordan",
          "Michael Jordan",
          "Michael Jordan",
          "Michael Jordan",
          "Michael Jordan",
          "Michael Jordan",
          "Michael Jordan",
          "Michael Jordan",
          "Michael Jordan",
          "Michael Jordan",
          "Michael Jordan",
          "Michael Jordan",
          "Michael Jordan",
          "Michael Jordan",
          "Michael Jordan",
          "Michael Jordan",
          "Michael Jordan",
          "Michael Jordan",
          "Michael Jordan",
          "Michael Jordan",
          "Michael Jordan",
          "Michael Jordan",
          "Michael Jordan",
          "Michael Jordan",
          "Michael Jordan",
          "Michael Jordan",
          "Michael Jordan",
          "Michael Jordan",
          "Michael Jordan",
          "Michael Jordan",
          "Michael Jordan",
          "Michael Jordan",
          "Michael Jordan",
          "Michael Jordan",
          "Michael Jordan",
          "Michael Jordan",
          "Michael Jordan",
          "Michael Jordan",
          "Michael Jordan",
          "Michael Jordan",
          "Michael Jordan",
          "Michael Jordan",
          "Michael Jordan",
          "Michael Jordan",
          "Michael Jordan",
          "Michael Jordan",
          "Michael Jordan",
          "Michael Jordan",
          "Michael Jordan",
          "Michael Jordan",
          "Michael Jordan",
          "Michael Jordan",
          "Michael Jordan",
          "Michael Jordan",
          "Michael Jordan",
          "Michael Jordan",
          "Michael Jordan",
          "Michael Jordan",
          "Michael Jordan",
          "Michael Jordan",
          "Michael Jordan",
          "Michael Jordan",
          "Michael Jordan",
          "Michael Jordan",
          "Michael Jordan",
          "Michael Jordan",
          "Michael Jordan",
          "Michael Jordan",
          "Michael Jordan",
          "Michael Jordan",
          "Michael Jordan",
          "Michael Jordan",
          "Michael Jordan",
          "Michael Jordan",
          "Michael Jordan",
          "Michael Jordan",
          "Michael Jordan",
          "Michael Jordan",
          "Michael Jordan",
          "Michael Jordan",
          "Michael Jordan",
          "Michael Jordan",
          "Michael Jordan",
          "Michael Jordan",
          "Michael Jordan",
          "Michael Jordan",
          "Michael Jordan",
          "Michael Jordan",
          "Michael Jordan",
          "Michael Jordan",
          "Michael Jordan",
          "Michael Jordan",
          "Michael Jordan",
          "Michael Jordan",
          "Michael Jordan",
          "Michael Jordan",
          "Michael Jordan",
          "Michael Jordan",
          "Michael Jordan",
          "Michael Jordan",
          "Michael Jordan",
          "Michael Jordan",
          "Michael Jordan",
          "Michael Jordan",
          "Michael Jordan",
          "Michael Jordan",
          "Michael Jordan",
          "Michael Jordan",
          "Michael Jordan",
          "Michael Jordan",
          "Michael Jordan",
          "Michael Jordan",
          "Michael Jordan",
          "Michael Jordan",
          "Michael Jordan",
          "Michael Jordan",
          "Michael Jordan",
          "Michael Jordan",
          "Michael Jordan",
          "Michael Jordan",
          "Michael Jordan",
          "Michael Jordan",
          "Michael Jordan",
          "Michael Jordan",
          "Michael Jordan",
          "Michael Jordan",
          "Michael Jordan",
          "Michael Jordan",
          "Michael Jordan",
          "Michael Jordan",
          "Michael Jordan",
          "Michael Jordan",
          "Michael Jordan",
          "Michael Jordan",
          "Michael Jordan",
          "Michael Jordan",
          "Michael Jordan",
          "Michael Jordan",
          "Michael Jordan",
          "Michael Jordan",
          "Michael Jordan",
          "Michael Jordan",
          "Michael Jordan",
          "Michael Jordan",
          "Michael Jordan",
          "Michael Jordan",
          "Michael Jordan",
          "Michael Jordan",
          "Michael Jordan",
          "Michael Jordan",
          "Michael Jordan",
          "Michael Jordan",
          "Michael Jordan",
          "Michael Jordan",
          "Michael Jordan",
          "Michael Jordan",
          "Michael Jordan",
          "Michael Jordan",
          "Michael Jordan",
          "Michael Jordan",
          "Michael Jordan",
          "Michael Jordan",
          "Michael Jordan",
          "Michael Jordan",
          "Michael Jordan",
          "Michael Jordan",
          "Michael Jordan",
          "Michael Jordan",
          "Michael Jordan",
          "Michael Jordan",
          "Michael Jordan",
          "Michael Jordan",
          "Michael Jordan",
          "Michael Jordan",
          "Michael Jordan",
          "Michael Jordan",
          "Michael Jordan",
          "Michael Jordan",
          "Michael Jordan",
          "Michael Jordan",
          "Michael Jordan",
          "Michael Jordan",
          "Michael Jordan",
          "Michael Jordan",
          "Michael Jordan",
          "Michael Jordan",
          "Michael Jordan",
          "Michael Jordan",
          "Michael Jordan",
          "Michael Jordan",
          "Michael Jordan",
          "Michael Jordan",
          "Michael Jordan",
          "Michael Jordan",
          "Michael Jordan",
          "Michael Jordan",
          "Michael Jordan",
          "Michael Jordan",
          "Michael Jordan",
          "Michael Jordan",
          "Michael Jordan",
          "Michael Jordan",
          "Michael Jordan",
          "Michael Jordan",
          "Michael Jordan",
          "Michael Jordan",
          "Michael Jordan",
          "Michael Jordan",
          "Michael Jordan",
          "Michael Jordan",
          "Michael Jordan",
          "Michael Jordan",
          "Michael Jordan",
          "Michael Jordan",
          "Michael Jordan",
          "Michael Jordan",
          "Michael Jordan",
          "Michael Jordan",
          "Michael Jordan",
          "Michael Jordan",
          "Michael Jordan",
          "Michael Jordan",
          "Michael Jordan",
          "Michael Jordan",
          "Michael Jordan",
          "Michael Jordan",
          "Michael Jordan",
          "Michael Jordan",
          "Michael Jordan",
          "Michael Jordan",
          "Michael Jordan",
          "Michael Jordan",
          "Michael Jordan",
          "Michael Jordan",
          "Michael Jordan",
          "Michael Jordan",
          "Michael Jordan",
          "Michael Jordan",
          "Michael Jordan",
          "Michael Jordan",
          "Michael Jordan",
          "Michael Jordan",
          "Michael Jordan",
          "Michael Jordan",
          "Michael Jordan",
          "Michael Jordan",
          "Michael Jordan",
          "Michael Jordan",
          "Michael Jordan",
          "Michael Jordan",
          "Michael Jordan",
          "Michael Jordan",
          "Michael Jordan",
          "Michael Jordan",
          "Michael Jordan",
          "Michael Jordan",
          "Michael Jordan",
          "Michael Jordan",
          "Michael Jordan",
          "Michael Jordan",
          "Michael Jordan",
          "Michael Jordan",
          "Michael Jordan",
          "Michael Jordan",
          "Michael Jordan",
          "Michael Jordan",
          "Michael Jordan",
          "Michael Jordan",
          "Michael Jordan",
          "Michael Jordan",
          "Michael Jordan",
          "Michael Jordan",
          "Michael Jordan",
          "Michael Jordan",
          "Michael Jordan",
          "Michael Jordan",
          "Michael Jordan",
          "Michael Jordan",
          "Michael Jordan",
          "Michael Jordan",
          "Michael Jordan",
          "Michael Jordan",
          "Michael Jordan",
          "Michael Jordan",
          "Michael Jordan",
          "Michael Jordan",
          "Michael Jordan",
          "Michael Jordan",
          "Michael Jordan",
          "Michael Jordan",
          "Michael Jordan",
          "Michael Jordan",
          "Michael Jordan",
          "Michael Jordan",
          "Michael Jordan",
          "Michael Jordan",
          "Michael Jordan",
          "Michael Jordan",
          "Michael Jordan",
          "Michael Jordan",
          "Michael Jordan",
          "Michael Jordan",
          "Michael Jordan",
          "Michael Jordan",
          "Michael Jordan",
          "Michael Jordan",
          "Michael Jordan",
          "Michael Jordan",
          "Michael Jordan",
          "Michael Jordan",
          "Michael Jordan",
          "Michael Jordan",
          "Michael Jordan",
          "Michael Jordan",
          "Michael Jordan",
          "Michael Jordan",
          "Michael Jordan",
          "Michael Jordan",
          "Michael Jordan",
          "Michael Jordan",
          "Michael Jordan",
          "Michael Jordan",
          "Michael Jordan",
          "Michael Jordan",
          "Michael Jordan",
          "Michael Jordan",
          "Michael Jordan",
          "Michael Jordan",
          "Michael Jordan",
          "Michael Jordan",
          "Michael Jordan",
          "Michael Jordan",
          "Michael Jordan",
          "Michael Jordan",
          "Michael Jordan",
          "Michael Jordan",
          "Michael Jordan",
          "Michael Jordan",
          "Michael Jordan",
          "Michael Jordan",
          "Michael Jordan",
          "Michael Jordan",
          "Michael Jordan",
          "Michael Jordan",
          "Michael Jordan",
          "Michael Jordan",
          "Michael Jordan",
          "Michael Jordan",
          "Michael Jordan",
          "Michael Jordan",
          "Michael Jordan",
          "Michael Jordan",
          "Michael Jordan",
          "Michael Jordan",
          "Michael Jordan",
          "Michael Jordan",
          "Michael Jordan",
          "Michael Jordan",
          "Michael Jordan",
          "Michael Jordan",
          "Michael Jordan",
          "Michael Jordan",
          "Michael Jordan",
          "Michael Jordan",
          "Michael Jordan",
          "Michael Jordan",
          "Michael Jordan",
          "Michael Jordan",
          "Michael Jordan",
          "Michael Jordan",
          "Michael Jordan",
          "Michael Jordan",
          "Michael Jordan",
          "Michael Jordan",
          "Michael Jordan",
          "Michael Jordan",
          "Michael Jordan",
          "Michael Jordan",
          "Michael Jordan",
          "Michael Jordan",
          "Michael Jordan",
          "Michael Jordan",
          "Michael Jordan",
          "Michael Jordan",
          "Michael Jordan",
          "Michael Jordan",
          "Michael Jordan",
          "Michael Jordan",
          "Michael Jordan",
          "Michael Jordan",
          "Michael Jordan",
          "Michael Jordan",
          "Michael Jordan",
          "Michael Jordan",
          "Michael Jordan",
          "Michael Jordan",
          "Michael Jordan",
          "Michael Jordan",
          "Michael Jordan",
          "Michael Jordan",
          "Michael Jordan",
          "Michael Jordan",
          "Michael Jordan",
          "Michael Jordan",
          "Michael Jordan",
          "Michael Jordan",
          "Michael Jordan",
          "Michael Jordan",
          "Michael Jordan",
          "Michael Jordan",
          "Michael Jordan",
          "Michael Jordan",
          "Michael Jordan",
          "Michael Jordan",
          "Michael Jordan",
          "Michael Jordan",
          "Michael Jordan",
          "Michael Jordan",
          "Michael Jordan",
          "Michael Jordan",
          "Michael Jordan",
          "Michael Jordan",
          "Michael Jordan",
          "Michael Jordan",
          "Michael Jordan",
          "Michael Jordan",
          "Michael Jordan",
          "Michael Jordan",
          "Michael Jordan",
          "Michael Jordan",
          "Michael Jordan",
          "Michael Jordan",
          "Michael Jordan",
          "Michael Jordan",
          "Michael Jordan",
          "Michael Jordan",
          "Michael Jordan",
          "Michael Jordan",
          "Michael Jordan",
          "Michael Jordan",
          "Michael Jordan",
          "Michael Jordan",
          "Michael Jordan",
          "Michael Jordan",
          "Michael Jordan",
          "Michael Jordan",
          "Michael Jordan",
          "Michael Jordan",
          "Michael Jordan",
          "Michael Jordan",
          "Michael Jordan",
          "Michael Jordan",
          "Michael Jordan",
          "Michael Jordan",
          "Michael Jordan",
          "Michael Jordan",
          "Michael Jordan",
          "Michael Jordan",
          "Michael Jordan",
          "Michael Jordan",
          "Michael Jordan",
          "Michael Jordan",
          "Michael Jordan",
          "Michael Jordan",
          "Michael Jordan",
          "Michael Jordan",
          "Michael Jordan",
          "Michael Jordan",
          "Michael Jordan",
          "Michael Jordan",
          "Michael Jordan",
          "Michael Jordan",
          "Michael Jordan",
          "Michael Jordan",
          "Michael Jordan",
          "Michael Jordan",
          "Michael Jordan",
          "Michael Jordan",
          "Michael Jordan",
          "Michael Jordan",
          "Michael Jordan",
          "Michael Jordan",
          "Michael Jordan",
          "Michael Jordan",
          "Michael Jordan",
          "Michael Jordan",
          "Michael Jordan",
          "Michael Jordan",
          "Michael Jordan",
          "Michael Jordan",
          "Michael Jordan",
          "Michael Jordan",
          "Michael Jordan",
          "Michael Jordan",
          "Michael Jordan",
          "Michael Jordan",
          "Michael Jordan",
          "Michael Jordan",
          "Michael Jordan",
          "Michael Jordan",
          "Michael Jordan",
          "Michael Jordan",
          "Michael Jordan",
          "Michael Jordan",
          "Michael Jordan",
          "Michael Jordan",
          "Michael Jordan",
          "Michael Jordan",
          "Michael Jordan",
          "Michael Jordan",
          "Michael Jordan",
          "Michael Jordan",
          "Michael Jordan",
          "Michael Jordan",
          "Michael Jordan",
          "Michael Jordan",
          "Michael Jordan",
          "Michael Jordan",
          "Michael Jordan",
          "Michael Jordan",
          "Michael Jordan",
          "Michael Jordan",
          "Michael Jordan",
          "Michael Jordan",
          "Michael Jordan",
          "Michael Jordan",
          "Michael Jordan",
          "Michael Jordan",
          "Michael Jordan",
          "Michael Jordan",
          "Michael Jordan",
          "Michael Jordan",
          "Michael Jordan",
          "Michael Jordan",
          "Michael Jordan",
          "Michael Jordan",
          "Michael Jordan",
          "Michael Jordan",
          "Michael Jordan",
          "Michael Jordan",
          "Michael Jordan",
          "Michael Jordan",
          "Michael Jordan",
          "Michael Jordan",
          "Michael Jordan",
          "Michael Jordan",
          "Michael Jordan",
          "Michael Jordan",
          "Michael Jordan",
          "Michael Jordan",
          "Michael Jordan",
          "Michael Jordan",
          "Michael Jordan",
          "Michael Jordan",
          "Michael Jordan",
          "Michael Jordan",
          "Michael Jordan",
          "Michael Jordan",
          "Michael Jordan",
          "Michael Jordan",
          "Michael Jordan",
          "Michael Jordan",
          "Michael Jordan",
          "Michael Jordan",
          "Michael Jordan",
          "Michael Jordan",
          "Michael Jordan",
          "Michael Jordan",
          "Michael Jordan",
          "Michael Jordan",
          "Michael Jordan",
          "Michael Jordan",
          "Michael Jordan",
          "Michael Jordan",
          "Michael Jordan",
          "Michael Jordan",
          "Michael Jordan",
          "Michael Jordan",
          "Michael Jordan",
          "Michael Jordan",
          "Michael Jordan",
          "Michael Jordan",
          "Michael Jordan",
          "Michael Jordan",
          "Michael Jordan",
          "Michael Jordan",
          "Michael Jordan",
          "Michael Jordan",
          "Michael Jordan",
          "Michael Jordan",
          "Michael Jordan",
          "Michael Jordan",
          "Michael Jordan",
          "Michael Jordan",
          "Michael Jordan",
          "Michael Jordan",
          "Michael Jordan",
          "Michael Jordan",
          "Michael Jordan",
          "Michael Jordan",
          "Michael Jordan",
          "Michael Jordan",
          "Michael Jordan",
          "Michael Jordan",
          "Michael Jordan",
          "Michael Jordan",
          "Michael Jordan",
          "Michael Jordan",
          "Michael Jordan",
          "Michael Jordan",
          "Michael Jordan",
          "Michael Jordan",
          "Michael Jordan",
          "Michael Jordan",
          "Michael Jordan",
          "Michael Jordan",
          "Michael Jordan",
          "Michael Jordan",
          "Michael Jordan",
          "Michael Jordan",
          "Michael Jordan",
          "Michael Jordan",
          "Michael Jordan",
          "Michael Jordan",
          "Michael Jordan",
          "Michael Jordan",
          "Michael Jordan",
          "Michael Jordan",
          "Michael Jordan",
          "Michael Jordan",
          "Michael Jordan",
          "Michael Jordan",
          "Michael Jordan",
          "Michael Jordan",
          "Michael Jordan",
          "Michael Jordan",
          "Michael Jordan",
          "Michael Jordan",
          "Michael Jordan",
          "Michael Jordan",
          "Michael Jordan",
          "Michael Jordan",
          "Michael Jordan",
          "Michael Jordan",
          "Michael Jordan",
          "Michael Jordan",
          "Michael Jordan",
          "Michael Jordan",
          "Michael Jordan",
          "Michael Jordan",
          "Michael Jordan",
          "Michael Jordan",
          "Michael Jordan",
          "Michael Jordan",
          "Michael Jordan",
          "Michael Jordan",
          "Michael Jordan",
          "Michael Jordan",
          "Michael Jordan",
          "Michael Jordan",
          "Michael Jordan",
          "Michael Jordan",
          "Michael Jordan",
          "Michael Jordan",
          "Michael Jordan",
          "Michael Jordan",
          "Michael Jordan",
          "Michael Jordan",
          "Michael Jordan",
          "Michael Jordan",
          "Michael Jordan",
          "Michael Jordan",
          "Michael Jordan",
          "Michael Jordan",
          "Michael Jordan",
          "Michael Jordan",
          "Michael Jordan",
          "Michael Jordan",
          "Michael Jordan",
          "Michael Jordan",
          "Michael Jordan",
          "Michael Jordan",
          "Michael Jordan",
          "Michael Jordan",
          "Michael Jordan",
          "Michael Jordan",
          "Michael Jordan",
          "Michael Jordan",
          "Michael Jordan",
          "Michael Jordan",
          "Michael Jordan",
          "Michael Jordan",
          "Michael Jordan",
          "Michael Jordan",
          "Michael Jordan",
          "Michael Jordan",
          "Michael Jordan",
          "Michael Jordan",
          "Michael Jordan",
          "Michael Jordan",
          "Michael Jordan",
          "Michael Jordan",
          "Michael Jordan",
          "Michael Jordan",
          "Michael Jordan",
          "Michael Jordan",
          "Michael Jordan",
          "Michael Jordan",
          "Michael Jordan",
          "Michael Jordan",
          "Michael Jordan",
          "Michael Jordan",
          "Michael Jordan",
          "Michael Jordan",
          "Michael Jordan",
          "Michael Jordan",
          "Michael Jordan",
          "Michael Jordan",
          "Michael Jordan",
          "Michael Jordan",
          "Michael Jordan",
          "Michael Jordan",
          "Michael Jordan",
          "Michael Jordan",
          "Michael Jordan",
          "Michael Jordan",
          "Michael Jordan",
          "Michael Jordan",
          "Michael Jordan",
          "Michael Jordan",
          "Michael Jordan",
          "Michael Jordan",
          "Michael Jordan",
          "Michael Jordan",
          "Michael Jordan",
          "Michael Jordan",
          "Michael Jordan",
          "Michael Jordan",
          "Michael Jordan",
          "Michael Jordan",
          "Michael Jordan",
          "Michael Jordan",
          "Michael Jordan",
          "Michael Jordan",
          "Michael Jordan",
          "Michael Jordan",
          "Michael Jordan",
          "Michael Jordan",
          "Michael Jordan",
          "Michael Jordan",
          "Michael Jordan",
          "Michael Jordan",
          "Michael Jordan",
          "Michael Jordan",
          "Michael Jordan"
         ],
         "x0": " ",
         "xaxis": "x",
         "y": [
          22.3,
          19.1,
          25.5,
          23.1,
          20.3,
          31.5,
          34,
          34.6,
          33.3,
          36.9,
          23.4,
          32.9,
          33.6,
          0,
          0,
          32,
          33.2,
          38,
          26.2,
          28.8,
          29.7,
          27.2,
          25.6,
          24.8,
          29.6,
          26.5,
          27.8,
          29.8,
          25.4,
          29.7,
          28.1,
          37.8,
          22.3,
          27.9,
          30.2,
          25.8,
          29.7,
          29.5,
          31.1,
          24,
          32.8,
          39.9,
          18.7,
          29.4,
          24.7,
          23.7,
          27.9,
          28.2,
          27.6,
          27.7,
          26.6,
          31.1,
          24.4,
          22.8,
          31.5,
          32.2,
          35.6,
          21.2,
          29.5,
          24.8,
          0,
          27,
          22.9,
          29,
          29.4,
          26.4,
          28,
          33.1,
          31.8,
          32.1,
          40.4,
          28.5,
          30.5,
          30.6,
          25.1,
          31,
          26.9,
          33,
          29.5,
          33,
          30.7,
          27.6,
          29,
          29.1,
          28.6,
          27.7,
          30.7,
          35.4,
          25.8,
          30,
          35.4,
          34.8,
          25,
          33.2,
          31.9,
          35.6,
          26.6,
          48.3,
          34.4,
          36.5,
          34.9,
          44.1,
          38.2,
          32.8,
          28.8,
          41.6,
          44.2,
          36.5,
          33.8,
          37.8,
          34.5,
          23.2,
          32.2,
          30.8,
          36.7,
          33.6,
          31.2,
          39.2,
          33.3,
          34.8,
          32.1,
          36.1,
          42,
          40.1,
          0,
          0,
          0,
          34.9,
          38.3,
          24.1,
          31.1,
          29.2,
          27.8,
          39.2,
          29.4,
          29.8,
          33.2,
          28.1,
          30.1,
          30.2,
          26.6,
          31.9,
          33.3,
          28.7,
          28.5,
          27.1,
          16.7,
          26.9,
          29.7,
          32.4,
          29.7,
          0,
          0,
          22.6,
          19.7,
          30.1,
          27.1,
          30.6,
          38.2,
          31.4,
          33.2,
          34.7,
          36.1,
          39.7,
          31.7,
          0,
          33.4,
          28.5,
          25.1,
          32.4,
          37.3,
          31,
          32.3,
          45.3,
          27.2,
          25.1,
          25.8,
          40.8,
          22,
          22.8,
          35.9,
          41.6,
          39,
          38,
          34.4,
          37.5,
          34.7,
          31.5,
          43.7,
          30.6,
          32.9,
          34.5,
          24.9,
          34.9,
          31.3,
          32.7,
          36.6,
          40,
          37.4,
          26.3,
          42.9,
          42.6,
          32,
          33,
          27.6,
          28.3,
          32.5,
          32.6,
          27.9,
          34,
          42.2,
          39.9,
          34.2,
          33.3,
          34.9,
          27.2,
          31.5,
          23.1,
          35.2,
          34.7,
          24.5,
          31.9,
          40.2,
          37.7,
          43.3,
          36.4,
          42.7,
          35.9,
          35.1,
          31,
          39.3,
          31.9,
          29.1,
          32.9,
          22.8,
          35.5,
          21.5,
          21.5,
          41.7,
          34.3,
          30.5,
          34.4,
          28.9,
          34,
          33.4,
          41.6,
          25.3,
          27.9,
          19.1,
          33.2,
          47.3,
          29.6,
          36.9,
          39.5,
          35.5,
          37.4,
          21.7,
          28.5,
          45.2,
          38.8,
          48.2,
          31.3,
          34.4,
          50.4,
          29.5,
          25.4,
          36,
          29.4,
          32.3,
          25,
          22.9,
          35.6,
          32.9,
          39.7,
          24.2,
          40.4,
          30.4,
          29.6,
          32.2,
          23.8,
          35.1,
          34.9,
          35.5,
          37.9,
          30.7,
          31.4,
          35,
          36.9,
          29.5,
          26.7,
          32.7,
          36.4,
          37.6,
          35.7,
          28.5,
          30.9,
          39.3,
          36.2,
          43.9,
          32.3,
          22.7,
          31.2,
          25.9,
          38.6,
          40.9,
          35.3,
          40.9,
          34,
          32.8,
          38.5,
          36.6,
          33.4,
          29.7,
          36.8,
          28.9,
          27.2,
          31.7,
          31.2,
          34.1,
          32,
          43.4,
          36.3,
          43.7,
          21.4,
          37.9,
          29.3,
          24.9,
          35.1,
          42.6,
          33.1,
          30.9,
          19.2,
          42.9,
          26.7,
          28.9,
          26.5,
          38.5,
          0,
          28.8,
          34,
          31.9,
          41.5,
          38.4,
          16.8,
          36.1,
          33.8,
          31.3,
          30.7,
          28.8,
          30.6,
          25.7,
          41.1,
          22.9,
          32.1,
          33.9,
          37.3,
          37.5,
          25.9,
          34.9,
          32.1,
          45.7,
          26.4,
          23.8,
          28.8,
          35.3,
          31.9,
          32.6,
          33.2,
          34.1,
          32.5,
          37.2,
          22.9,
          24.4,
          22.8,
          27.9,
          43.6,
          27.7,
          32.3,
          40.5,
          43.7,
          38.3,
          25,
          28.1,
          40.8,
          25.9,
          28.8,
          35.4,
          28.4,
          28.8,
          32.9,
          46.1,
          21.6,
          23,
          34.2,
          26.9,
          44.3,
          38.1,
          25.7,
          26.5,
          27.4,
          28.9,
          27,
          33.8,
          25.1,
          33.6,
          39.8,
          0,
          34.7,
          25.3,
          35.7,
          35.9,
          23.1,
          33.7,
          0,
          35.8,
          40.5,
          41.1,
          30.2,
          35.8,
          37.4,
          31,
          38.4,
          30.1,
          28.4,
          34.7,
          27.9,
          24.6,
          33.3,
          32.3,
          28.2,
          34.9,
          26,
          20.9,
          24.4,
          30.8,
          27.9,
          29,
          30.7,
          31.3,
          26.8,
          29,
          28,
          25.9,
          30.8,
          41.3,
          29.5,
          34.5,
          34,
          39.6,
          42.1,
          35.8,
          33.9,
          37.1,
          29.9,
          22.3,
          31,
          26.3,
          28.2,
          32.6,
          35.7,
          28.9,
          27.5,
          31.4,
          26.6,
          26.5,
          29.8,
          29,
          34.2,
          24.3,
          29.5,
          36.8,
          28.5,
          30.2,
          33,
          32.6,
          27.7,
          23.1,
          32.2,
          33.1,
          30.8,
          27.3,
          32.6,
          29.7,
          26.7,
          33.2,
          34,
          34.8,
          25.5,
          34.3,
          24.9,
          29.4,
          24.9,
          33.1,
          29.8,
          25.2,
          29.1,
          30.6,
          26.3,
          31.2,
          22.8,
          29.6,
          36.5,
          35.5,
          30.7,
          38.5,
          34.1,
          25.5,
          33.4,
          28.2,
          42.2,
          0,
          0,
          31.1,
          31.6,
          0,
          21.8,
          27.1,
          0,
          0,
          20.8,
          31.4,
          32.6,
          26.7,
          41.6,
          36.3,
          36.4,
          25.9,
          30,
          24,
          31.7,
          33.1,
          29.6,
          27.2,
          31.3,
          32.4,
          21.1,
          32.7,
          27,
          19,
          30.5,
          26.9,
          0,
          29.5,
          25.4,
          27.3,
          35.8,
          24.3,
          35.7,
          34.9,
          31.2,
          34.8,
          32.8,
          25.8,
          34.4,
          37.2,
          34.9,
          37,
          45.3,
          0,
          31.6,
          24.5,
          47.5,
          25,
          27.5,
          27.7,
          23.5,
          38.8,
          24.8,
          26.7,
          42,
          28.7,
          40.2,
          39.6,
          36.9,
          26.9,
          32.8,
          35.5,
          37.8,
          34.4,
          34,
          32.7,
          33.6,
          29.7,
          26.2,
          26.2,
          31.1,
          30.5,
          29,
          30.7,
          24.4,
          37.3,
          0,
          36.5,
          36.4,
          35.5,
          37.3,
          31.5,
          38.5,
          40.1,
          0,
          33.5,
          34,
          32.5,
          30.1,
          36.7,
          36.3,
          41.4,
          39.7,
          33.2,
          43.8,
          44.7,
          31.1,
          30.1,
          27,
          28.6,
          23.1,
          24.1,
          36.4,
          29.3,
          25.2,
          36.5,
          27.3,
          29,
          21.8,
          30.7,
          0,
          27.5,
          33.6,
          32.3,
          36.8,
          31.9,
          41.1,
          34.1,
          33.4,
          28.4,
          25.3,
          24.8,
          31.4,
          31.5,
          34.5,
          36.1,
          38.7,
          41.4,
          37.8,
          32.9,
          21.9,
          42.2,
          31.5,
          26.3,
          31,
          23.8,
          31.4,
          27.6,
          24.5,
          29.7,
          24.6,
          23.9,
          20,
          26.2,
          33.4,
          29.2,
          29,
          29.6,
          30.6,
          28.5,
          33.8,
          27.3,
          36.3,
          30.9,
          33.3,
          31,
          33.2,
          31.1,
          0,
          27.2,
          36.5,
          34.5,
          33.4,
          29.2,
          30.1,
          31.5,
          24.9,
          30.8,
          24.1,
          28.3,
          25.5,
          25.4,
          31.9,
          36.2,
          31.3,
          28.7,
          27.4,
          29,
          31.5,
          29,
          28.5,
          32.2,
          28.2,
          33.6,
          36.4,
          32.3,
          29.2,
          29.3,
          34.7,
          28.7,
          29.7,
          27.6,
          37.7,
          32.8,
          33.6,
          29.3,
          19.4,
          22.7,
          31.9,
          28.5,
          24.4,
          30.8,
          26.6,
          28.2,
          31.7,
          26,
          34.1,
          24.1,
          25.1,
          36.6,
          27,
          28.5,
          36.6,
          33.8,
          31.2,
          38.8,
          32.3,
          28.4,
          31.8,
          26,
          26.6,
          30.7,
          42.5,
          30,
          23.8,
          26.3,
          31.8,
          33.4,
          25.8,
          33.1,
          31.1,
          40.6,
          29.9,
          19.9,
          39.3,
          27.5,
          31.6,
          41.2,
          21.1,
          31.6,
          32.3,
          35.1,
          36.1,
          28.3,
          30,
          30.1,
          33.7,
          26.7,
          36.5,
          27,
          29.1,
          41.6,
          37.4,
          23.7,
          28.2,
          34.5,
          36.8,
          31,
          37.3,
          41.3,
          30.9,
          31.1,
          29.3,
          42.1,
          28.4,
          29.1,
          30.6,
          35.7,
          28.2,
          25.7,
          28.1,
          27.2,
          36.4,
          27.4,
          28.4,
          30.4,
          33.6,
          41.2,
          37.6,
          30.7,
          39,
          35,
          30.4,
          33.5,
          30.7,
          28.3,
          31.5,
          28,
          34.3,
          0,
          0,
          0,
          0,
          0,
          0,
          30.9,
          29.5,
          32,
          32.8,
          40.3,
          35.3,
          28.9,
          35.2,
          0,
          0,
          0,
          37.7,
          24.7,
          33.7,
          34.1,
          36.8,
          29,
          27.6,
          25.2,
          39.8,
          30,
          27.7,
          34.4,
          32.2,
          35.1,
          39.4,
          32,
          38.1,
          28.3,
          33.8,
          35.8,
          39.5,
          37.6,
          35.1,
          30.3,
          22.7,
          19.3,
          33.7,
          24.8,
          29.6,
          36.8,
          40.8,
          0,
          29.6,
          36.3,
          27.2,
          30.2,
          23.4,
          33.1,
          31.5,
          34.8,
          36.9,
          26.7,
          30.8,
          38.5,
          0,
          32.7,
          27,
          33.6,
          31.4,
          30.5,
          26.2,
          36.4,
          30.9,
          32,
          34.4,
          32.3,
          27,
          35.4,
          37.2,
          26.4,
          38,
          36.5,
          24.3,
          34.8,
          38.8,
          33.5,
          29.2,
          24.2,
          27.8,
          35.2,
          29.7,
          29.9,
          31.3,
          32.5,
          32.7,
          25.7,
          26.9,
          31.6,
          27.7,
          33.7,
          0,
          0,
          0,
          0,
          0,
          0,
          0,
          0,
          0,
          0,
          0,
          0,
          39.5,
          39,
          24.6,
          0,
          36.4,
          27.8,
          28.8,
          0,
          0,
          0,
          18.1,
          35.9,
          30,
          0,
          26.5,
          29.4,
          34.3,
          24.6,
          27.1,
          46.7,
          25.3,
          35.2,
          33.8,
          29.2,
          38.3,
          30.7,
          0,
          29.1,
          30.5,
          44,
          40.2,
          32.2,
          36.6,
          0,
          0,
          33.4,
          28.5,
          0,
          0,
          0,
          35.5,
          34.8,
          27.3,
          32.6,
          37.8,
          33.1,
          28.6,
          32.7,
          42.1,
          36.3,
          35.9,
          0,
          33.6,
          40.3,
          38.6,
          29.6,
          39.4,
          30.9,
          33.8,
          28.1,
          0,
          33.8,
          36.3,
          31.7,
          0,
          0,
          0,
          0,
          0,
          0,
          0,
          0,
          33.3,
          29.5,
          28.8,
          39,
          35.5,
          34.7,
          27.4,
          33.8,
          28.5,
          31,
          0,
          30.7,
          35.4,
          26.8,
          23.2,
          34.6,
          31.8,
          29.9,
          29,
          29.3,
          33.6,
          33.3,
          35.9,
          28.4,
          26,
          37.9,
          34.4,
          21.5,
          28.2,
          28.8,
          33.2,
          25.8,
          30.9,
          28.4,
          33.4,
          33.4,
          29.8,
          42.7,
          21.3,
          30.2,
          32.1,
          35.4,
          25.7,
          29.7,
          32.7,
          39.5,
          35.8,
          30,
          30.5,
          42.3,
          39.1,
          29.3,
          39.5,
          33.2,
          38.5,
          37.3,
          27.3,
          34.9,
          29.4,
          23.9,
          33.7,
          32.6,
          23.9,
          30.5,
          21.2,
          20.8,
          31.8,
          30.8,
          36,
          32.1,
          32.7,
          20.7,
          36.9,
          30.6,
          18.7,
          22.2,
          34.1,
          29.4,
          49.1,
          31.3,
          31.8,
          39.8,
          32.5,
          29.9,
          33.7,
          31.4,
          37.2,
          33.5,
          33.2,
          33,
          29,
          30.1,
          28.5,
          25.8,
          27.9,
          34.8,
          27.4,
          25.9,
          34.5,
          25.8,
          30.2,
          24.2,
          36.8,
          29.5,
          24.7,
          31.7,
          37.7,
          29,
          30.9,
          32.7,
          33.3,
          29.8,
          24.5,
          32,
          41,
          32.2,
          31.2,
          31.5,
          37.3,
          28.9,
          39,
          26.1,
          34.3,
          32.7,
          33.9,
          47.3,
          44,
          34,
          33,
          40.4,
          38.2,
          43.7,
          34,
          40.1,
          44.9,
          22.9,
          29.9,
          36.1,
          26.2,
          30,
          34,
          26.8,
          35.4,
          30.4,
          31.6,
          29.9,
          35,
          35.7,
          36.6,
          35.1,
          32.9,
          30,
          33.4,
          35.5,
          30.8,
          31.5,
          32.5,
          31.8,
          33.5,
          33.8,
          28.4,
          44.4,
          30.5,
          30,
          40.3,
          27.9,
          40.5,
          38,
          32.7,
          39.7,
          40.5,
          29.8,
          24.1,
          41.8,
          40.2,
          41.4,
          29.1,
          40.9,
          26,
          31.4,
          32.8,
          37.2,
          28.6,
          38.9,
          22.2,
          32,
          29,
          35.6,
          26.5,
          29.4,
          32.8,
          24.7,
          21.4,
          29.1,
          28.4,
          30.3,
          21,
          24.1,
          31.6,
          19.9,
          31,
          23.3,
          24.4,
          41.6,
          35.8,
          36.3,
          34.5,
          28.6,
          33.9,
          27.7,
          25.5,
          21.7,
          22.8,
          26.8,
          30.8,
          36,
          30.3,
          37.7,
          21.5,
          33.5,
          28.8,
          31.1,
          27.1,
          25.2,
          34.1,
          25.2,
          37.5,
          31.2,
          30.6,
          30.5,
          37.3,
          30.2,
          34.5,
          28.4,
          28,
          23.4,
          33.3,
          28.6,
          27.5,
          28.5,
          31.4,
          34.2,
          25,
          41.2,
          44.9,
          37.9,
          40.3,
          30.9,
          43.7,
          45.5,
          42,
          38,
          34.7,
          44.4,
          38.7,
          32.9,
          34.3,
          38.3,
          37.1,
          46.9,
          41.6,
          47.5,
          41.6,
          45.8,
          31.5,
          39.6,
          38.3,
          43.1,
          32.8,
          39.1,
          36.5,
          32.3,
          40.5,
          33.4,
          43.2,
          33.5,
          42.2,
          40.2,
          35.6,
          47.4,
          32.7,
          31.5,
          41.2,
          47.3,
          33.6,
          34.2,
          51.4,
          39.6,
          42.5,
          35.2,
          30.9,
          33.1,
          36,
          28.1,
          29.8,
          35.4,
          37.1,
          30,
          32.4,
          23.4,
          39.2,
          30.4,
          39.7,
          43.5,
          25.2,
          32.3,
          28.9,
          36.7,
          38.3,
          30.7,
          36.5,
          30.3,
          28.7,
          37.4,
          28.9,
          39.5,
          28.2,
          29.2,
          42.4,
          35.8,
          41.4,
          26.9,
          34.9,
          35.2,
          40.1,
          37.3,
          37.6,
          32.7,
          38.6,
          31.4,
          35.4,
          38.3,
          29.9,
          33.6,
          37.6,
          30,
          40.2,
          37.8,
          35.5,
          33.9,
          46.2,
          38.1,
          33.8,
          29.7,
          26.5,
          36,
          34.9,
          32.3,
          34.1,
          33.3,
          35.7,
          38.4,
          35.7,
          33.8,
          35.1,
          42,
          30.2,
          33,
          38.2,
          21.9,
          31.8,
          31.1,
          30.6,
          33.2,
          33.7,
          31.2,
          40.5,
          30.8,
          34.6,
          27.3,
          30.2,
          24.4,
          31.5,
          18.9,
          24.8,
          25.8,
          30.5,
          31.9,
          33.3,
          27,
          30.2,
          30.3,
          30.9,
          24,
          32.5,
          36.2,
          35,
          35.7,
          37.2,
          32.2,
          31.3,
          37.8,
          32.7,
          25.8,
          32,
          35.3,
          28,
          32.8,
          38.6,
          37,
          40.9,
          33.2,
          25.9,
          39.8,
          28.2,
          36.6,
          32.8,
          38.8,
          30.2,
          40.3,
          42.7,
          30.9,
          38.1,
          28.3,
          25.1,
          28.6,
          36.2,
          34,
          42.6,
          29.4,
          37.7,
          19.4,
          34.2,
          36.4,
          36.1,
          29.4,
          30.3,
          26.1,
          29.9,
          42.9,
          38.4,
          42.6,
          40.5,
          40.5,
          26.5,
          31.1,
          36.7,
          27.7,
          25.5,
          42.5,
          36.3,
          21.4,
          39,
          27.1,
          31.5,
          38.4,
          21.5,
          27.8,
          27.8,
          30.3,
          32.8,
          25.3,
          31.8,
          27.5,
          30.1,
          32.6,
          34.5,
          31.2,
          34.5,
          37,
          33.3,
          37.5,
          38.8,
          38.4,
          34.8,
          37.7,
          31.7,
          35.4,
          35.2,
          27.5,
          32.6,
          28.9,
          34.2,
          37.5,
          27.3,
          36,
          37.7,
          36,
          33.6,
          30.4,
          38.2,
          31.2,
          39.6,
          41.8,
          28.4,
          27.3,
          37.3,
          36.4,
          39.1,
          32.3,
          26.3,
          31.8,
          43.1,
          27.4,
          38.5,
          46,
          25.2,
          31.3,
          46.3,
          26.7,
          33.3,
          28.9,
          32,
          36,
          23.8,
          32.4,
          26.2,
          31.2,
          19.6,
          32.2,
          33.3,
          34.3,
          33.8,
          40,
          28.6,
          28.2,
          26.4,
          28.6,
          28.5,
          29.3,
          28.7,
          28.1,
          19.3,
          35.1,
          33.2,
          26.5,
          25.8,
          24.6,
          32.5,
          35.9,
          26.4,
          32,
          36.6,
          34.7,
          38.4,
          32.9,
          25.7,
          25.9,
          37,
          25,
          38,
          35.5,
          27,
          35.9,
          30.6,
          27.3,
          35.8,
          29.9,
          27,
          37.4,
          32.9,
          33.5,
          37.6,
          32.1,
          28.7,
          37.6,
          38.7,
          39,
          38.7,
          38.2,
          36.2,
          33.3,
          27.4,
          33.2,
          37.1,
          29.1,
          24.5,
          32.1,
          37.3,
          34.9,
          27.6,
          29.1,
          37.9,
          29.6,
          33.7,
          34.8,
          33.2,
          39.9,
          34.1,
          31,
          33.8,
          38.4,
          33.4,
          33.9,
          24.9,
          43.8,
          48.6,
          26.2,
          32.9,
          38.1,
          35.7,
          35.7,
          31.7,
          25.6,
          36.9,
          32.9,
          25.4,
          37.4,
          33.7,
          38,
          32.4,
          35.8,
          31,
          38.3,
          32.9,
          39.4,
          38.9,
          30.6,
          37.9,
          38,
          33,
          33,
          49.3,
          29.7,
          39.6,
          24.2,
          36.2,
          33.3,
          32.9,
          32.5,
          31.6,
          34.7,
          44.3,
          38.7,
          33.6,
          33.6,
          30.7,
          51.4,
          26.9,
          30.4,
          38.9,
          41.1,
          34,
          27.9,
          30.8,
          33.4,
          26.9,
          24.7,
          38.3,
          29.7,
          26.9,
          34.3,
          37.9,
          22.8,
          27.8,
          30.8,
          34.1,
          37.7,
          34.2,
          32.6,
          29.6,
          30.1,
          35.7,
          42.6,
          37,
          30.2,
          29.3,
          34.1,
          31.4,
          27.1,
          34.6,
          36.9,
          34.5,
          33.6,
          31.1,
          28.5,
          39.9,
          40.4,
          43.6,
          33.6,
          35.4,
          34.7,
          32.6,
          23,
          35.6,
          30.2,
          31.3,
          32.6,
          25.2,
          37.8,
          39.8,
          32,
          34.3,
          38.7,
          26.1,
          32.9,
          26.2,
          30.5,
          25.1,
          26.4,
          34.7,
          41.8,
          40.4,
          33.6,
          34,
          38.1,
          34.7,
          34.9,
          22.1,
          26.3,
          32.5,
          37.3,
          30.7,
          36.9,
          34.6,
          30.2,
          35.8,
          34.6,
          38.7,
          45,
          29.9,
          31.1,
          30.5,
          41.6,
          21.5,
          36,
          31.5,
          41.2,
          42.1,
          38.5,
          38.9,
          34.3,
          35.6,
          28.6,
          46.5,
          41.1,
          33,
          25.4,
          31.2,
          34.3,
          35.1,
          41,
          32.7,
          30.2,
          27.3,
          44.4,
          37.9,
          27.3,
          27.6,
          32.1,
          34.5,
          34.6,
          31.6,
          25,
          40.3,
          39.2,
          25.8,
          30.2,
          28.9,
          26.6,
          35.8,
          39.8,
          38.2,
          34.6,
          24.9,
          25.7,
          37.6,
          30.6,
          42.4,
          28.7,
          28.9,
          30.1,
          33.1,
          26.4,
          35.3,
          22.9,
          38.6,
          36.9,
          27.5,
          29.2,
          26.8,
          26,
          26.5,
          27,
          36.1,
          34.3,
          32.4,
          33,
          33.4,
          32,
          41,
          33.6,
          24.9,
          32.1,
          39.4,
          44.2,
          28.4,
          34.2,
          34,
          24.8,
          38.6,
          27.7,
          35.3,
          40.6,
          29,
          31.9,
          35.1,
          43.2,
          36.2,
          28.5,
          33,
          22.9,
          46,
          44.1,
          40.9,
          32.1,
          47.5,
          37.3,
          36.1,
          25.1,
          30.8,
          23.9,
          18.1,
          29.8,
          31.9,
          37.8,
          26.1,
          31.8,
          17.4,
          27.5,
          28,
          25.8,
          25.2,
          41.5,
          39.6,
          31.3,
          32,
          41.7,
          27.9,
          34.9,
          30.5,
          28.8,
          38.3,
          32,
          33,
          33.2,
          42.2,
          36.7,
          42,
          30.7,
          40,
          35.9,
          34.8,
          28.5,
          41,
          32.2,
          39.3,
          34.7,
          29,
          44.1,
          35.3,
          34.6,
          37.7,
          30.3,
          39.1,
          59,
          45.8,
          45.7,
          32.5,
          37.5,
          37.8,
          39.8,
          39.2,
          37.4,
          22.3,
          29.2,
          32.7,
          35.3,
          0,
          0,
          0,
          0,
          34.5,
          24.8,
          45.5,
          36.3,
          15.4,
          33.1,
          17.7,
          30.1,
          16.1,
          35.8,
          29.6,
          28.4,
          11,
          27.9,
          38.5,
          17.1,
          23.9,
          22.7,
          30.3,
          29.2,
          22.1,
          34.5,
          36,
          31.6,
          24.6,
          40.4,
          31.8,
          36.2,
          41.7,
          35.1,
          35.2,
          23.9,
          29.5,
          33.3,
          27.6,
          27.3,
          31.8,
          27.1,
          22.2,
          33.5,
          36,
          42.5,
          43.8,
          36.5,
          27.6,
          36.7,
          47.3,
          40.3,
          26.8,
          34.6,
          42.9,
          36.6,
          37.6,
          38.2,
          38.9,
          32.4,
          33,
          38.8,
          45.3,
          41.1,
          34.6,
          40.5,
          37,
          29.5,
          25.5,
          27.6,
          35.8,
          36.9,
          35.2,
          30.7,
          44.5,
          35.1,
          34.2,
          25.8,
          26.9,
          32.2,
          30.7,
          28.3,
          30,
          44,
          37.5,
          40.5,
          33.3,
          38.9,
          42.8,
          45.2,
          36.2,
          40.5,
          37.4,
          34.6,
          36,
          31.5,
          37.8,
          33.6,
          38.3,
          32.2,
          40.7,
          46,
          31.6,
          37.4,
          38.2,
          36.4,
          46,
          32.8,
          33.3,
          35,
          44.7,
          44.6,
          34.9,
          44.4,
          35.7,
          29.8,
          39.1,
          29,
          36.3,
          32.4,
          33.8,
          44.3,
          31.7,
          31.7,
          38.6,
          24.2,
          34,
          25.5,
          35.4,
          26.8,
          31.4,
          36.1,
          30.9,
          29.8,
          44.8,
          28.6,
          35.1,
          30.5,
          33.1,
          28.4,
          39.8,
          28.5,
          37.6,
          40.2,
          36.5,
          37.8,
          41.3,
          41.1,
          43,
          34.9,
          28.2,
          40.9,
          34.3,
          43.4,
          34.6,
          35.5,
          33.5,
          27.5,
          37.3,
          45.4,
          29.9,
          41,
          55.1
         ],
         "y0": " ",
         "yaxis": "y"
        }
       ],
       "layout": {
        "legend": {
         "title": {
          "text": "Result"
         },
         "tracegroupgap": 0
        },
        "margin": {
         "t": 60
        },
        "template": {
         "data": {
          "bar": [
           {
            "error_x": {
             "color": "#2a3f5f"
            },
            "error_y": {
             "color": "#2a3f5f"
            },
            "marker": {
             "line": {
              "color": "#E5ECF6",
              "width": 0.5
             },
             "pattern": {
              "fillmode": "overlay",
              "size": 10,
              "solidity": 0.2
             }
            },
            "type": "bar"
           }
          ],
          "barpolar": [
           {
            "marker": {
             "line": {
              "color": "#E5ECF6",
              "width": 0.5
             },
             "pattern": {
              "fillmode": "overlay",
              "size": 10,
              "solidity": 0.2
             }
            },
            "type": "barpolar"
           }
          ],
          "carpet": [
           {
            "aaxis": {
             "endlinecolor": "#2a3f5f",
             "gridcolor": "white",
             "linecolor": "white",
             "minorgridcolor": "white",
             "startlinecolor": "#2a3f5f"
            },
            "baxis": {
             "endlinecolor": "#2a3f5f",
             "gridcolor": "white",
             "linecolor": "white",
             "minorgridcolor": "white",
             "startlinecolor": "#2a3f5f"
            },
            "type": "carpet"
           }
          ],
          "choropleth": [
           {
            "colorbar": {
             "outlinewidth": 0,
             "ticks": ""
            },
            "type": "choropleth"
           }
          ],
          "contour": [
           {
            "colorbar": {
             "outlinewidth": 0,
             "ticks": ""
            },
            "colorscale": [
             [
              0,
              "#0d0887"
             ],
             [
              0.1111111111111111,
              "#46039f"
             ],
             [
              0.2222222222222222,
              "#7201a8"
             ],
             [
              0.3333333333333333,
              "#9c179e"
             ],
             [
              0.4444444444444444,
              "#bd3786"
             ],
             [
              0.5555555555555556,
              "#d8576b"
             ],
             [
              0.6666666666666666,
              "#ed7953"
             ],
             [
              0.7777777777777778,
              "#fb9f3a"
             ],
             [
              0.8888888888888888,
              "#fdca26"
             ],
             [
              1,
              "#f0f921"
             ]
            ],
            "type": "contour"
           }
          ],
          "contourcarpet": [
           {
            "colorbar": {
             "outlinewidth": 0,
             "ticks": ""
            },
            "type": "contourcarpet"
           }
          ],
          "heatmap": [
           {
            "colorbar": {
             "outlinewidth": 0,
             "ticks": ""
            },
            "colorscale": [
             [
              0,
              "#0d0887"
             ],
             [
              0.1111111111111111,
              "#46039f"
             ],
             [
              0.2222222222222222,
              "#7201a8"
             ],
             [
              0.3333333333333333,
              "#9c179e"
             ],
             [
              0.4444444444444444,
              "#bd3786"
             ],
             [
              0.5555555555555556,
              "#d8576b"
             ],
             [
              0.6666666666666666,
              "#ed7953"
             ],
             [
              0.7777777777777778,
              "#fb9f3a"
             ],
             [
              0.8888888888888888,
              "#fdca26"
             ],
             [
              1,
              "#f0f921"
             ]
            ],
            "type": "heatmap"
           }
          ],
          "heatmapgl": [
           {
            "colorbar": {
             "outlinewidth": 0,
             "ticks": ""
            },
            "colorscale": [
             [
              0,
              "#0d0887"
             ],
             [
              0.1111111111111111,
              "#46039f"
             ],
             [
              0.2222222222222222,
              "#7201a8"
             ],
             [
              0.3333333333333333,
              "#9c179e"
             ],
             [
              0.4444444444444444,
              "#bd3786"
             ],
             [
              0.5555555555555556,
              "#d8576b"
             ],
             [
              0.6666666666666666,
              "#ed7953"
             ],
             [
              0.7777777777777778,
              "#fb9f3a"
             ],
             [
              0.8888888888888888,
              "#fdca26"
             ],
             [
              1,
              "#f0f921"
             ]
            ],
            "type": "heatmapgl"
           }
          ],
          "histogram": [
           {
            "marker": {
             "pattern": {
              "fillmode": "overlay",
              "size": 10,
              "solidity": 0.2
             }
            },
            "type": "histogram"
           }
          ],
          "histogram2d": [
           {
            "colorbar": {
             "outlinewidth": 0,
             "ticks": ""
            },
            "colorscale": [
             [
              0,
              "#0d0887"
             ],
             [
              0.1111111111111111,
              "#46039f"
             ],
             [
              0.2222222222222222,
              "#7201a8"
             ],
             [
              0.3333333333333333,
              "#9c179e"
             ],
             [
              0.4444444444444444,
              "#bd3786"
             ],
             [
              0.5555555555555556,
              "#d8576b"
             ],
             [
              0.6666666666666666,
              "#ed7953"
             ],
             [
              0.7777777777777778,
              "#fb9f3a"
             ],
             [
              0.8888888888888888,
              "#fdca26"
             ],
             [
              1,
              "#f0f921"
             ]
            ],
            "type": "histogram2d"
           }
          ],
          "histogram2dcontour": [
           {
            "colorbar": {
             "outlinewidth": 0,
             "ticks": ""
            },
            "colorscale": [
             [
              0,
              "#0d0887"
             ],
             [
              0.1111111111111111,
              "#46039f"
             ],
             [
              0.2222222222222222,
              "#7201a8"
             ],
             [
              0.3333333333333333,
              "#9c179e"
             ],
             [
              0.4444444444444444,
              "#bd3786"
             ],
             [
              0.5555555555555556,
              "#d8576b"
             ],
             [
              0.6666666666666666,
              "#ed7953"
             ],
             [
              0.7777777777777778,
              "#fb9f3a"
             ],
             [
              0.8888888888888888,
              "#fdca26"
             ],
             [
              1,
              "#f0f921"
             ]
            ],
            "type": "histogram2dcontour"
           }
          ],
          "mesh3d": [
           {
            "colorbar": {
             "outlinewidth": 0,
             "ticks": ""
            },
            "type": "mesh3d"
           }
          ],
          "parcoords": [
           {
            "line": {
             "colorbar": {
              "outlinewidth": 0,
              "ticks": ""
             }
            },
            "type": "parcoords"
           }
          ],
          "pie": [
           {
            "automargin": true,
            "type": "pie"
           }
          ],
          "scatter": [
           {
            "fillpattern": {
             "fillmode": "overlay",
             "size": 10,
             "solidity": 0.2
            },
            "type": "scatter"
           }
          ],
          "scatter3d": [
           {
            "line": {
             "colorbar": {
              "outlinewidth": 0,
              "ticks": ""
             }
            },
            "marker": {
             "colorbar": {
              "outlinewidth": 0,
              "ticks": ""
             }
            },
            "type": "scatter3d"
           }
          ],
          "scattercarpet": [
           {
            "marker": {
             "colorbar": {
              "outlinewidth": 0,
              "ticks": ""
             }
            },
            "type": "scattercarpet"
           }
          ],
          "scattergeo": [
           {
            "marker": {
             "colorbar": {
              "outlinewidth": 0,
              "ticks": ""
             }
            },
            "type": "scattergeo"
           }
          ],
          "scattergl": [
           {
            "marker": {
             "colorbar": {
              "outlinewidth": 0,
              "ticks": ""
             }
            },
            "type": "scattergl"
           }
          ],
          "scattermapbox": [
           {
            "marker": {
             "colorbar": {
              "outlinewidth": 0,
              "ticks": ""
             }
            },
            "type": "scattermapbox"
           }
          ],
          "scatterpolar": [
           {
            "marker": {
             "colorbar": {
              "outlinewidth": 0,
              "ticks": ""
             }
            },
            "type": "scatterpolar"
           }
          ],
          "scatterpolargl": [
           {
            "marker": {
             "colorbar": {
              "outlinewidth": 0,
              "ticks": ""
             }
            },
            "type": "scatterpolargl"
           }
          ],
          "scatterternary": [
           {
            "marker": {
             "colorbar": {
              "outlinewidth": 0,
              "ticks": ""
             }
            },
            "type": "scatterternary"
           }
          ],
          "surface": [
           {
            "colorbar": {
             "outlinewidth": 0,
             "ticks": ""
            },
            "colorscale": [
             [
              0,
              "#0d0887"
             ],
             [
              0.1111111111111111,
              "#46039f"
             ],
             [
              0.2222222222222222,
              "#7201a8"
             ],
             [
              0.3333333333333333,
              "#9c179e"
             ],
             [
              0.4444444444444444,
              "#bd3786"
             ],
             [
              0.5555555555555556,
              "#d8576b"
             ],
             [
              0.6666666666666666,
              "#ed7953"
             ],
             [
              0.7777777777777778,
              "#fb9f3a"
             ],
             [
              0.8888888888888888,
              "#fdca26"
             ],
             [
              1,
              "#f0f921"
             ]
            ],
            "type": "surface"
           }
          ],
          "table": [
           {
            "cells": {
             "fill": {
              "color": "#EBF0F8"
             },
             "line": {
              "color": "white"
             }
            },
            "header": {
             "fill": {
              "color": "#C8D4E3"
             },
             "line": {
              "color": "white"
             }
            },
            "type": "table"
           }
          ]
         },
         "layout": {
          "annotationdefaults": {
           "arrowcolor": "#2a3f5f",
           "arrowhead": 0,
           "arrowwidth": 1
          },
          "autotypenumbers": "strict",
          "coloraxis": {
           "colorbar": {
            "outlinewidth": 0,
            "ticks": ""
           }
          },
          "colorscale": {
           "diverging": [
            [
             0,
             "#8e0152"
            ],
            [
             0.1,
             "#c51b7d"
            ],
            [
             0.2,
             "#de77ae"
            ],
            [
             0.3,
             "#f1b6da"
            ],
            [
             0.4,
             "#fde0ef"
            ],
            [
             0.5,
             "#f7f7f7"
            ],
            [
             0.6,
             "#e6f5d0"
            ],
            [
             0.7,
             "#b8e186"
            ],
            [
             0.8,
             "#7fbc41"
            ],
            [
             0.9,
             "#4d9221"
            ],
            [
             1,
             "#276419"
            ]
           ],
           "sequential": [
            [
             0,
             "#0d0887"
            ],
            [
             0.1111111111111111,
             "#46039f"
            ],
            [
             0.2222222222222222,
             "#7201a8"
            ],
            [
             0.3333333333333333,
             "#9c179e"
            ],
            [
             0.4444444444444444,
             "#bd3786"
            ],
            [
             0.5555555555555556,
             "#d8576b"
            ],
            [
             0.6666666666666666,
             "#ed7953"
            ],
            [
             0.7777777777777778,
             "#fb9f3a"
            ],
            [
             0.8888888888888888,
             "#fdca26"
            ],
            [
             1,
             "#f0f921"
            ]
           ],
           "sequentialminus": [
            [
             0,
             "#0d0887"
            ],
            [
             0.1111111111111111,
             "#46039f"
            ],
            [
             0.2222222222222222,
             "#7201a8"
            ],
            [
             0.3333333333333333,
             "#9c179e"
            ],
            [
             0.4444444444444444,
             "#bd3786"
            ],
            [
             0.5555555555555556,
             "#d8576b"
            ],
            [
             0.6666666666666666,
             "#ed7953"
            ],
            [
             0.7777777777777778,
             "#fb9f3a"
            ],
            [
             0.8888888888888888,
             "#fdca26"
            ],
            [
             1,
             "#f0f921"
            ]
           ]
          },
          "colorway": [
           "#636efa",
           "#EF553B",
           "#00cc96",
           "#ab63fa",
           "#FFA15A",
           "#19d3f3",
           "#FF6692",
           "#B6E880",
           "#FF97FF",
           "#FECB52"
          ],
          "font": {
           "color": "#2a3f5f"
          },
          "geo": {
           "bgcolor": "white",
           "lakecolor": "white",
           "landcolor": "#E5ECF6",
           "showlakes": true,
           "showland": true,
           "subunitcolor": "white"
          },
          "hoverlabel": {
           "align": "left"
          },
          "hovermode": "closest",
          "mapbox": {
           "style": "light"
          },
          "paper_bgcolor": "white",
          "plot_bgcolor": "#E5ECF6",
          "polar": {
           "angularaxis": {
            "gridcolor": "white",
            "linecolor": "white",
            "ticks": ""
           },
           "bgcolor": "#E5ECF6",
           "radialaxis": {
            "gridcolor": "white",
            "linecolor": "white",
            "ticks": ""
           }
          },
          "scene": {
           "xaxis": {
            "backgroundcolor": "#E5ECF6",
            "gridcolor": "white",
            "gridwidth": 2,
            "linecolor": "white",
            "showbackground": true,
            "ticks": "",
            "zerolinecolor": "white"
           },
           "yaxis": {
            "backgroundcolor": "#E5ECF6",
            "gridcolor": "white",
            "gridwidth": 2,
            "linecolor": "white",
            "showbackground": true,
            "ticks": "",
            "zerolinecolor": "white"
           },
           "zaxis": {
            "backgroundcolor": "#E5ECF6",
            "gridcolor": "white",
            "gridwidth": 2,
            "linecolor": "white",
            "showbackground": true,
            "ticks": "",
            "zerolinecolor": "white"
           }
          },
          "shapedefaults": {
           "line": {
            "color": "#2a3f5f"
           }
          },
          "ternary": {
           "aaxis": {
            "gridcolor": "white",
            "linecolor": "white",
            "ticks": ""
           },
           "baxis": {
            "gridcolor": "white",
            "linecolor": "white",
            "ticks": ""
           },
           "bgcolor": "#E5ECF6",
           "caxis": {
            "gridcolor": "white",
            "linecolor": "white",
            "ticks": ""
           }
          },
          "title": {
           "x": 0.05
          },
          "xaxis": {
           "automargin": true,
           "gridcolor": "white",
           "linecolor": "white",
           "ticks": "",
           "title": {
            "standoff": 15
           },
           "zerolinecolor": "white",
           "zerolinewidth": 2
          },
          "yaxis": {
           "automargin": true,
           "gridcolor": "white",
           "linecolor": "white",
           "ticks": "",
           "title": {
            "standoff": 15
           },
           "zerolinecolor": "white",
           "zerolinewidth": 2
          }
         }
        },
        "title": {
         "text": "Usage Percentage Based on Game Outcome",
         "x": 0.5
        },
        "violinmode": "group",
        "xaxis": {
         "anchor": "y",
         "domain": [
          0,
          1
         ],
         "title": {
          "text": "Player"
         }
        },
        "yaxis": {
         "anchor": "x",
         "domain": [
          0,
          1
         ],
         "title": {
          "text": "Usage %"
         }
        }
       }
      }
     },
     "metadata": {},
     "output_type": "display_data"
    }
   ],
   "source": [
    "fig = px.violin(df, x=\"Player\", y=\"Usage %\", color=\"Result\", color_discrete_sequence=[\"Indigo\", \"LimeGreen\"])\n",
    "fig.update_layout(title_text='Usage Percentage Based on Game Outcome', title_x=0.5)\n",
    "fig.show()\n",
    "pio.write_image(fig, 'violin.png')"
   ]
  },
  {
   "cell_type": "code",
   "execution_count": 137,
   "metadata": {},
   "outputs": [
    {
     "data": {
      "application/vnd.plotly.v1+json": {
       "config": {
        "plotlyServerURL": "https://plot.ly"
       },
       "data": [
        {
         "alignmentgroup": "True",
         "bingroup": "x",
         "histfunc": "sum",
         "hovertemplate": "Player=%{x}<br>sum of Effective Fg %=%{y}<extra></extra>",
         "legendgroup": "",
         "marker": {
          "color": "Indigo",
          "pattern": {
           "shape": ""
          }
         },
         "name": "",
         "offsetgroup": "",
         "orientation": "v",
         "showlegend": false,
         "type": "histogram",
         "x": [
          "Lebron James",
          "Michael Jordan"
         ],
         "xaxis": "x",
         "y": [
          0.49310377358490565,
          0.5011897233201581
         ],
         "yaxis": "y"
        }
       ],
       "layout": {
        "barmode": "group",
        "height": 400,
        "legend": {
         "tracegroupgap": 0
        },
        "margin": {
         "t": 60
        },
        "template": {
         "data": {
          "bar": [
           {
            "error_x": {
             "color": "#2a3f5f"
            },
            "error_y": {
             "color": "#2a3f5f"
            },
            "marker": {
             "line": {
              "color": "#E5ECF6",
              "width": 0.5
             },
             "pattern": {
              "fillmode": "overlay",
              "size": 10,
              "solidity": 0.2
             }
            },
            "type": "bar"
           }
          ],
          "barpolar": [
           {
            "marker": {
             "line": {
              "color": "#E5ECF6",
              "width": 0.5
             },
             "pattern": {
              "fillmode": "overlay",
              "size": 10,
              "solidity": 0.2
             }
            },
            "type": "barpolar"
           }
          ],
          "carpet": [
           {
            "aaxis": {
             "endlinecolor": "#2a3f5f",
             "gridcolor": "white",
             "linecolor": "white",
             "minorgridcolor": "white",
             "startlinecolor": "#2a3f5f"
            },
            "baxis": {
             "endlinecolor": "#2a3f5f",
             "gridcolor": "white",
             "linecolor": "white",
             "minorgridcolor": "white",
             "startlinecolor": "#2a3f5f"
            },
            "type": "carpet"
           }
          ],
          "choropleth": [
           {
            "colorbar": {
             "outlinewidth": 0,
             "ticks": ""
            },
            "type": "choropleth"
           }
          ],
          "contour": [
           {
            "colorbar": {
             "outlinewidth": 0,
             "ticks": ""
            },
            "colorscale": [
             [
              0,
              "#0d0887"
             ],
             [
              0.1111111111111111,
              "#46039f"
             ],
             [
              0.2222222222222222,
              "#7201a8"
             ],
             [
              0.3333333333333333,
              "#9c179e"
             ],
             [
              0.4444444444444444,
              "#bd3786"
             ],
             [
              0.5555555555555556,
              "#d8576b"
             ],
             [
              0.6666666666666666,
              "#ed7953"
             ],
             [
              0.7777777777777778,
              "#fb9f3a"
             ],
             [
              0.8888888888888888,
              "#fdca26"
             ],
             [
              1,
              "#f0f921"
             ]
            ],
            "type": "contour"
           }
          ],
          "contourcarpet": [
           {
            "colorbar": {
             "outlinewidth": 0,
             "ticks": ""
            },
            "type": "contourcarpet"
           }
          ],
          "heatmap": [
           {
            "colorbar": {
             "outlinewidth": 0,
             "ticks": ""
            },
            "colorscale": [
             [
              0,
              "#0d0887"
             ],
             [
              0.1111111111111111,
              "#46039f"
             ],
             [
              0.2222222222222222,
              "#7201a8"
             ],
             [
              0.3333333333333333,
              "#9c179e"
             ],
             [
              0.4444444444444444,
              "#bd3786"
             ],
             [
              0.5555555555555556,
              "#d8576b"
             ],
             [
              0.6666666666666666,
              "#ed7953"
             ],
             [
              0.7777777777777778,
              "#fb9f3a"
             ],
             [
              0.8888888888888888,
              "#fdca26"
             ],
             [
              1,
              "#f0f921"
             ]
            ],
            "type": "heatmap"
           }
          ],
          "heatmapgl": [
           {
            "colorbar": {
             "outlinewidth": 0,
             "ticks": ""
            },
            "colorscale": [
             [
              0,
              "#0d0887"
             ],
             [
              0.1111111111111111,
              "#46039f"
             ],
             [
              0.2222222222222222,
              "#7201a8"
             ],
             [
              0.3333333333333333,
              "#9c179e"
             ],
             [
              0.4444444444444444,
              "#bd3786"
             ],
             [
              0.5555555555555556,
              "#d8576b"
             ],
             [
              0.6666666666666666,
              "#ed7953"
             ],
             [
              0.7777777777777778,
              "#fb9f3a"
             ],
             [
              0.8888888888888888,
              "#fdca26"
             ],
             [
              1,
              "#f0f921"
             ]
            ],
            "type": "heatmapgl"
           }
          ],
          "histogram": [
           {
            "marker": {
             "pattern": {
              "fillmode": "overlay",
              "size": 10,
              "solidity": 0.2
             }
            },
            "type": "histogram"
           }
          ],
          "histogram2d": [
           {
            "colorbar": {
             "outlinewidth": 0,
             "ticks": ""
            },
            "colorscale": [
             [
              0,
              "#0d0887"
             ],
             [
              0.1111111111111111,
              "#46039f"
             ],
             [
              0.2222222222222222,
              "#7201a8"
             ],
             [
              0.3333333333333333,
              "#9c179e"
             ],
             [
              0.4444444444444444,
              "#bd3786"
             ],
             [
              0.5555555555555556,
              "#d8576b"
             ],
             [
              0.6666666666666666,
              "#ed7953"
             ],
             [
              0.7777777777777778,
              "#fb9f3a"
             ],
             [
              0.8888888888888888,
              "#fdca26"
             ],
             [
              1,
              "#f0f921"
             ]
            ],
            "type": "histogram2d"
           }
          ],
          "histogram2dcontour": [
           {
            "colorbar": {
             "outlinewidth": 0,
             "ticks": ""
            },
            "colorscale": [
             [
              0,
              "#0d0887"
             ],
             [
              0.1111111111111111,
              "#46039f"
             ],
             [
              0.2222222222222222,
              "#7201a8"
             ],
             [
              0.3333333333333333,
              "#9c179e"
             ],
             [
              0.4444444444444444,
              "#bd3786"
             ],
             [
              0.5555555555555556,
              "#d8576b"
             ],
             [
              0.6666666666666666,
              "#ed7953"
             ],
             [
              0.7777777777777778,
              "#fb9f3a"
             ],
             [
              0.8888888888888888,
              "#fdca26"
             ],
             [
              1,
              "#f0f921"
             ]
            ],
            "type": "histogram2dcontour"
           }
          ],
          "mesh3d": [
           {
            "colorbar": {
             "outlinewidth": 0,
             "ticks": ""
            },
            "type": "mesh3d"
           }
          ],
          "parcoords": [
           {
            "line": {
             "colorbar": {
              "outlinewidth": 0,
              "ticks": ""
             }
            },
            "type": "parcoords"
           }
          ],
          "pie": [
           {
            "automargin": true,
            "type": "pie"
           }
          ],
          "scatter": [
           {
            "fillpattern": {
             "fillmode": "overlay",
             "size": 10,
             "solidity": 0.2
            },
            "type": "scatter"
           }
          ],
          "scatter3d": [
           {
            "line": {
             "colorbar": {
              "outlinewidth": 0,
              "ticks": ""
             }
            },
            "marker": {
             "colorbar": {
              "outlinewidth": 0,
              "ticks": ""
             }
            },
            "type": "scatter3d"
           }
          ],
          "scattercarpet": [
           {
            "marker": {
             "colorbar": {
              "outlinewidth": 0,
              "ticks": ""
             }
            },
            "type": "scattercarpet"
           }
          ],
          "scattergeo": [
           {
            "marker": {
             "colorbar": {
              "outlinewidth": 0,
              "ticks": ""
             }
            },
            "type": "scattergeo"
           }
          ],
          "scattergl": [
           {
            "marker": {
             "colorbar": {
              "outlinewidth": 0,
              "ticks": ""
             }
            },
            "type": "scattergl"
           }
          ],
          "scattermapbox": [
           {
            "marker": {
             "colorbar": {
              "outlinewidth": 0,
              "ticks": ""
             }
            },
            "type": "scattermapbox"
           }
          ],
          "scatterpolar": [
           {
            "marker": {
             "colorbar": {
              "outlinewidth": 0,
              "ticks": ""
             }
            },
            "type": "scatterpolar"
           }
          ],
          "scatterpolargl": [
           {
            "marker": {
             "colorbar": {
              "outlinewidth": 0,
              "ticks": ""
             }
            },
            "type": "scatterpolargl"
           }
          ],
          "scatterternary": [
           {
            "marker": {
             "colorbar": {
              "outlinewidth": 0,
              "ticks": ""
             }
            },
            "type": "scatterternary"
           }
          ],
          "surface": [
           {
            "colorbar": {
             "outlinewidth": 0,
             "ticks": ""
            },
            "colorscale": [
             [
              0,
              "#0d0887"
             ],
             [
              0.1111111111111111,
              "#46039f"
             ],
             [
              0.2222222222222222,
              "#7201a8"
             ],
             [
              0.3333333333333333,
              "#9c179e"
             ],
             [
              0.4444444444444444,
              "#bd3786"
             ],
             [
              0.5555555555555556,
              "#d8576b"
             ],
             [
              0.6666666666666666,
              "#ed7953"
             ],
             [
              0.7777777777777778,
              "#fb9f3a"
             ],
             [
              0.8888888888888888,
              "#fdca26"
             ],
             [
              1,
              "#f0f921"
             ]
            ],
            "type": "surface"
           }
          ],
          "table": [
           {
            "cells": {
             "fill": {
              "color": "#EBF0F8"
             },
             "line": {
              "color": "white"
             }
            },
            "header": {
             "fill": {
              "color": "#C8D4E3"
             },
             "line": {
              "color": "white"
             }
            },
            "type": "table"
           }
          ]
         },
         "layout": {
          "annotationdefaults": {
           "arrowcolor": "#2a3f5f",
           "arrowhead": 0,
           "arrowwidth": 1
          },
          "autotypenumbers": "strict",
          "coloraxis": {
           "colorbar": {
            "outlinewidth": 0,
            "ticks": ""
           }
          },
          "colorscale": {
           "diverging": [
            [
             0,
             "#8e0152"
            ],
            [
             0.1,
             "#c51b7d"
            ],
            [
             0.2,
             "#de77ae"
            ],
            [
             0.3,
             "#f1b6da"
            ],
            [
             0.4,
             "#fde0ef"
            ],
            [
             0.5,
             "#f7f7f7"
            ],
            [
             0.6,
             "#e6f5d0"
            ],
            [
             0.7,
             "#b8e186"
            ],
            [
             0.8,
             "#7fbc41"
            ],
            [
             0.9,
             "#4d9221"
            ],
            [
             1,
             "#276419"
            ]
           ],
           "sequential": [
            [
             0,
             "#0d0887"
            ],
            [
             0.1111111111111111,
             "#46039f"
            ],
            [
             0.2222222222222222,
             "#7201a8"
            ],
            [
             0.3333333333333333,
             "#9c179e"
            ],
            [
             0.4444444444444444,
             "#bd3786"
            ],
            [
             0.5555555555555556,
             "#d8576b"
            ],
            [
             0.6666666666666666,
             "#ed7953"
            ],
            [
             0.7777777777777778,
             "#fb9f3a"
            ],
            [
             0.8888888888888888,
             "#fdca26"
            ],
            [
             1,
             "#f0f921"
            ]
           ],
           "sequentialminus": [
            [
             0,
             "#0d0887"
            ],
            [
             0.1111111111111111,
             "#46039f"
            ],
            [
             0.2222222222222222,
             "#7201a8"
            ],
            [
             0.3333333333333333,
             "#9c179e"
            ],
            [
             0.4444444444444444,
             "#bd3786"
            ],
            [
             0.5555555555555556,
             "#d8576b"
            ],
            [
             0.6666666666666666,
             "#ed7953"
            ],
            [
             0.7777777777777778,
             "#fb9f3a"
            ],
            [
             0.8888888888888888,
             "#fdca26"
            ],
            [
             1,
             "#f0f921"
            ]
           ]
          },
          "colorway": [
           "#636efa",
           "#EF553B",
           "#00cc96",
           "#ab63fa",
           "#FFA15A",
           "#19d3f3",
           "#FF6692",
           "#B6E880",
           "#FF97FF",
           "#FECB52"
          ],
          "font": {
           "color": "#2a3f5f"
          },
          "geo": {
           "bgcolor": "white",
           "lakecolor": "white",
           "landcolor": "#E5ECF6",
           "showlakes": true,
           "showland": true,
           "subunitcolor": "white"
          },
          "hoverlabel": {
           "align": "left"
          },
          "hovermode": "closest",
          "mapbox": {
           "style": "light"
          },
          "paper_bgcolor": "white",
          "plot_bgcolor": "#E5ECF6",
          "polar": {
           "angularaxis": {
            "gridcolor": "white",
            "linecolor": "white",
            "ticks": ""
           },
           "bgcolor": "#E5ECF6",
           "radialaxis": {
            "gridcolor": "white",
            "linecolor": "white",
            "ticks": ""
           }
          },
          "scene": {
           "xaxis": {
            "backgroundcolor": "#E5ECF6",
            "gridcolor": "white",
            "gridwidth": 2,
            "linecolor": "white",
            "showbackground": true,
            "ticks": "",
            "zerolinecolor": "white"
           },
           "yaxis": {
            "backgroundcolor": "#E5ECF6",
            "gridcolor": "white",
            "gridwidth": 2,
            "linecolor": "white",
            "showbackground": true,
            "ticks": "",
            "zerolinecolor": "white"
           },
           "zaxis": {
            "backgroundcolor": "#E5ECF6",
            "gridcolor": "white",
            "gridwidth": 2,
            "linecolor": "white",
            "showbackground": true,
            "ticks": "",
            "zerolinecolor": "white"
           }
          },
          "shapedefaults": {
           "line": {
            "color": "#2a3f5f"
           }
          },
          "ternary": {
           "aaxis": {
            "gridcolor": "white",
            "linecolor": "white",
            "ticks": ""
           },
           "baxis": {
            "gridcolor": "white",
            "linecolor": "white",
            "ticks": ""
           },
           "bgcolor": "#E5ECF6",
           "caxis": {
            "gridcolor": "white",
            "linecolor": "white",
            "ticks": ""
           }
          },
          "title": {
           "x": 0.05
          },
          "xaxis": {
           "automargin": true,
           "gridcolor": "white",
           "linecolor": "white",
           "ticks": "",
           "title": {
            "standoff": 15
           },
           "zerolinecolor": "white",
           "zerolinewidth": 2
          },
          "yaxis": {
           "automargin": true,
           "gridcolor": "white",
           "linecolor": "white",
           "ticks": "",
           "title": {
            "standoff": 15
           },
           "zerolinecolor": "white",
           "zerolinewidth": 2
          }
         }
        },
        "title": {
         "text": "Career Average Effective Field Goal Percentage",
         "x": 0.5
        },
        "xaxis": {
         "anchor": "y",
         "domain": [
          0,
          1
         ],
         "title": {
          "text": "Player"
         }
        },
        "yaxis": {
         "anchor": "x",
         "domain": [
          0,
          1
         ],
         "title": {
          "text": "Effective FG %"
         }
        }
       }
      }
     },
     "metadata": {},
     "output_type": "display_data"
    }
   ],
   "source": [
    "result_df = df.groupby(['Player']).agg({'Effective Fg %': 'mean'}).reset_index()\n",
    "fig = px.histogram(result_df, x=\"Player\", y=\"Effective Fg %\",\n",
    "             barmode='group',\n",
    "             height=400, color_discrete_sequence=[\"Indigo\", \"SpringGreen\"])\n",
    "fig.update_layout(title_text='Career Average Effective Field Goal Percentage', title_x=0.5,yaxis=dict(title='Effective FG %'))\n",
    "fig.show()\n",
    "pio.write_image(fig, 'efg.png')"
   ]
  },
  {
   "cell_type": "code",
   "execution_count": 10,
   "metadata": {},
   "outputs": [
    {
     "data": {
      "text/html": [
       "<div>\n",
       "<style scoped>\n",
       "    .dataframe tbody tr th:only-of-type {\n",
       "        vertical-align: middle;\n",
       "    }\n",
       "\n",
       "    .dataframe tbody tr th {\n",
       "        vertical-align: top;\n",
       "    }\n",
       "\n",
       "    .dataframe thead th {\n",
       "        text-align: right;\n",
       "    }\n",
       "</style>\n",
       "<table border=\"1\" class=\"dataframe\">\n",
       "  <thead>\n",
       "    <tr style=\"text-align: right;\">\n",
       "      <th></th>\n",
       "      <th>Player</th>\n",
       "      <th>Opp Team</th>\n",
       "      <th>Points</th>\n",
       "    </tr>\n",
       "  </thead>\n",
       "  <tbody>\n",
       "    <tr>\n",
       "      <th>21</th>\n",
       "      <td>Lebron James</td>\n",
       "      <td>NOK</td>\n",
       "      <td>28.250000</td>\n",
       "    </tr>\n",
       "    <tr>\n",
       "      <th>14</th>\n",
       "      <td>Lebron James</td>\n",
       "      <td>LAL</td>\n",
       "      <td>27.633333</td>\n",
       "    </tr>\n",
       "    <tr>\n",
       "      <th>1</th>\n",
       "      <td>Lebron James</td>\n",
       "      <td>BOS</td>\n",
       "      <td>27.349057</td>\n",
       "    </tr>\n",
       "    <tr>\n",
       "      <th>12</th>\n",
       "      <td>Lebron James</td>\n",
       "      <td>IND</td>\n",
       "      <td>26.887755</td>\n",
       "    </tr>\n",
       "    <tr>\n",
       "      <th>19</th>\n",
       "      <td>Lebron James</td>\n",
       "      <td>NJN</td>\n",
       "      <td>26.783784</td>\n",
       "    </tr>\n",
       "    <tr>\n",
       "      <th>58</th>\n",
       "      <td>Michael Jordan</td>\n",
       "      <td>PHO</td>\n",
       "      <td>34.096774</td>\n",
       "    </tr>\n",
       "    <tr>\n",
       "      <th>64</th>\n",
       "      <td>Michael Jordan</td>\n",
       "      <td>UTA</td>\n",
       "      <td>32.763158</td>\n",
       "    </tr>\n",
       "    <tr>\n",
       "      <th>51</th>\n",
       "      <td>Michael Jordan</td>\n",
       "      <td>MIL</td>\n",
       "      <td>32.337838</td>\n",
       "    </tr>\n",
       "    <tr>\n",
       "      <th>59</th>\n",
       "      <td>Michael Jordan</td>\n",
       "      <td>POR</td>\n",
       "      <td>32.218750</td>\n",
       "    </tr>\n",
       "    <tr>\n",
       "      <th>39</th>\n",
       "      <td>Michael Jordan</td>\n",
       "      <td>CLE</td>\n",
       "      <td>32.034483</td>\n",
       "    </tr>\n",
       "  </tbody>\n",
       "</table>\n",
       "</div>"
      ],
      "text/plain": [
       "            Player Opp Team     Points\n",
       "21    Lebron James      NOK  28.250000\n",
       "14    Lebron James      LAL  27.633333\n",
       "1     Lebron James      BOS  27.349057\n",
       "12    Lebron James      IND  26.887755\n",
       "19    Lebron James      NJN  26.783784\n",
       "58  Michael Jordan      PHO  34.096774\n",
       "64  Michael Jordan      UTA  32.763158\n",
       "51  Michael Jordan      MIL  32.337838\n",
       "59  Michael Jordan      POR  32.218750\n",
       "39  Michael Jordan      CLE  32.034483"
      ]
     },
     "execution_count": 10,
     "metadata": {},
     "output_type": "execute_result"
    }
   ],
   "source": [
    "result_df = df.groupby(['Player', 'Opp Team']).agg({'Points': 'mean'}).reset_index()\n",
    "result_df= result_df.sort_values(by=['Player', 'Points'], ascending=[True, False])\n",
    "result_df = result_df.groupby('Player').head(5)\n",
    "result_df\n"
   ]
  },
  {
   "cell_type": "code",
   "execution_count": null,
   "metadata": {},
   "outputs": [],
   "source": [
    "result_df = df.groupby(['Player', 'Opp Team']).agg({'Points': 'mean'}).reset_index()\n",
    "result_df= result_df.sort_values(by=['Player', 'Points'], ascending=[True, False])\n",
    "result_df = result_df.groupby('Player').tail(5)\n",
    "result_df"
   ]
  },
  {
   "cell_type": "code",
   "execution_count": 24,
   "metadata": {},
   "outputs": [
    {
     "data": {
      "text/html": [
       "<div>\n",
       "<style scoped>\n",
       "    .dataframe tbody tr th:only-of-type {\n",
       "        vertical-align: middle;\n",
       "    }\n",
       "\n",
       "    .dataframe tbody tr th {\n",
       "        vertical-align: top;\n",
       "    }\n",
       "\n",
       "    .dataframe thead th {\n",
       "        text-align: right;\n",
       "    }\n",
       "</style>\n",
       "<table border=\"1\" class=\"dataframe\">\n",
       "  <thead>\n",
       "    <tr style=\"text-align: right;\">\n",
       "      <th></th>\n",
       "      <th>Season</th>\n",
       "      <th>Player</th>\n",
       "      <th>Playoffs</th>\n",
       "      <th>Points</th>\n",
       "    </tr>\n",
       "  </thead>\n",
       "  <tbody>\n",
       "    <tr>\n",
       "      <th>28</th>\n",
       "      <td>2003-2004</td>\n",
       "      <td>Lebron James</td>\n",
       "      <td>False</td>\n",
       "      <td>20.170732</td>\n",
       "    </tr>\n",
       "    <tr>\n",
       "      <th>29</th>\n",
       "      <td>2004-2005</td>\n",
       "      <td>Lebron James</td>\n",
       "      <td>False</td>\n",
       "      <td>26.524390</td>\n",
       "    </tr>\n",
       "    <tr>\n",
       "      <th>30</th>\n",
       "      <td>2005-2006</td>\n",
       "      <td>Lebron James</td>\n",
       "      <td>False</td>\n",
       "      <td>30.219512</td>\n",
       "    </tr>\n",
       "    <tr>\n",
       "      <th>32</th>\n",
       "      <td>2006-2007</td>\n",
       "      <td>Lebron James</td>\n",
       "      <td>False</td>\n",
       "      <td>26.000000</td>\n",
       "    </tr>\n",
       "    <tr>\n",
       "      <th>34</th>\n",
       "      <td>2007-2008</td>\n",
       "      <td>Lebron James</td>\n",
       "      <td>False</td>\n",
       "      <td>27.439024</td>\n",
       "    </tr>\n",
       "    <tr>\n",
       "      <th>36</th>\n",
       "      <td>2008-2009</td>\n",
       "      <td>Lebron James</td>\n",
       "      <td>False</td>\n",
       "      <td>28.097561</td>\n",
       "    </tr>\n",
       "    <tr>\n",
       "      <th>38</th>\n",
       "      <td>2009-2010</td>\n",
       "      <td>Lebron James</td>\n",
       "      <td>False</td>\n",
       "      <td>27.536585</td>\n",
       "    </tr>\n",
       "    <tr>\n",
       "      <th>40</th>\n",
       "      <td>2010-2011</td>\n",
       "      <td>Lebron James</td>\n",
       "      <td>False</td>\n",
       "      <td>25.743902</td>\n",
       "    </tr>\n",
       "    <tr>\n",
       "      <th>42</th>\n",
       "      <td>2011-2012</td>\n",
       "      <td>Lebron James</td>\n",
       "      <td>False</td>\n",
       "      <td>25.500000</td>\n",
       "    </tr>\n",
       "    <tr>\n",
       "      <th>44</th>\n",
       "      <td>2012-2013</td>\n",
       "      <td>Lebron James</td>\n",
       "      <td>False</td>\n",
       "      <td>24.829268</td>\n",
       "    </tr>\n",
       "    <tr>\n",
       "      <th>46</th>\n",
       "      <td>2013-2014</td>\n",
       "      <td>Lebron James</td>\n",
       "      <td>False</td>\n",
       "      <td>25.475610</td>\n",
       "    </tr>\n",
       "    <tr>\n",
       "      <th>48</th>\n",
       "      <td>2014-2015</td>\n",
       "      <td>Lebron James</td>\n",
       "      <td>False</td>\n",
       "      <td>21.256098</td>\n",
       "    </tr>\n",
       "    <tr>\n",
       "      <th>50</th>\n",
       "      <td>2015-2016</td>\n",
       "      <td>Lebron James</td>\n",
       "      <td>False</td>\n",
       "      <td>23.414634</td>\n",
       "    </tr>\n",
       "    <tr>\n",
       "      <th>52</th>\n",
       "      <td>2016-2017</td>\n",
       "      <td>Lebron James</td>\n",
       "      <td>False</td>\n",
       "      <td>23.829268</td>\n",
       "    </tr>\n",
       "    <tr>\n",
       "      <th>54</th>\n",
       "      <td>2017-2018</td>\n",
       "      <td>Lebron James</td>\n",
       "      <td>False</td>\n",
       "      <td>27.451220</td>\n",
       "    </tr>\n",
       "    <tr>\n",
       "      <th>56</th>\n",
       "      <td>2018-2019</td>\n",
       "      <td>Lebron James</td>\n",
       "      <td>False</td>\n",
       "      <td>18.353659</td>\n",
       "    </tr>\n",
       "    <tr>\n",
       "      <th>57</th>\n",
       "      <td>2019-2020</td>\n",
       "      <td>Lebron James</td>\n",
       "      <td>False</td>\n",
       "      <td>23.915493</td>\n",
       "    </tr>\n",
       "    <tr>\n",
       "      <th>59</th>\n",
       "      <td>2020-2021</td>\n",
       "      <td>Lebron James</td>\n",
       "      <td>False</td>\n",
       "      <td>15.638889</td>\n",
       "    </tr>\n",
       "    <tr>\n",
       "      <th>61</th>\n",
       "      <td>2021-2022</td>\n",
       "      <td>Lebron James</td>\n",
       "      <td>False</td>\n",
       "      <td>20.670732</td>\n",
       "    </tr>\n",
       "    <tr>\n",
       "      <th>62</th>\n",
       "      <td>2022-2023</td>\n",
       "      <td>Lebron James</td>\n",
       "      <td>False</td>\n",
       "      <td>19.390244</td>\n",
       "    </tr>\n",
       "    <tr>\n",
       "      <th>64</th>\n",
       "      <td>2023-2024</td>\n",
       "      <td>Lebron James</td>\n",
       "      <td>False</td>\n",
       "      <td>23.869565</td>\n",
       "    </tr>\n",
       "    <tr>\n",
       "      <th>31</th>\n",
       "      <td>2005-2006</td>\n",
       "      <td>Lebron James</td>\n",
       "      <td>True</td>\n",
       "      <td>30.769231</td>\n",
       "    </tr>\n",
       "    <tr>\n",
       "      <th>33</th>\n",
       "      <td>2006-2007</td>\n",
       "      <td>Lebron James</td>\n",
       "      <td>True</td>\n",
       "      <td>25.050000</td>\n",
       "    </tr>\n",
       "    <tr>\n",
       "      <th>35</th>\n",
       "      <td>2007-2008</td>\n",
       "      <td>Lebron James</td>\n",
       "      <td>True</td>\n",
       "      <td>28.153846</td>\n",
       "    </tr>\n",
       "    <tr>\n",
       "      <th>37</th>\n",
       "      <td>2008-2009</td>\n",
       "      <td>Lebron James</td>\n",
       "      <td>True</td>\n",
       "      <td>35.285714</td>\n",
       "    </tr>\n",
       "    <tr>\n",
       "      <th>39</th>\n",
       "      <td>2009-2010</td>\n",
       "      <td>Lebron James</td>\n",
       "      <td>True</td>\n",
       "      <td>29.090909</td>\n",
       "    </tr>\n",
       "    <tr>\n",
       "      <th>41</th>\n",
       "      <td>2010-2011</td>\n",
       "      <td>Lebron James</td>\n",
       "      <td>True</td>\n",
       "      <td>23.666667</td>\n",
       "    </tr>\n",
       "    <tr>\n",
       "      <th>43</th>\n",
       "      <td>2011-2012</td>\n",
       "      <td>Lebron James</td>\n",
       "      <td>True</td>\n",
       "      <td>30.304348</td>\n",
       "    </tr>\n",
       "    <tr>\n",
       "      <th>45</th>\n",
       "      <td>2012-2013</td>\n",
       "      <td>Lebron James</td>\n",
       "      <td>True</td>\n",
       "      <td>25.913043</td>\n",
       "    </tr>\n",
       "    <tr>\n",
       "      <th>47</th>\n",
       "      <td>2013-2014</td>\n",
       "      <td>Lebron James</td>\n",
       "      <td>True</td>\n",
       "      <td>27.400000</td>\n",
       "    </tr>\n",
       "    <tr>\n",
       "      <th>49</th>\n",
       "      <td>2014-2015</td>\n",
       "      <td>Lebron James</td>\n",
       "      <td>True</td>\n",
       "      <td>30.050000</td>\n",
       "    </tr>\n",
       "    <tr>\n",
       "      <th>51</th>\n",
       "      <td>2015-2016</td>\n",
       "      <td>Lebron James</td>\n",
       "      <td>True</td>\n",
       "      <td>26.285714</td>\n",
       "    </tr>\n",
       "    <tr>\n",
       "      <th>53</th>\n",
       "      <td>2016-2017</td>\n",
       "      <td>Lebron James</td>\n",
       "      <td>True</td>\n",
       "      <td>32.833333</td>\n",
       "    </tr>\n",
       "    <tr>\n",
       "      <th>55</th>\n",
       "      <td>2017-2018</td>\n",
       "      <td>Lebron James</td>\n",
       "      <td>True</td>\n",
       "      <td>34.000000</td>\n",
       "    </tr>\n",
       "    <tr>\n",
       "      <th>58</th>\n",
       "      <td>2019-2020</td>\n",
       "      <td>Lebron James</td>\n",
       "      <td>True</td>\n",
       "      <td>27.619048</td>\n",
       "    </tr>\n",
       "    <tr>\n",
       "      <th>60</th>\n",
       "      <td>2020-2021</td>\n",
       "      <td>Lebron James</td>\n",
       "      <td>True</td>\n",
       "      <td>23.333333</td>\n",
       "    </tr>\n",
       "    <tr>\n",
       "      <th>63</th>\n",
       "      <td>2022-2023</td>\n",
       "      <td>Lebron James</td>\n",
       "      <td>True</td>\n",
       "      <td>24.500000</td>\n",
       "    </tr>\n",
       "    <tr>\n",
       "      <th>0</th>\n",
       "      <td>1984-1985</td>\n",
       "      <td>Michael Jordan</td>\n",
       "      <td>False</td>\n",
       "      <td>28.207317</td>\n",
       "    </tr>\n",
       "    <tr>\n",
       "      <th>2</th>\n",
       "      <td>1985-1986</td>\n",
       "      <td>Michael Jordan</td>\n",
       "      <td>False</td>\n",
       "      <td>22.666667</td>\n",
       "    </tr>\n",
       "    <tr>\n",
       "      <th>4</th>\n",
       "      <td>1986-1987</td>\n",
       "      <td>Michael Jordan</td>\n",
       "      <td>False</td>\n",
       "      <td>37.085366</td>\n",
       "    </tr>\n",
       "    <tr>\n",
       "      <th>6</th>\n",
       "      <td>1987-1988</td>\n",
       "      <td>Michael Jordan</td>\n",
       "      <td>False</td>\n",
       "      <td>34.975610</td>\n",
       "    </tr>\n",
       "    <tr>\n",
       "      <th>8</th>\n",
       "      <td>1988-1989</td>\n",
       "      <td>Michael Jordan</td>\n",
       "      <td>False</td>\n",
       "      <td>32.506173</td>\n",
       "    </tr>\n",
       "    <tr>\n",
       "      <th>10</th>\n",
       "      <td>1989-1990</td>\n",
       "      <td>Michael Jordan</td>\n",
       "      <td>False</td>\n",
       "      <td>33.573171</td>\n",
       "    </tr>\n",
       "    <tr>\n",
       "      <th>12</th>\n",
       "      <td>1990-1991</td>\n",
       "      <td>Michael Jordan</td>\n",
       "      <td>False</td>\n",
       "      <td>31.463415</td>\n",
       "    </tr>\n",
       "    <tr>\n",
       "      <th>14</th>\n",
       "      <td>1991-1992</td>\n",
       "      <td>Michael Jordan</td>\n",
       "      <td>False</td>\n",
       "      <td>30.050000</td>\n",
       "    </tr>\n",
       "    <tr>\n",
       "      <th>16</th>\n",
       "      <td>1992-1993</td>\n",
       "      <td>Michael Jordan</td>\n",
       "      <td>False</td>\n",
       "      <td>32.576923</td>\n",
       "    </tr>\n",
       "    <tr>\n",
       "      <th>18</th>\n",
       "      <td>1994-1995</td>\n",
       "      <td>Michael Jordan</td>\n",
       "      <td>False</td>\n",
       "      <td>26.882353</td>\n",
       "    </tr>\n",
       "    <tr>\n",
       "      <th>20</th>\n",
       "      <td>1995-1996</td>\n",
       "      <td>Michael Jordan</td>\n",
       "      <td>False</td>\n",
       "      <td>30.378049</td>\n",
       "    </tr>\n",
       "    <tr>\n",
       "      <th>22</th>\n",
       "      <td>1996-1997</td>\n",
       "      <td>Michael Jordan</td>\n",
       "      <td>False</td>\n",
       "      <td>29.646341</td>\n",
       "    </tr>\n",
       "    <tr>\n",
       "      <th>24</th>\n",
       "      <td>1997-1998</td>\n",
       "      <td>Michael Jordan</td>\n",
       "      <td>False</td>\n",
       "      <td>28.743902</td>\n",
       "    </tr>\n",
       "    <tr>\n",
       "      <th>26</th>\n",
       "      <td>2001-2002</td>\n",
       "      <td>Michael Jordan</td>\n",
       "      <td>False</td>\n",
       "      <td>18.581081</td>\n",
       "    </tr>\n",
       "    <tr>\n",
       "      <th>27</th>\n",
       "      <td>2002-2003</td>\n",
       "      <td>Michael Jordan</td>\n",
       "      <td>False</td>\n",
       "      <td>20.000000</td>\n",
       "    </tr>\n",
       "    <tr>\n",
       "      <th>1</th>\n",
       "      <td>1984-1985</td>\n",
       "      <td>Michael Jordan</td>\n",
       "      <td>True</td>\n",
       "      <td>29.250000</td>\n",
       "    </tr>\n",
       "    <tr>\n",
       "      <th>3</th>\n",
       "      <td>1985-1986</td>\n",
       "      <td>Michael Jordan</td>\n",
       "      <td>True</td>\n",
       "      <td>43.666667</td>\n",
       "    </tr>\n",
       "    <tr>\n",
       "      <th>5</th>\n",
       "      <td>1986-1987</td>\n",
       "      <td>Michael Jordan</td>\n",
       "      <td>True</td>\n",
       "      <td>35.666667</td>\n",
       "    </tr>\n",
       "    <tr>\n",
       "      <th>7</th>\n",
       "      <td>1987-1988</td>\n",
       "      <td>Michael Jordan</td>\n",
       "      <td>True</td>\n",
       "      <td>36.300000</td>\n",
       "    </tr>\n",
       "    <tr>\n",
       "      <th>9</th>\n",
       "      <td>1988-1989</td>\n",
       "      <td>Michael Jordan</td>\n",
       "      <td>True</td>\n",
       "      <td>34.764706</td>\n",
       "    </tr>\n",
       "    <tr>\n",
       "      <th>11</th>\n",
       "      <td>1989-1990</td>\n",
       "      <td>Michael Jordan</td>\n",
       "      <td>True</td>\n",
       "      <td>36.687500</td>\n",
       "    </tr>\n",
       "    <tr>\n",
       "      <th>13</th>\n",
       "      <td>1990-1991</td>\n",
       "      <td>Michael Jordan</td>\n",
       "      <td>True</td>\n",
       "      <td>31.117647</td>\n",
       "    </tr>\n",
       "    <tr>\n",
       "      <th>15</th>\n",
       "      <td>1991-1992</td>\n",
       "      <td>Michael Jordan</td>\n",
       "      <td>True</td>\n",
       "      <td>34.500000</td>\n",
       "    </tr>\n",
       "    <tr>\n",
       "      <th>17</th>\n",
       "      <td>1992-1993</td>\n",
       "      <td>Michael Jordan</td>\n",
       "      <td>True</td>\n",
       "      <td>35.052632</td>\n",
       "    </tr>\n",
       "    <tr>\n",
       "      <th>19</th>\n",
       "      <td>1994-1995</td>\n",
       "      <td>Michael Jordan</td>\n",
       "      <td>True</td>\n",
       "      <td>31.500000</td>\n",
       "    </tr>\n",
       "    <tr>\n",
       "      <th>21</th>\n",
       "      <td>1995-1996</td>\n",
       "      <td>Michael Jordan</td>\n",
       "      <td>True</td>\n",
       "      <td>30.666667</td>\n",
       "    </tr>\n",
       "    <tr>\n",
       "      <th>23</th>\n",
       "      <td>1996-1997</td>\n",
       "      <td>Michael Jordan</td>\n",
       "      <td>True</td>\n",
       "      <td>31.052632</td>\n",
       "    </tr>\n",
       "    <tr>\n",
       "      <th>25</th>\n",
       "      <td>1997-1998</td>\n",
       "      <td>Michael Jordan</td>\n",
       "      <td>True</td>\n",
       "      <td>32.380952</td>\n",
       "    </tr>\n",
       "  </tbody>\n",
       "</table>\n",
       "</div>"
      ],
      "text/plain": [
       "       Season          Player  Playoffs     Points\n",
       "28  2003-2004    Lebron James     False  20.170732\n",
       "29  2004-2005    Lebron James     False  26.524390\n",
       "30  2005-2006    Lebron James     False  30.219512\n",
       "32  2006-2007    Lebron James     False  26.000000\n",
       "34  2007-2008    Lebron James     False  27.439024\n",
       "36  2008-2009    Lebron James     False  28.097561\n",
       "38  2009-2010    Lebron James     False  27.536585\n",
       "40  2010-2011    Lebron James     False  25.743902\n",
       "42  2011-2012    Lebron James     False  25.500000\n",
       "44  2012-2013    Lebron James     False  24.829268\n",
       "46  2013-2014    Lebron James     False  25.475610\n",
       "48  2014-2015    Lebron James     False  21.256098\n",
       "50  2015-2016    Lebron James     False  23.414634\n",
       "52  2016-2017    Lebron James     False  23.829268\n",
       "54  2017-2018    Lebron James     False  27.451220\n",
       "56  2018-2019    Lebron James     False  18.353659\n",
       "57  2019-2020    Lebron James     False  23.915493\n",
       "59  2020-2021    Lebron James     False  15.638889\n",
       "61  2021-2022    Lebron James     False  20.670732\n",
       "62  2022-2023    Lebron James     False  19.390244\n",
       "64  2023-2024    Lebron James     False  23.869565\n",
       "31  2005-2006    Lebron James      True  30.769231\n",
       "33  2006-2007    Lebron James      True  25.050000\n",
       "35  2007-2008    Lebron James      True  28.153846\n",
       "37  2008-2009    Lebron James      True  35.285714\n",
       "39  2009-2010    Lebron James      True  29.090909\n",
       "41  2010-2011    Lebron James      True  23.666667\n",
       "43  2011-2012    Lebron James      True  30.304348\n",
       "45  2012-2013    Lebron James      True  25.913043\n",
       "47  2013-2014    Lebron James      True  27.400000\n",
       "49  2014-2015    Lebron James      True  30.050000\n",
       "51  2015-2016    Lebron James      True  26.285714\n",
       "53  2016-2017    Lebron James      True  32.833333\n",
       "55  2017-2018    Lebron James      True  34.000000\n",
       "58  2019-2020    Lebron James      True  27.619048\n",
       "60  2020-2021    Lebron James      True  23.333333\n",
       "63  2022-2023    Lebron James      True  24.500000\n",
       "0   1984-1985  Michael Jordan     False  28.207317\n",
       "2   1985-1986  Michael Jordan     False  22.666667\n",
       "4   1986-1987  Michael Jordan     False  37.085366\n",
       "6   1987-1988  Michael Jordan     False  34.975610\n",
       "8   1988-1989  Michael Jordan     False  32.506173\n",
       "10  1989-1990  Michael Jordan     False  33.573171\n",
       "12  1990-1991  Michael Jordan     False  31.463415\n",
       "14  1991-1992  Michael Jordan     False  30.050000\n",
       "16  1992-1993  Michael Jordan     False  32.576923\n",
       "18  1994-1995  Michael Jordan     False  26.882353\n",
       "20  1995-1996  Michael Jordan     False  30.378049\n",
       "22  1996-1997  Michael Jordan     False  29.646341\n",
       "24  1997-1998  Michael Jordan     False  28.743902\n",
       "26  2001-2002  Michael Jordan     False  18.581081\n",
       "27  2002-2003  Michael Jordan     False  20.000000\n",
       "1   1984-1985  Michael Jordan      True  29.250000\n",
       "3   1985-1986  Michael Jordan      True  43.666667\n",
       "5   1986-1987  Michael Jordan      True  35.666667\n",
       "7   1987-1988  Michael Jordan      True  36.300000\n",
       "9   1988-1989  Michael Jordan      True  34.764706\n",
       "11  1989-1990  Michael Jordan      True  36.687500\n",
       "13  1990-1991  Michael Jordan      True  31.117647\n",
       "15  1991-1992  Michael Jordan      True  34.500000\n",
       "17  1992-1993  Michael Jordan      True  35.052632\n",
       "19  1994-1995  Michael Jordan      True  31.500000\n",
       "21  1995-1996  Michael Jordan      True  30.666667\n",
       "23  1996-1997  Michael Jordan      True  31.052632\n",
       "25  1997-1998  Michael Jordan      True  32.380952"
      ]
     },
     "execution_count": 24,
     "metadata": {},
     "output_type": "execute_result"
    }
   ],
   "source": [
    "result_df = df.groupby(['Season', 'Player','Playoffs']).agg({'Points': 'mean'}).reset_index()\n",
    "result_df = result_df.sort_values(by=['Player', 'Playoffs', 'Season'])\n",
    "#result_df['Season Num'] = result_df.groupby(['Player','Playoffs'])['Season'].rank(ascending=True).astype(int)\n",
    "result_df\n",
    "#Create a Plot showing the trend in Points per game for each season of the player's career\n",
    "# fig = px.line(result_df, x='Season', y='PPG', color='Player', color_discrete_sequence=[\"Indigo\", \"LimeGreen\"],\n",
    "#                  labels={'PPG': 'Points Per Game', 'Season': 'Season', 'Player':'Player Name'},\n",
    "#                  hover_data=['Player'])\n",
    "# fig.update_layout(title_text='PPG for Each Season of Career', title_x=0.5)\n",
    "# fig.show()"
   ]
  },
  {
   "cell_type": "code",
   "execution_count": 15,
   "metadata": {},
   "outputs": [],
   "source": [
    "pd.set_option('display.max_rows', 70)  # Set the desired number of rows you want to display it"
   ]
  },
  {
   "cell_type": "code",
   "execution_count": 30,
   "metadata": {},
   "outputs": [
    {
     "data": {
      "application/vnd.plotly.v1+json": {
       "config": {
        "plotlyServerURL": "https://plot.ly"
       },
       "data": [
        {
         "customdata": [
          [
           "Lebron James",
           "2009-05-20",
           "ORL",
           "L"
          ],
          [
           "Lebron James",
           "2009-05-09",
           "ATL",
           "W"
          ],
          [
           "Lebron James",
           "2016-06-16",
           "GSW",
           "W"
          ],
          [
           "Lebron James",
           "2018-05-03",
           "TOR",
           "W"
          ],
          [
           "Lebron James",
           "2018-05-31",
           "GSW",
           "L"
          ],
          [
           "Lebron James",
           "2018-04-18",
           "IND",
           "W"
          ],
          [
           "Lebron James",
           "2010-04-25",
           "CHI",
           "W"
          ],
          [
           "Lebron James",
           "2014-05-12",
           "BRK",
           "W"
          ],
          [
           "Lebron James",
           "2016-06-13",
           "GSW",
           "W"
          ],
          [
           "Lebron James",
           "2020-10-09",
           "MIA",
           "L"
          ],
          [
           "Lebron James",
           "2018-04-29",
           "IND",
           "W"
          ],
          [
           "Lebron James",
           "2018-05-25",
           "BOS",
           "W"
          ],
          [
           "Lebron James",
           "2023-05-22",
           "DEN",
           "L"
          ],
          [
           "Lebron James",
           "2006-05-03",
           "WAS",
           "W"
          ],
          [
           "Lebron James",
           "2010-04-19",
           "CHI",
           "W"
          ],
          [
           "Lebron James",
           "2007-05-31",
           "DET",
           "W"
          ],
          [
           "Lebron James",
           "2015-05-12",
           "CHI",
           "W"
          ],
          [
           "Lebron James",
           "2018-04-25",
           "IND",
           "W"
          ],
          [
           "Lebron James",
           "2020-09-26",
           "DEN",
           "W"
          ],
          [
           "Lebron James",
           "2012-05-20",
           "IND",
           "W"
          ],
          [
           "Lebron James",
           "2010-05-07",
           "BOS",
           "W"
          ],
          [
           "Lebron James",
           "2012-06-07",
           "BOS",
           "W"
          ],
          [
           "Lebron James",
           "2017-06-12",
           "GSW",
           "L"
          ],
          [
           "Lebron James",
           "2017-05-03",
           "TOR",
           "W"
          ],
          [
           "Lebron James",
           "2009-04-18",
           "DET",
           "W"
          ],
          [
           "Lebron James",
           "2017-04-20",
           "IND",
           "W"
          ],
          [
           "Lebron James",
           "2017-05-25",
           "BOS",
           "W"
          ],
          [
           "Lebron James",
           "2020-08-29",
           "POR",
           "W"
          ],
          [
           "Lebron James",
           "2017-05-17",
           "BOS",
           "W"
          ],
          [
           "Lebron James",
           "2009-05-28",
           "ORL",
           "W"
          ],
          [
           "Lebron James",
           "2008-05-02",
           "WAS",
           "W"
          ],
          [
           "Lebron James",
           "2008-05-18",
           "BOS",
           "L"
          ],
          [
           "Lebron James",
           "2017-06-04",
           "GSW",
           "L"
          ],
          [
           "Lebron James",
           "2013-06-20",
           "SAS",
           "W"
          ],
          [
           "Lebron James",
           "2017-06-07",
           "GSW",
           "L"
          ],
          [
           "Lebron James",
           "2009-04-26",
           "DET",
           "W"
          ],
          [
           "Lebron James",
           "2017-05-19",
           "BOS",
           "W"
          ],
          [
           "Lebron James",
           "2020-08-24",
           "POR",
           "W"
          ],
          [
           "Lebron James",
           "2023-05-12",
           "GSW",
           "W"
          ],
          [
           "Lebron James",
           "2009-05-05",
           "ATL",
           "W"
          ],
          [
           "Lebron James",
           "2017-04-15",
           "IND",
           "W"
          ],
          [
           "Lebron James",
           "2010-05-01",
           "BOS",
           "W"
          ],
          [
           "Lebron James",
           "2015-06-09",
           "GSW",
           "W"
          ],
          [
           "Lebron James",
           "2018-05-15",
           "BOS",
           "L"
          ],
          [
           "Lebron James",
           "2007-05-08",
           "NJN",
           "W"
          ],
          [
           "Lebron James",
           "2009-05-24",
           "ORL",
           "L"
          ],
          [
           "Lebron James",
           "2010-04-22",
           "CHI",
           "L"
          ],
          [
           "Lebron James",
           "2016-05-23",
           "TOR",
           "L"
          ],
          [
           "Lebron James",
           "2018-05-05",
           "TOR",
           "W"
          ],
          [
           "Lebron James",
           "2015-06-14",
           "GSW",
           "L"
          ]
         ],
         "hovertemplate": "Player=%{customdata[0]}<br>Game Score=%{x}<br>Usage %=%{y}<br>Date=%{customdata[1]}<br>Opp Team=%{customdata[2]}<br>Result=%{customdata[3]}<extra></extra>",
         "legendgroup": "Lebron James",
         "marker": {
          "color": "LimeGreen",
          "symbol": "circle"
         },
         "mode": "markers",
         "name": "Lebron James",
         "orientation": "v",
         "showlegend": true,
         "type": "scatter",
         "x": [
          44.7,
          43.8,
          42.5,
          41.6,
          41.3,
          40.9,
          39.9,
          39.8,
          39.2,
          39.1,
          38.8,
          38.8,
          38.8,
          38.4,
          38.3,
          38.1,
          38.1,
          38.1,
          37.3,
          37.2,
          36.9,
          36.4,
          36.2,
          36,
          35.9,
          35.4,
          34.9,
          34.6,
          33.6,
          33.3,
          33,
          32.8,
          32.8,
          32.5,
          32.4,
          32.2,
          32.2,
          31.9,
          31.9,
          31.7,
          31.7,
          31.6,
          31.6,
          31.4,
          31.3,
          31.3,
          31.3,
          31.2,
          31,
          30.7
         ],
         "xaxis": "x",
         "y": [
          42.2,
          39.5,
          35.1,
          39.7,
          39,
          40.3,
          29.4,
          41,
          36.6,
          29.8,
          38,
          40.2,
          28.2,
          35.9,
          34.9,
          42.7,
          34,
          40.5,
          35.6,
          39.8,
          32.6,
          37.2,
          31.3,
          32.5,
          35.8,
          35.5,
          30.5,
          31.4,
          33.8,
          37.3,
          25.7,
          41.9,
          25.1,
          29,
          32.3,
          42.3,
          28.4,
          26,
          23.3,
          39.1,
          30,
          33.7,
          44.9,
          47.6,
          30.9,
          42.8,
          36.7,
          21.2,
          40.5,
          42.7
         ],
         "yaxis": "y"
        },
        {
         "customdata": [
          [
           "Michael Jordan",
           "1992-04-29",
           "MIA",
           "W"
          ],
          [
           "Michael Jordan",
           "1986-04-20",
           "BOS",
           "L"
          ],
          [
           "Michael Jordan",
           "1989-05-27",
           "DET",
           "W"
          ],
          [
           "Michael Jordan",
           "1997-04-27",
           "WSB",
           "W"
          ],
          [
           "Michael Jordan",
           "1989-05-13",
           "NYK",
           "W"
          ],
          [
           "Michael Jordan",
           "1993-05-31",
           "NYK",
           "W"
          ],
          [
           "Michael Jordan",
           "1988-05-01",
           "CLE",
           "W"
          ],
          [
           "Michael Jordan",
           "1989-05-14",
           "NYK",
           "W"
          ],
          [
           "Michael Jordan",
           "1995-04-28",
           "CHH",
           "W"
          ],
          [
           "Michael Jordan",
           "1993-06-16",
           "PHO",
           "W"
          ],
          [
           "Michael Jordan",
           "1990-05-13",
           "PHI",
           "W"
          ],
          [
           "Michael Jordan",
           "1992-04-24",
           "MIA",
           "W"
          ],
          [
           "Michael Jordan",
           "1988-05-05",
           "CLE",
           "L"
          ],
          [
           "Michael Jordan",
           "1989-05-05",
           "CLE",
           "L"
          ],
          [
           "Michael Jordan",
           "1998-05-19",
           "IND",
           "W"
          ],
          [
           "Michael Jordan",
           "1992-06-03",
           "POR",
           "W"
          ],
          [
           "Michael Jordan",
           "1990-05-11",
           "PHI",
           "L"
          ],
          [
           "Michael Jordan",
           "1990-05-16",
           "PHI",
           "W"
          ],
          [
           "Michael Jordan",
           "1990-05-09",
           "PHI",
           "W"
          ],
          [
           "Michael Jordan",
           "1989-05-03",
           "CLE",
           "W"
          ],
          [
           "Michael Jordan",
           "1990-05-28",
           "DET",
           "W"
          ],
          [
           "Michael Jordan",
           "1991-05-10",
           "PHI",
           "L"
          ],
          [
           "Michael Jordan",
           "1990-04-29",
           "MIL",
           "W"
          ],
          [
           "Michael Jordan",
           "1991-06-05",
           "LAL",
           "W"
          ],
          [
           "Michael Jordan",
           "1991-05-25",
           "DET",
           "W"
          ],
          [
           "Michael Jordan",
           "1996-05-27",
           "ORL",
           "W"
          ],
          [
           "Michael Jordan",
           "1989-05-19",
           "NYK",
           "W"
          ],
          [
           "Michael Jordan",
           "1988-04-28",
           "CLE",
           "W"
          ],
          [
           "Michael Jordan",
           "1997-06-04",
           "UTA",
           "W"
          ],
          [
           "Michael Jordan",
           "1989-05-16",
           "NYK",
           "L"
          ],
          [
           "Michael Jordan",
           "1990-05-01",
           "MIL",
           "L"
          ],
          [
           "Michael Jordan",
           "1990-05-26",
           "DET",
           "W"
          ],
          [
           "Michael Jordan",
           "1992-06-12",
           "POR",
           "W"
          ],
          [
           "Michael Jordan",
           "1989-05-07",
           "CLE",
           "W"
          ],
          [
           "Michael Jordan",
           "1989-05-09",
           "NYK",
           "W"
          ],
          [
           "Michael Jordan",
           "1991-06-02",
           "LAL",
           "L"
          ],
          [
           "Michael Jordan",
           "1998-04-29",
           "NJN",
           "W"
          ],
          [
           "Michael Jordan",
           "1993-06-11",
           "PHO",
           "W"
          ],
          [
           "Michael Jordan",
           "1996-05-21",
           "ORL",
           "W"
          ],
          [
           "Michael Jordan",
           "1990-05-07",
           "PHI",
           "W"
          ],
          [
           "Michael Jordan",
           "1997-05-06",
           "ATL",
           "W"
          ],
          [
           "Michael Jordan",
           "1992-05-17",
           "NYK",
           "W"
          ],
          [
           "Michael Jordan",
           "1995-05-16",
           "ORL",
           "L"
          ],
          [
           "Michael Jordan",
           "1987-04-23",
           "BOS",
           "L"
          ],
          [
           "Michael Jordan",
           "1993-05-11",
           "CLE",
           "W"
          ],
          [
           "Michael Jordan",
           "1993-06-18",
           "PHO",
           "L"
          ],
          [
           "Michael Jordan",
           "1995-05-10",
           "ORL",
           "W"
          ],
          [
           "Michael Jordan",
           "1988-05-03",
           "CLE",
           "L"
          ],
          [
           "Michael Jordan",
           "1991-04-30",
           "NYK",
           "W"
          ],
          [
           "Michael Jordan",
           "1991-05-21",
           "DET",
           "W"
          ]
         ],
         "hovertemplate": "Player=%{customdata[0]}<br>Game Score=%{x}<br>Usage %=%{y}<br>Date=%{customdata[1]}<br>Opp Team=%{customdata[2]}<br>Result=%{customdata[3]}<extra></extra>",
         "legendgroup": "Michael Jordan",
         "marker": {
          "color": "Indigo",
          "symbol": "circle"
         },
         "mode": "markers",
         "name": "Michael Jordan",
         "orientation": "v",
         "showlegend": true,
         "type": "scatter",
         "x": [
          49.8,
          47.2,
          42.8,
          42.8,
          41.4,
          41.3,
          40.3,
          39.9,
          39.8,
          38.9,
          38.4,
          37.7,
          37.4,
          37.3,
          37.1,
          36.9,
          35.9,
          35.8,
          35.7,
          35.6,
          35.4,
          35,
          34.8,
          34.7,
          34.6,
          34.6,
          34.3,
          34.2,
          34,
          33.9,
          33.5,
          33.4,
          33.3,
          32.7,
          32.7,
          32.6,
          32.6,
          31.7,
          31.5,
          31.3,
          31.1,
          31,
          31,
          30.8,
          30.7,
          30.7,
          30.4,
          30.2,
          29.7,
          29.4
         ],
         "xaxis": "x",
         "y": [
          40.5,
          44.5,
          38.2,
          44.8,
          34.6,
          46,
          43.8,
          42.9,
          44.4,
          44.6,
          41.1,
          44,
          35.4,
          45.4,
          33.5,
          36,
          44,
          34.6,
          45.3,
          47.3,
          37,
          43.8,
          32.4,
          32.2,
          25.8,
          35.4,
          36.6,
          42.5,
          37.8,
          39,
          42.7,
          40.5,
          37.8,
          40.3,
          26.8,
          39.2,
          28.2,
          44.7,
          34,
          38.8,
          35.1,
          45.2,
          31.3,
          35,
          46,
          39.2,
          39.1,
          37.7,
          35.8,
          34.2
         ],
         "yaxis": "y"
        }
       ],
       "layout": {
        "legend": {
         "title": {
          "text": "Player"
         },
         "tracegroupgap": 0
        },
        "margin": {
         "t": 60
        },
        "template": {
         "data": {
          "bar": [
           {
            "error_x": {
             "color": "#2a3f5f"
            },
            "error_y": {
             "color": "#2a3f5f"
            },
            "marker": {
             "line": {
              "color": "#E5ECF6",
              "width": 0.5
             },
             "pattern": {
              "fillmode": "overlay",
              "size": 10,
              "solidity": 0.2
             }
            },
            "type": "bar"
           }
          ],
          "barpolar": [
           {
            "marker": {
             "line": {
              "color": "#E5ECF6",
              "width": 0.5
             },
             "pattern": {
              "fillmode": "overlay",
              "size": 10,
              "solidity": 0.2
             }
            },
            "type": "barpolar"
           }
          ],
          "carpet": [
           {
            "aaxis": {
             "endlinecolor": "#2a3f5f",
             "gridcolor": "white",
             "linecolor": "white",
             "minorgridcolor": "white",
             "startlinecolor": "#2a3f5f"
            },
            "baxis": {
             "endlinecolor": "#2a3f5f",
             "gridcolor": "white",
             "linecolor": "white",
             "minorgridcolor": "white",
             "startlinecolor": "#2a3f5f"
            },
            "type": "carpet"
           }
          ],
          "choropleth": [
           {
            "colorbar": {
             "outlinewidth": 0,
             "ticks": ""
            },
            "type": "choropleth"
           }
          ],
          "contour": [
           {
            "colorbar": {
             "outlinewidth": 0,
             "ticks": ""
            },
            "colorscale": [
             [
              0,
              "#0d0887"
             ],
             [
              0.1111111111111111,
              "#46039f"
             ],
             [
              0.2222222222222222,
              "#7201a8"
             ],
             [
              0.3333333333333333,
              "#9c179e"
             ],
             [
              0.4444444444444444,
              "#bd3786"
             ],
             [
              0.5555555555555556,
              "#d8576b"
             ],
             [
              0.6666666666666666,
              "#ed7953"
             ],
             [
              0.7777777777777778,
              "#fb9f3a"
             ],
             [
              0.8888888888888888,
              "#fdca26"
             ],
             [
              1,
              "#f0f921"
             ]
            ],
            "type": "contour"
           }
          ],
          "contourcarpet": [
           {
            "colorbar": {
             "outlinewidth": 0,
             "ticks": ""
            },
            "type": "contourcarpet"
           }
          ],
          "heatmap": [
           {
            "colorbar": {
             "outlinewidth": 0,
             "ticks": ""
            },
            "colorscale": [
             [
              0,
              "#0d0887"
             ],
             [
              0.1111111111111111,
              "#46039f"
             ],
             [
              0.2222222222222222,
              "#7201a8"
             ],
             [
              0.3333333333333333,
              "#9c179e"
             ],
             [
              0.4444444444444444,
              "#bd3786"
             ],
             [
              0.5555555555555556,
              "#d8576b"
             ],
             [
              0.6666666666666666,
              "#ed7953"
             ],
             [
              0.7777777777777778,
              "#fb9f3a"
             ],
             [
              0.8888888888888888,
              "#fdca26"
             ],
             [
              1,
              "#f0f921"
             ]
            ],
            "type": "heatmap"
           }
          ],
          "heatmapgl": [
           {
            "colorbar": {
             "outlinewidth": 0,
             "ticks": ""
            },
            "colorscale": [
             [
              0,
              "#0d0887"
             ],
             [
              0.1111111111111111,
              "#46039f"
             ],
             [
              0.2222222222222222,
              "#7201a8"
             ],
             [
              0.3333333333333333,
              "#9c179e"
             ],
             [
              0.4444444444444444,
              "#bd3786"
             ],
             [
              0.5555555555555556,
              "#d8576b"
             ],
             [
              0.6666666666666666,
              "#ed7953"
             ],
             [
              0.7777777777777778,
              "#fb9f3a"
             ],
             [
              0.8888888888888888,
              "#fdca26"
             ],
             [
              1,
              "#f0f921"
             ]
            ],
            "type": "heatmapgl"
           }
          ],
          "histogram": [
           {
            "marker": {
             "pattern": {
              "fillmode": "overlay",
              "size": 10,
              "solidity": 0.2
             }
            },
            "type": "histogram"
           }
          ],
          "histogram2d": [
           {
            "colorbar": {
             "outlinewidth": 0,
             "ticks": ""
            },
            "colorscale": [
             [
              0,
              "#0d0887"
             ],
             [
              0.1111111111111111,
              "#46039f"
             ],
             [
              0.2222222222222222,
              "#7201a8"
             ],
             [
              0.3333333333333333,
              "#9c179e"
             ],
             [
              0.4444444444444444,
              "#bd3786"
             ],
             [
              0.5555555555555556,
              "#d8576b"
             ],
             [
              0.6666666666666666,
              "#ed7953"
             ],
             [
              0.7777777777777778,
              "#fb9f3a"
             ],
             [
              0.8888888888888888,
              "#fdca26"
             ],
             [
              1,
              "#f0f921"
             ]
            ],
            "type": "histogram2d"
           }
          ],
          "histogram2dcontour": [
           {
            "colorbar": {
             "outlinewidth": 0,
             "ticks": ""
            },
            "colorscale": [
             [
              0,
              "#0d0887"
             ],
             [
              0.1111111111111111,
              "#46039f"
             ],
             [
              0.2222222222222222,
              "#7201a8"
             ],
             [
              0.3333333333333333,
              "#9c179e"
             ],
             [
              0.4444444444444444,
              "#bd3786"
             ],
             [
              0.5555555555555556,
              "#d8576b"
             ],
             [
              0.6666666666666666,
              "#ed7953"
             ],
             [
              0.7777777777777778,
              "#fb9f3a"
             ],
             [
              0.8888888888888888,
              "#fdca26"
             ],
             [
              1,
              "#f0f921"
             ]
            ],
            "type": "histogram2dcontour"
           }
          ],
          "mesh3d": [
           {
            "colorbar": {
             "outlinewidth": 0,
             "ticks": ""
            },
            "type": "mesh3d"
           }
          ],
          "parcoords": [
           {
            "line": {
             "colorbar": {
              "outlinewidth": 0,
              "ticks": ""
             }
            },
            "type": "parcoords"
           }
          ],
          "pie": [
           {
            "automargin": true,
            "type": "pie"
           }
          ],
          "scatter": [
           {
            "fillpattern": {
             "fillmode": "overlay",
             "size": 10,
             "solidity": 0.2
            },
            "type": "scatter"
           }
          ],
          "scatter3d": [
           {
            "line": {
             "colorbar": {
              "outlinewidth": 0,
              "ticks": ""
             }
            },
            "marker": {
             "colorbar": {
              "outlinewidth": 0,
              "ticks": ""
             }
            },
            "type": "scatter3d"
           }
          ],
          "scattercarpet": [
           {
            "marker": {
             "colorbar": {
              "outlinewidth": 0,
              "ticks": ""
             }
            },
            "type": "scattercarpet"
           }
          ],
          "scattergeo": [
           {
            "marker": {
             "colorbar": {
              "outlinewidth": 0,
              "ticks": ""
             }
            },
            "type": "scattergeo"
           }
          ],
          "scattergl": [
           {
            "marker": {
             "colorbar": {
              "outlinewidth": 0,
              "ticks": ""
             }
            },
            "type": "scattergl"
           }
          ],
          "scattermapbox": [
           {
            "marker": {
             "colorbar": {
              "outlinewidth": 0,
              "ticks": ""
             }
            },
            "type": "scattermapbox"
           }
          ],
          "scatterpolar": [
           {
            "marker": {
             "colorbar": {
              "outlinewidth": 0,
              "ticks": ""
             }
            },
            "type": "scatterpolar"
           }
          ],
          "scatterpolargl": [
           {
            "marker": {
             "colorbar": {
              "outlinewidth": 0,
              "ticks": ""
             }
            },
            "type": "scatterpolargl"
           }
          ],
          "scatterternary": [
           {
            "marker": {
             "colorbar": {
              "outlinewidth": 0,
              "ticks": ""
             }
            },
            "type": "scatterternary"
           }
          ],
          "surface": [
           {
            "colorbar": {
             "outlinewidth": 0,
             "ticks": ""
            },
            "colorscale": [
             [
              0,
              "#0d0887"
             ],
             [
              0.1111111111111111,
              "#46039f"
             ],
             [
              0.2222222222222222,
              "#7201a8"
             ],
             [
              0.3333333333333333,
              "#9c179e"
             ],
             [
              0.4444444444444444,
              "#bd3786"
             ],
             [
              0.5555555555555556,
              "#d8576b"
             ],
             [
              0.6666666666666666,
              "#ed7953"
             ],
             [
              0.7777777777777778,
              "#fb9f3a"
             ],
             [
              0.8888888888888888,
              "#fdca26"
             ],
             [
              1,
              "#f0f921"
             ]
            ],
            "type": "surface"
           }
          ],
          "table": [
           {
            "cells": {
             "fill": {
              "color": "#EBF0F8"
             },
             "line": {
              "color": "white"
             }
            },
            "header": {
             "fill": {
              "color": "#C8D4E3"
             },
             "line": {
              "color": "white"
             }
            },
            "type": "table"
           }
          ]
         },
         "layout": {
          "annotationdefaults": {
           "arrowcolor": "#2a3f5f",
           "arrowhead": 0,
           "arrowwidth": 1
          },
          "autotypenumbers": "strict",
          "coloraxis": {
           "colorbar": {
            "outlinewidth": 0,
            "ticks": ""
           }
          },
          "colorscale": {
           "diverging": [
            [
             0,
             "#8e0152"
            ],
            [
             0.1,
             "#c51b7d"
            ],
            [
             0.2,
             "#de77ae"
            ],
            [
             0.3,
             "#f1b6da"
            ],
            [
             0.4,
             "#fde0ef"
            ],
            [
             0.5,
             "#f7f7f7"
            ],
            [
             0.6,
             "#e6f5d0"
            ],
            [
             0.7,
             "#b8e186"
            ],
            [
             0.8,
             "#7fbc41"
            ],
            [
             0.9,
             "#4d9221"
            ],
            [
             1,
             "#276419"
            ]
           ],
           "sequential": [
            [
             0,
             "#0d0887"
            ],
            [
             0.1111111111111111,
             "#46039f"
            ],
            [
             0.2222222222222222,
             "#7201a8"
            ],
            [
             0.3333333333333333,
             "#9c179e"
            ],
            [
             0.4444444444444444,
             "#bd3786"
            ],
            [
             0.5555555555555556,
             "#d8576b"
            ],
            [
             0.6666666666666666,
             "#ed7953"
            ],
            [
             0.7777777777777778,
             "#fb9f3a"
            ],
            [
             0.8888888888888888,
             "#fdca26"
            ],
            [
             1,
             "#f0f921"
            ]
           ],
           "sequentialminus": [
            [
             0,
             "#0d0887"
            ],
            [
             0.1111111111111111,
             "#46039f"
            ],
            [
             0.2222222222222222,
             "#7201a8"
            ],
            [
             0.3333333333333333,
             "#9c179e"
            ],
            [
             0.4444444444444444,
             "#bd3786"
            ],
            [
             0.5555555555555556,
             "#d8576b"
            ],
            [
             0.6666666666666666,
             "#ed7953"
            ],
            [
             0.7777777777777778,
             "#fb9f3a"
            ],
            [
             0.8888888888888888,
             "#fdca26"
            ],
            [
             1,
             "#f0f921"
            ]
           ]
          },
          "colorway": [
           "#636efa",
           "#EF553B",
           "#00cc96",
           "#ab63fa",
           "#FFA15A",
           "#19d3f3",
           "#FF6692",
           "#B6E880",
           "#FF97FF",
           "#FECB52"
          ],
          "font": {
           "color": "#2a3f5f"
          },
          "geo": {
           "bgcolor": "white",
           "lakecolor": "white",
           "landcolor": "#E5ECF6",
           "showlakes": true,
           "showland": true,
           "subunitcolor": "white"
          },
          "hoverlabel": {
           "align": "left"
          },
          "hovermode": "closest",
          "mapbox": {
           "style": "light"
          },
          "paper_bgcolor": "white",
          "plot_bgcolor": "#E5ECF6",
          "polar": {
           "angularaxis": {
            "gridcolor": "white",
            "linecolor": "white",
            "ticks": ""
           },
           "bgcolor": "#E5ECF6",
           "radialaxis": {
            "gridcolor": "white",
            "linecolor": "white",
            "ticks": ""
           }
          },
          "scene": {
           "xaxis": {
            "backgroundcolor": "#E5ECF6",
            "gridcolor": "white",
            "gridwidth": 2,
            "linecolor": "white",
            "showbackground": true,
            "ticks": "",
            "zerolinecolor": "white"
           },
           "yaxis": {
            "backgroundcolor": "#E5ECF6",
            "gridcolor": "white",
            "gridwidth": 2,
            "linecolor": "white",
            "showbackground": true,
            "ticks": "",
            "zerolinecolor": "white"
           },
           "zaxis": {
            "backgroundcolor": "#E5ECF6",
            "gridcolor": "white",
            "gridwidth": 2,
            "linecolor": "white",
            "showbackground": true,
            "ticks": "",
            "zerolinecolor": "white"
           }
          },
          "shapedefaults": {
           "line": {
            "color": "#2a3f5f"
           }
          },
          "ternary": {
           "aaxis": {
            "gridcolor": "white",
            "linecolor": "white",
            "ticks": ""
           },
           "baxis": {
            "gridcolor": "white",
            "linecolor": "white",
            "ticks": ""
           },
           "bgcolor": "#E5ECF6",
           "caxis": {
            "gridcolor": "white",
            "linecolor": "white",
            "ticks": ""
           }
          },
          "title": {
           "x": 0.05
          },
          "xaxis": {
           "automargin": true,
           "gridcolor": "white",
           "linecolor": "white",
           "ticks": "",
           "title": {
            "standoff": 15
           },
           "zerolinecolor": "white",
           "zerolinewidth": 2
          },
          "yaxis": {
           "automargin": true,
           "gridcolor": "white",
           "linecolor": "white",
           "ticks": "",
           "title": {
            "standoff": 15
           },
           "zerolinecolor": "white",
           "zerolinewidth": 2
          }
         }
        },
        "title": {
         "text": "Top 20 Career Game Scores vs Usage Rates",
         "x": 0.5
        },
        "xaxis": {
         "anchor": "y",
         "domain": [
          0,
          1
         ],
         "title": {
          "text": "Game Score"
         }
        },
        "yaxis": {
         "anchor": "x",
         "domain": [
          0,
          1
         ],
         "title": {
          "text": "Usage %"
         }
        }
       }
      }
     },
     "metadata": {},
     "output_type": "display_data"
    }
   ],
   "source": [
    "result_df = df[df['Playoffs'] == True]\n",
    "result_df= result_df.sort_values(by=['Player', 'Game Score'], ascending=[True, False])\n",
    "result_df = result_df.groupby('Player').head(50)\n",
    "fig = px.scatter(result_df, x=\"Game Score\", y=\"Usage %\", color=\"Player\",\n",
    "                  hover_data=['Player','Date','Opp Team', 'Result'], color_discrete_sequence=[\"LimeGreen\", \"Indigo\"])\n",
    "fig.update_layout(title_text='Top 20 Career Game Scores vs Usage Rates', title_x=0.5)\n",
    "fig.show()\n"
   ]
  }
 ],
 "metadata": {
  "kernelspec": {
   "display_name": "stat386",
   "language": "python",
   "name": "python3"
  },
  "language_info": {
   "codemirror_mode": {
    "name": "ipython",
    "version": 3
   },
   "file_extension": ".py",
   "mimetype": "text/x-python",
   "name": "python",
   "nbconvert_exporter": "python",
   "pygments_lexer": "ipython3",
   "version": "3.10.12"
  },
  "orig_nbformat": 4
 },
 "nbformat": 4,
 "nbformat_minor": 2
}
